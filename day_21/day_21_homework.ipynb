{
 "cells": [
  {
   "cell_type": "markdown",
   "metadata": {},
   "source": [
    "# Harder task - possibly homework\n",
    "* your task is to convert above text into a pandas dataframe\n",
    "* using just Selenium to make a list of dictionaries\n",
    "* where each dictionary is a row in the dataframe\n",
    "* and each key is a column name\n",
    "* and each value is a value in the column\n",
    "\n",
    "* save pandas to csv file- you already know this"
   ]
  },
  {
   "cell_type": "code",
   "execution_count": 83,
   "metadata": {},
   "outputs": [],
   "source": [
    "# let's import the selenium library\n",
    "import selenium\n",
    "# let's import the webdriver\n",
    "from selenium import webdriver\n",
    "# let's import the keys\n",
    "from selenium.webdriver.common.keys import Keys\n",
    "from selenium.webdriver.common.by import By\n",
    "# let's import the time\n",
    "import time\n",
    "# let's import the pandas for later use\n",
    "import pandas as pd\n",
    "from bs4 import BeautifulSoup\n",
    "\n",
    "import requests"
   ]
  },
  {
   "cell_type": "code",
   "execution_count": 59,
   "metadata": {},
   "outputs": [],
   "source": [
    "browser=webdriver.Chrome()"
   ]
  },
  {
   "cell_type": "code",
   "execution_count": 60,
   "metadata": {},
   "outputs": [],
   "source": [
    "browser.get('http://www.ss.com/en')\n",
    "assert 'SS' in browser.title "
   ]
  },
  {
   "cell_type": "code",
   "execution_count": 61,
   "metadata": {},
   "outputs": [
    {
     "data": {
      "text/plain": [
       "selenium.webdriver.remote.webelement.WebElement"
      ]
     },
     "execution_count": 61,
     "metadata": {},
     "output_type": "execute_result"
    }
   ],
   "source": [
    "offices = browser.find_element(By.ID, \"mtd_5457\")\n",
    "type(offices)"
   ]
  },
  {
   "cell_type": "code",
   "execution_count": 62,
   "metadata": {},
   "outputs": [],
   "source": [
    "offices.click()"
   ]
  },
  {
   "cell_type": "code",
   "execution_count": 63,
   "metadata": {},
   "outputs": [
    {
     "data": {
      "text/plain": [
       "selenium.webdriver.remote.webelement.WebElement"
      ]
     },
     "execution_count": 63,
     "metadata": {},
     "output_type": "execute_result"
    }
   ],
   "source": [
    "jelgava = browser.find_element(By.XPATH, '//a[@title=\"Jelgava and reg., Advertisements\"]')\n",
    "type(jelgava)"
   ]
  },
  {
   "cell_type": "code",
   "execution_count": 64,
   "metadata": {},
   "outputs": [],
   "source": [
    "jelgava.click()"
   ]
  },
  {
   "cell_type": "code",
   "execution_count": 65,
   "metadata": {},
   "outputs": [
    {
     "data": {
      "text/plain": [
       "'https://www.ss.com/en/real-estate/offices/jelgava-and-reg/'"
      ]
     },
     "execution_count": 65,
     "metadata": {},
     "output_type": "execute_result"
    }
   ],
   "source": [
    "browser.current_url"
   ]
  },
  {
   "cell_type": "code",
   "execution_count": 66,
   "metadata": {},
   "outputs": [
    {
     "data": {
      "text/plain": [
       "list"
      ]
     },
     "execution_count": 66,
     "metadata": {},
     "output_type": "execute_result"
    }
   ],
   "source": [
    "tables = browser.find_elements(By.TAG_NAME, 'table')\n",
    "len(tables)\n",
    "type(tables)\n"
   ]
  },
  {
   "cell_type": "code",
   "execution_count": 67,
   "metadata": {},
   "outputs": [
    {
     "data": {
      "text/plain": [
       "'Offices / Jelgava and reg.\\nAll advertisements\\nFor 2 days - 4\\nFor 5 days - 7\\n\\n\\nPrice:\\n-  Area:\\n-  Floor:\\n- \\nMode:\\n    List\\n    Album\\n    Map\\n     Deal type:\\nAll\\nSell\\nHand over\\nCity, civil parish:\\nAll\\nJelgava\\nOzolnieku pag.\\nStreet:\\n Advertisements\\ndate\\nCity/civil parish m2 Floor Price, m2 Price\\nTelpas Pērnavas ielā 10. Помещение под офис или учебный класс Telpa\\nJelgava 50 1/5 4 € 200 €/mon.\\nIzīrē kabinetu 30m2, Jelgavā. Telpā ir ūdens padeve ar kanalizācij\\nJelgava 30 2/3 5 € 150 €/mon.\\nIznomā biroja telpas, sastāv no pieņemamās telpas/gaiteņa un 3 kabin\\nJelgava 53 4/4 5.02 € 266 €/mon.\\nIzīrē telpas Jūgenstila namā -1 stāvā, ieeja atsevišķa no Zemgales p\\nJelgava 80 1/4 6.24 € 499 €/mon.\\nPārdod vai izīrē telpas Satiksmes ielā 33, Jelgava. Blakus liels aut\\nJelgava 25 1/9 740 € 18,500 €\\nIzīrē mēbelētu biroja telpu ēkas 4.stāvā, telpa aprīkota ar kondicio\\nJelgava 21 4/6 4 € 84 €/mon.\\nIznoma komerctelpas Raf rajonā ar kopējo platību 74.60m2. Telpas pi\\nJelgava 75 1/9 4.93 € 370 €/mon.\\nPieejamas 58 m2 plašas, gaišas un mājīgas telpas Jelgavas centrā. Ēk\\nJelgava 58 5/6 3 € 174 €/mon.\\nPiedāvājam ofisa/biroja telpas Jelgavas centrā, Barona Biznesa centr\\nJelgava 80 2/2 2.50 € 200 €/mon.\\nGaiša mājīga ofisa telpa 60 m2 Jelgavas centrā. Ēkā ir pieejams lift\\nJelgava 60 5/6 3 € 180 €/mon.\\nBiroja telpa 176m2. Mājīgas un siltas telpas. Birojā ir ūdens ievads\\nJelgava 176 5/6 3 € 528 €/mon.\\nPieejamas 40m2 gaišas mājīgas ofisa telpas Barona Biznesa centrā, Je\\nJelgava 40 4/6 3 € 120 €/mon.\\nIznomājam telpas ēkas pirmajā stāvā ar divām ieejām no ielas puses.\\nJelgava 81 1/3 10.90 € 883 €/mon.\\nSIA \"Novators\" iznomā telpas 148, 3 m2 platībā. Telpas atrodas ēkas\\nJelgava 148 2/2 1 € 148 €/mon.\\nIznomā modernas biroja telpas Biroja ēkā L3A. Telpas pieejamas ēka\\nJelgava 221 5/6 8 € 1,768 €/mon.\\nBarona biznesa centrs iznomā ofisa/biroja telpas Jelgavas centrā. Te\\nJelgava 58 4/6 2.50 € 145 €/mon.\\nTiek iznomāta gaiša un moderna biroja telpa ēkas 2.stāvā ar platību\\nOzolnieku pag.\\nOzolnieki 40 2/2 7.50 € 300 €/mon.\\nIzīrē kabinetu, vienu telpu ar ūdens pieslēgumu. WC gaitenī. Telpā n\\nJelgava 20 2/3 7 € 140 €/mon.\\nSIA \"Novators\" iznomā ēkas 2.stāva telpu birojam 35 m2 platībā.\\nJelgava 35 2/2 4.20 € 147 €/mon.\\nBiroja telpas sākot no 10 m2. Tikko pēc remonta pieejami kabineti\\nJelgava 12 1/3 8.33 € 100 €/mon.\\nPieņēmam rezervāciju uz skaistuma salona vai ofisa, jaunajā biznesa\\nJelgava 30 2/3 5 € 150 €/mon.\\nNo 1. novembra būs pieejama studio tipa telpa ar sanmezglu. Kabine\\nJelgava 30 2/3 5.67 € 170 €/mon.\\nСдаётся коммерческое помещение 55, 4 м2, в центре Озолниеках, 1 этаж\\nOzolnieku pag.\\nOzolnieki 55 1/2 8.55 € 470 €/mon.\\nIts Autocentrs īzīrē biroja telpas ar biroja mēbelēm ar kopējo platī\\nJelgava 20 2/2 4.50 € 90 €/mon.\\nVeicam tirdzniecības vietu vai ofisam rezervāciju jaunajā biznesa kv\\nJelgava 35 1/3 5 € 175 €/mon.\\nIznomā telpas Jelgavas centrā, Mātera ielā, 2.stāvā. Telpu platība\\nJelgava 100 2/3 3 € 300 €/mon.\\nSIA \"Novators\" iznomā ēkas 2.stāva telpu birojam 70 m2 platībā.\\nJelgava 70 2/2 4.20 € 294 €/mon.\\nSIA \"Novators\" iznomā biroja telpas Lāču iela 42F, Jelgavā, ēkas 2.s\\nJelgava 95 2/2 1.51 € 143 €/mon.\\nPieņēmam rezervāciju uz noliktava, skaistuma salona vai ofisa, inter\\nJelgava 15 1/3 4 € 60 €/mon.\\nIzīrējam telpas 1.stāvā. Telpas ir labā stāvoklī. Nomas maksa Eur 2,\\nJelgava 530 1/5 2.50 € 1,325 €/mon.\\nBiroja/ofisa telpas Jelgavas centrā- Barona Biznesa centrā. Telpas i\\nJelgava 83 4/5 2.51 € 208 €/mon.\\nPieejams kabinets Jelgavas centrā 29, 1 m2. Pieeja kabinetam darba d\\nJelgava 29 2/3 2.52 € 73 €/mon.\\nСдается офисное помещение 15 м2 в новом бизнес квартале на 3 этаже.\\nJelgava 15 3/3 6.67 € 100 €/mon.\\nTelpa projektā \"Raiņa kvartāls 29\" Pieejama telpa 2. stāvā platīb\\nJelgava 24 2/3 9.83 € 236 €/mon.\\nСдается офисное помещение 15 м2 в новом бизнес квартале на 2 этаже.\\nJelgava 15 2/3 5.67 € 85 €/mon.\\nIzīrē mēbeletu biroju telpu, mēbeles iespējams komplektēt pēc nomnie\\nJelgava 72 1/2 2.50 € 180 €/mon.\\nPīedāvājam nomā telpas , atrodas Latvijas Keramika bijusī ofisa ēka\\nJelgava 42 1/1 7.26 € 305 €/mon.\\n\\nShow selected advertisements  '"
      ]
     },
     "execution_count": 67,
     "metadata": {},
     "output_type": "execute_result"
    }
   ],
   "source": [
    "tables[1].text"
   ]
  },
  {
   "cell_type": "code",
   "execution_count": 68,
   "metadata": {},
   "outputs": [
    {
     "ename": "NoSuchElementException",
     "evalue": "Message: no such element: Unable to locate element: {\"method\":\"xpath\",\"selector\":\"//*[@id=\"table\"]/tbody/tr[2]/th\"}\n  (Session info: chrome=106.0.5249.119)\nStacktrace:\n0   chromedriver                        0x0000000102384598 chromedriver + 4404632\n1   chromedriver                        0x000000010230bfa3 chromedriver + 3911587\n2   chromedriver                        0x0000000101fb8e6a chromedriver + 425578\n3   chromedriver                        0x0000000101ff0c91 chromedriver + 654481\n4   chromedriver                        0x0000000101ff0e91 chromedriver + 654993\n5   chromedriver                        0x0000000102028274 chromedriver + 881268\n6   chromedriver                        0x000000010200edcd chromedriver + 777677\n7   chromedriver                        0x0000000102025f79 chromedriver + 872313\n8   chromedriver                        0x000000010200ebd3 chromedriver + 777171\n9   chromedriver                        0x0000000101fe3ced chromedriver + 601325\n10  chromedriver                        0x0000000101fe4e51 chromedriver + 605777\n11  chromedriver                        0x00000001023540ce chromedriver + 4206798\n12  chromedriver                        0x0000000102358797 chromedriver + 4224919\n13  chromedriver                        0x000000010235fa4f chromedriver + 4254287\n14  chromedriver                        0x00000001023594da chromedriver + 4228314\n15  chromedriver                        0x000000010233223f chromedriver + 4067903\n16  chromedriver                        0x00000001023766a8 chromedriver + 4347560\n17  chromedriver                        0x0000000102376816 chromedriver + 4347926\n18  chromedriver                        0x000000010238b8fe chromedriver + 4434174\n19  libsystem_pthread.dylib             0x00007ff80b6a04e1 _pthread_start + 125\n20  libsystem_pthread.dylib             0x00007ff80b69bf6b thread_start + 15\n",
     "output_type": "error",
     "traceback": [
      "\u001b[0;31m---------------------------------------------------------------------------\u001b[0m",
      "\u001b[0;31mNoSuchElementException\u001b[0m                    Traceback (most recent call last)",
      "Cell \u001b[0;32mIn [68], line 1\u001b[0m\n\u001b[0;32m----> 1\u001b[0m second_header \u001b[39m=\u001b[39m browser\u001b[39m.\u001b[39;49mfind_element(By\u001b[39m.\u001b[39;49mXPATH, \u001b[39m'\u001b[39;49m\u001b[39m//*[@id=\u001b[39;49m\u001b[39m\"\u001b[39;49m\u001b[39mtable\u001b[39;49m\u001b[39m\"\u001b[39;49m\u001b[39m]/tbody/tr[2]/th\u001b[39;49m\u001b[39m'\u001b[39;49m)\u001b[39m.\u001b[39mtext\n",
      "File \u001b[0;32m~/Code/Github/She-Goes-Tech22/venv/lib/python3.10/site-packages/selenium/webdriver/remote/webdriver.py:856\u001b[0m, in \u001b[0;36mWebDriver.find_element\u001b[0;34m(self, by, value)\u001b[0m\n\u001b[1;32m    853\u001b[0m     by \u001b[39m=\u001b[39m By\u001b[39m.\u001b[39mCSS_SELECTOR\n\u001b[1;32m    854\u001b[0m     value \u001b[39m=\u001b[39m \u001b[39m'\u001b[39m\u001b[39m[name=\u001b[39m\u001b[39m\"\u001b[39m\u001b[39m%s\u001b[39;00m\u001b[39m\"\u001b[39m\u001b[39m]\u001b[39m\u001b[39m'\u001b[39m \u001b[39m%\u001b[39m value\n\u001b[0;32m--> 856\u001b[0m \u001b[39mreturn\u001b[39;00m \u001b[39mself\u001b[39;49m\u001b[39m.\u001b[39;49mexecute(Command\u001b[39m.\u001b[39;49mFIND_ELEMENT, {\n\u001b[1;32m    857\u001b[0m     \u001b[39m'\u001b[39;49m\u001b[39musing\u001b[39;49m\u001b[39m'\u001b[39;49m: by,\n\u001b[1;32m    858\u001b[0m     \u001b[39m'\u001b[39;49m\u001b[39mvalue\u001b[39;49m\u001b[39m'\u001b[39;49m: value})[\u001b[39m'\u001b[39m\u001b[39mvalue\u001b[39m\u001b[39m'\u001b[39m]\n",
      "File \u001b[0;32m~/Code/Github/She-Goes-Tech22/venv/lib/python3.10/site-packages/selenium/webdriver/remote/webdriver.py:429\u001b[0m, in \u001b[0;36mWebDriver.execute\u001b[0;34m(self, driver_command, params)\u001b[0m\n\u001b[1;32m    427\u001b[0m response \u001b[39m=\u001b[39m \u001b[39mself\u001b[39m\u001b[39m.\u001b[39mcommand_executor\u001b[39m.\u001b[39mexecute(driver_command, params)\n\u001b[1;32m    428\u001b[0m \u001b[39mif\u001b[39;00m response:\n\u001b[0;32m--> 429\u001b[0m     \u001b[39mself\u001b[39;49m\u001b[39m.\u001b[39;49merror_handler\u001b[39m.\u001b[39;49mcheck_response(response)\n\u001b[1;32m    430\u001b[0m     response[\u001b[39m'\u001b[39m\u001b[39mvalue\u001b[39m\u001b[39m'\u001b[39m] \u001b[39m=\u001b[39m \u001b[39mself\u001b[39m\u001b[39m.\u001b[39m_unwrap_value(\n\u001b[1;32m    431\u001b[0m         response\u001b[39m.\u001b[39mget(\u001b[39m'\u001b[39m\u001b[39mvalue\u001b[39m\u001b[39m'\u001b[39m, \u001b[39mNone\u001b[39;00m))\n\u001b[1;32m    432\u001b[0m     \u001b[39mreturn\u001b[39;00m response\n",
      "File \u001b[0;32m~/Code/Github/She-Goes-Tech22/venv/lib/python3.10/site-packages/selenium/webdriver/remote/errorhandler.py:243\u001b[0m, in \u001b[0;36mErrorHandler.check_response\u001b[0;34m(self, response)\u001b[0m\n\u001b[1;32m    241\u001b[0m         alert_text \u001b[39m=\u001b[39m value[\u001b[39m'\u001b[39m\u001b[39malert\u001b[39m\u001b[39m'\u001b[39m]\u001b[39m.\u001b[39mget(\u001b[39m'\u001b[39m\u001b[39mtext\u001b[39m\u001b[39m'\u001b[39m)\n\u001b[1;32m    242\u001b[0m     \u001b[39mraise\u001b[39;00m exception_class(message, screen, stacktrace, alert_text)  \u001b[39m# type: ignore[call-arg]  # mypy is not smart enough here\u001b[39;00m\n\u001b[0;32m--> 243\u001b[0m \u001b[39mraise\u001b[39;00m exception_class(message, screen, stacktrace)\n",
      "\u001b[0;31mNoSuchElementException\u001b[0m: Message: no such element: Unable to locate element: {\"method\":\"xpath\",\"selector\":\"//*[@id=\"table\"]/tbody/tr[2]/th\"}\n  (Session info: chrome=106.0.5249.119)\nStacktrace:\n0   chromedriver                        0x0000000102384598 chromedriver + 4404632\n1   chromedriver                        0x000000010230bfa3 chromedriver + 3911587\n2   chromedriver                        0x0000000101fb8e6a chromedriver + 425578\n3   chromedriver                        0x0000000101ff0c91 chromedriver + 654481\n4   chromedriver                        0x0000000101ff0e91 chromedriver + 654993\n5   chromedriver                        0x0000000102028274 chromedriver + 881268\n6   chromedriver                        0x000000010200edcd chromedriver + 777677\n7   chromedriver                        0x0000000102025f79 chromedriver + 872313\n8   chromedriver                        0x000000010200ebd3 chromedriver + 777171\n9   chromedriver                        0x0000000101fe3ced chromedriver + 601325\n10  chromedriver                        0x0000000101fe4e51 chromedriver + 605777\n11  chromedriver                        0x00000001023540ce chromedriver + 4206798\n12  chromedriver                        0x0000000102358797 chromedriver + 4224919\n13  chromedriver                        0x000000010235fa4f chromedriver + 4254287\n14  chromedriver                        0x00000001023594da chromedriver + 4228314\n15  chromedriver                        0x000000010233223f chromedriver + 4067903\n16  chromedriver                        0x00000001023766a8 chromedriver + 4347560\n17  chromedriver                        0x0000000102376816 chromedriver + 4347926\n18  chromedriver                        0x000000010238b8fe chromedriver + 4434174\n19  libsystem_pthread.dylib             0x00007ff80b6a04e1 _pthread_start + 125\n20  libsystem_pthread.dylib             0x00007ff80b69bf6b thread_start + 15\n"
     ]
    }
   ],
   "source": [
    "second_header = browser.find_element(By.XPATH, '//*[@id=\"table\"]/tbody/tr[2]/th').text"
   ]
  },
  {
   "cell_type": "code",
   "execution_count": 70,
   "metadata": {},
   "outputs": [],
   "source": [
    "soup = BeautifulSoup(browser.page_source, 'lxml')"
   ]
  },
  {
   "cell_type": "code",
   "execution_count": 71,
   "metadata": {},
   "outputs": [],
   "source": [
    "def getColList(soup):\n",
    "    column_list = [\"description\",\"url\"] # we decided to that we need these two column names no matter the html\n",
    "    headline = soup.find(\"tr\", {\"id\":\"head_line\"}) #this will work as long as html has a table row with id head_line\n",
    "    headtds = headline.find_all(\"td\")\n",
    "    headcolumns = [el.text for el in headtds[1:]]  # this will get all column names starting with 2nd in HTML\n",
    "    column_list += headcolumns\n",
    "    return column_list"
   ]
  },
  {
   "cell_type": "code",
   "execution_count": 77,
   "metadata": {},
   "outputs": [
    {
     "data": {
      "text/plain": [
       "['description',\n",
       " 'url',\n",
       " 'City/civil parish',\n",
       " 'm2',\n",
       " 'Floor',\n",
       " 'Price, m2',\n",
       " 'Price']"
      ]
     },
     "execution_count": 77,
     "metadata": {},
     "output_type": "execute_result"
    }
   ],
   "source": [
    "column_names = getColList(soup)\n",
    "column_names"
   ]
  },
  {
   "cell_type": "code",
   "execution_count": 78,
   "metadata": {},
   "outputs": [],
   "source": [
    "def getRowList(soup):\n",
    "    trows = soup.find_all('tr')\n",
    "    aprows = [row for row in trows if row.get('id',\"\").startswith(\"tr_\") and not row.get('id',\"\").startswith(\"tr_bnr\") ]\n",
    "    return aprows"
   ]
  },
  {
   "cell_type": "code",
   "execution_count": 79,
   "metadata": {},
   "outputs": [],
   "source": [
    "def getRow(row, colist=column_names):\n",
    "    row_tds = row.find_all('td')\n",
    "    rowDict = {}\n",
    "    if len(row_tds) < 3: # a little sanity check\n",
    "        print(\"Hmm bad row\")\n",
    "        return rowDict\n",
    "    \n",
    "    rowDict[colist[0]] = row_tds[2].text # so the big assumption is that we always get description in 3rd column\n",
    "    rowDict[colist[1]] = \"https://ss.com\" + row_tds[1].find('a').get('href')\n",
    "    for td,key in zip(row_tds[3:],colist[2:]): \n",
    "        rowDict[key] = td.text\n",
    "    return rowDict"
   ]
  },
  {
   "cell_type": "code",
   "execution_count": 80,
   "metadata": {},
   "outputs": [],
   "source": [
    "def getRows(rowlist,colist=column_names):\n",
    "    return [getRow(row, colist=colist) for row in rowlist]"
   ]
  },
  {
   "cell_type": "code",
   "execution_count": 81,
   "metadata": {},
   "outputs": [],
   "source": [
    "def getDFfromURL(url):\n",
    "    # print(\"getting data from\", url)\n",
    "    req = requests.get(url)\n",
    "    if req.status_code != 200:\n",
    "        print(\"Request Fail with\", req.status_code)\n",
    "        return None # maybe return empty dataframe here\n",
    "    soup = BeautifulSoup(req.text, 'lxml')\n",
    "    column_names = getColList(soup)\n",
    "    rowlist = getRowList(soup)\n",
    "    rows = getRows(rowlist,colist=column_names)\n",
    "    return pd.DataFrame(rows)"
   ]
  },
  {
   "cell_type": "code",
   "execution_count": 84,
   "metadata": {},
   "outputs": [
    {
     "data": {
      "text/html": [
       "<div>\n",
       "<style scoped>\n",
       "    .dataframe tbody tr th:only-of-type {\n",
       "        vertical-align: middle;\n",
       "    }\n",
       "\n",
       "    .dataframe tbody tr th {\n",
       "        vertical-align: top;\n",
       "    }\n",
       "\n",
       "    .dataframe thead th {\n",
       "        text-align: right;\n",
       "    }\n",
       "</style>\n",
       "<table border=\"1\" class=\"dataframe\">\n",
       "  <thead>\n",
       "    <tr style=\"text-align: right;\">\n",
       "      <th></th>\n",
       "      <th>description</th>\n",
       "      <th>url</th>\n",
       "      <th>City/civil parish</th>\n",
       "      <th>m2</th>\n",
       "      <th>Floor</th>\n",
       "      <th>Price, m2</th>\n",
       "      <th>Price</th>\n",
       "    </tr>\n",
       "  </thead>\n",
       "  <tbody>\n",
       "    <tr>\n",
       "      <th>0</th>\n",
       "      <td>Telpas Pērnavas ielā 10. Помещение под офис ил...</td>\n",
       "      <td>https://ss.com/msg/en/real-estate/offices/jelg...</td>\n",
       "      <td>Jelgava</td>\n",
       "      <td>50</td>\n",
       "      <td>1/5</td>\n",
       "      <td>4 €</td>\n",
       "      <td>200  €/mon.</td>\n",
       "    </tr>\n",
       "    <tr>\n",
       "      <th>1</th>\n",
       "      <td>Izīrē kabinetu 30m2, Jelgavā. \\r\\nTelpā ir ūde...</td>\n",
       "      <td>https://ss.com/msg/en/real-estate/offices/jelg...</td>\n",
       "      <td>Jelgava</td>\n",
       "      <td>30</td>\n",
       "      <td>2/3</td>\n",
       "      <td>5 €</td>\n",
       "      <td>150  €/mon.</td>\n",
       "    </tr>\n",
       "    <tr>\n",
       "      <th>2</th>\n",
       "      <td>Iznomā biroja telpas, sastāv no pieņemamās tel...</td>\n",
       "      <td>https://ss.com/msg/en/real-estate/offices/jelg...</td>\n",
       "      <td>Jelgava</td>\n",
       "      <td>53</td>\n",
       "      <td>4/4</td>\n",
       "      <td>5.02 €</td>\n",
       "      <td>266  €/mon.</td>\n",
       "    </tr>\n",
       "    <tr>\n",
       "      <th>3</th>\n",
       "      <td>Izīrē telpas Jūgenstila namā -1 stāvā, ieeja a...</td>\n",
       "      <td>https://ss.com/msg/en/real-estate/offices/jelg...</td>\n",
       "      <td>Jelgava</td>\n",
       "      <td>80</td>\n",
       "      <td>1/4</td>\n",
       "      <td>6.24 €</td>\n",
       "      <td>499  €/mon.</td>\n",
       "    </tr>\n",
       "    <tr>\n",
       "      <th>4</th>\n",
       "      <td>Pārdod vai izīrē telpas Satiksmes ielā 33, Jel...</td>\n",
       "      <td>https://ss.com/msg/en/real-estate/offices/jelg...</td>\n",
       "      <td>Jelgava</td>\n",
       "      <td>25</td>\n",
       "      <td>1/9</td>\n",
       "      <td>740 €</td>\n",
       "      <td>18,500  €</td>\n",
       "    </tr>\n",
       "  </tbody>\n",
       "</table>\n",
       "</div>"
      ],
      "text/plain": [
       "                                         description  \\\n",
       "0  Telpas Pērnavas ielā 10. Помещение под офис ил...   \n",
       "1  Izīrē kabinetu 30m2, Jelgavā. \\r\\nTelpā ir ūde...   \n",
       "2  Iznomā biroja telpas, sastāv no pieņemamās tel...   \n",
       "3  Izīrē telpas Jūgenstila namā -1 stāvā, ieeja a...   \n",
       "4  Pārdod vai izīrē telpas Satiksmes ielā 33, Jel...   \n",
       "\n",
       "                                                 url City/civil parish  m2  \\\n",
       "0  https://ss.com/msg/en/real-estate/offices/jelg...           Jelgava  50   \n",
       "1  https://ss.com/msg/en/real-estate/offices/jelg...           Jelgava  30   \n",
       "2  https://ss.com/msg/en/real-estate/offices/jelg...           Jelgava  53   \n",
       "3  https://ss.com/msg/en/real-estate/offices/jelg...           Jelgava  80   \n",
       "4  https://ss.com/msg/en/real-estate/offices/jelg...           Jelgava  25   \n",
       "\n",
       "  Floor Price, m2        Price  \n",
       "0   1/5       4 €  200  €/mon.  \n",
       "1   2/3       5 €  150  €/mon.  \n",
       "2   4/4    5.02 €  266  €/mon.  \n",
       "3   1/4    6.24 €  499  €/mon.  \n",
       "4   1/9     740 €    18,500  €  "
      ]
     },
     "execution_count": 84,
     "metadata": {},
     "output_type": "execute_result"
    }
   ],
   "source": [
    "idf = getDFfromURL(browser.current_url)\n",
    "idf.head()"
   ]
  },
  {
   "cell_type": "code",
   "execution_count": null,
   "metadata": {},
   "outputs": [],
   "source": [
    "idf.to_csv(\"jalgava_office_list.csv\")"
   ]
  }
 ],
 "metadata": {
  "kernelspec": {
   "display_name": "Python 3.10.7 ('venv': venv)",
   "language": "python",
   "name": "python3"
  },
  "language_info": {
   "codemirror_mode": {
    "name": "ipython",
    "version": 3
   },
   "file_extension": ".py",
   "mimetype": "text/x-python",
   "name": "python",
   "nbconvert_exporter": "python",
   "pygments_lexer": "ipython3",
   "version": "3.10.7"
  },
  "orig_nbformat": 4,
  "vscode": {
   "interpreter": {
    "hash": "091e761e24fe66127ae47ddf3a06416362435e5d36a38a0dbf072a96138123f1"
   }
  }
 },
 "nbformat": 4,
 "nbformat_minor": 2
}
