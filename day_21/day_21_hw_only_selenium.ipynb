{
 "cells": [
  {
   "cell_type": "code",
   "execution_count": 2,
   "metadata": {},
   "outputs": [],
   "source": [
    "# let's import the selenium library\n",
    "import selenium\n",
    "# let's import the webdriver\n",
    "from selenium import webdriver\n",
    "# let's import the keys\n",
    "from selenium.webdriver.common.keys import Keys\n",
    "from selenium.webdriver.common.by import By\n",
    "# let's import the time\n",
    "import time\n",
    "# let's import the pandas for later use\n",
    "import pandas as pd\n",
    "from bs4 import BeautifulSoup\n",
    "import requests"
   ]
  },
  {
   "cell_type": "code",
   "execution_count": 3,
   "metadata": {},
   "outputs": [],
   "source": [
    "browser=webdriver.Chrome()"
   ]
  },
  {
   "cell_type": "code",
   "execution_count": 5,
   "metadata": {},
   "outputs": [],
   "source": [
    "browser.get('http://www.ss.com/en')\n",
    "assert 'SS' in browser.title "
   ]
  },
  {
   "cell_type": "code",
   "execution_count": 6,
   "metadata": {},
   "outputs": [],
   "source": [
    "offices = browser.find_element(By.ID, \"mtd_5457\")\n",
    "offices.click()"
   ]
  },
  {
   "cell_type": "code",
   "execution_count": 7,
   "metadata": {},
   "outputs": [],
   "source": [
    "jelgava = browser.find_element(By.XPATH, '//a[@title=\"Jelgava and reg., Advertisements\"]')\n",
    "jelgava.click()"
   ]
  },
  {
   "cell_type": "markdown",
   "metadata": {},
   "source": [
    "# Finding rows and data cells  (This part does not work, need more time) (Another solution at the end)\n",
    "First we loaded the page and section of the page we want "
   ]
  },
  {
   "cell_type": "markdown",
   "metadata": {},
   "source": [
    "Now we are getting the header names of the table"
   ]
  },
  {
   "cell_type": "code",
   "execution_count": 8,
   "metadata": {},
   "outputs": [
    {
     "data": {
      "text/plain": [
       "6"
      ]
     },
     "execution_count": 8,
     "metadata": {},
     "output_type": "execute_result"
    }
   ],
   "source": [
    "table_head = browser.find_elements(By.XPATH,\"//*[@id='head_line']/td\")\n",
    "len(table_head)"
   ]
  },
  {
   "cell_type": "markdown",
   "metadata": {},
   "source": [
    "When we need to get rows"
   ]
  },
  {
   "cell_type": "code",
   "execution_count": 9,
   "metadata": {},
   "outputs": [
    {
     "data": {
      "text/plain": [
       "36"
      ]
     },
     "execution_count": 9,
     "metadata": {},
     "output_type": "execute_result"
    }
   ],
   "source": [
    "table_rows = browser.find_elements(By.TAG_NAME,\"tr\")\n",
    "row_list = [row for row in table_rows if row.get_attribute('id').startswith(\"tr_\") and not row.get_attribute('id').startswith(\"tr_bnr\") ]\n",
    "\n",
    "len(row_list)\n"
   ]
  },
  {
   "cell_type": "markdown",
   "metadata": {},
   "source": [
    "Getting the data in the table by cells\n",
    "\n",
    "! still looking for solution"
   ]
  },
  {
   "cell_type": "code",
   "execution_count": 10,
   "metadata": {},
   "outputs": [
    {
     "data": {
      "text/plain": [
       "0"
      ]
     },
     "execution_count": 10,
     "metadata": {},
     "output_type": "execute_result"
    }
   ],
   "source": [
    "data_cells = [cell for cell in row_list if cell.get_attribute(\"msga\")]\n",
    "cells = browser.find_elements(By.XPATH,\"//*[@id='filter_frm']/table[2]/tbody/tr/td\")\n",
    "len(cells)\n",
    "\n",
    "\n",
    "len(data_cells)"
   ]
  },
  {
   "cell_type": "markdown",
   "metadata": {},
   "source": [
    "#Another solution (still get error)\n",
    "* First we create dataframe with column names\n",
    "* we find elements for each column using XPATH\n",
    "* when using loop assign data to each cell and present in table"
   ]
  },
  {
   "cell_type": "code",
   "execution_count": 11,
   "metadata": {},
   "outputs": [
    {
     "name": "stderr",
     "output_type": "stream",
     "text": [
      "/var/folders/d2/lk9wxmfn7l1b8l10pld39yxw0000gn/T/ipykernel_20934/4073283070.py:12: FutureWarning: The frame.append method is deprecated and will be removed from pandas in a future version. Use pandas.concat instead.\n",
      "  office_df = office_df.append({\n",
      "/var/folders/d2/lk9wxmfn7l1b8l10pld39yxw0000gn/T/ipykernel_20934/4073283070.py:12: FutureWarning: The frame.append method is deprecated and will be removed from pandas in a future version. Use pandas.concat instead.\n",
      "  office_df = office_df.append({\n",
      "/var/folders/d2/lk9wxmfn7l1b8l10pld39yxw0000gn/T/ipykernel_20934/4073283070.py:12: FutureWarning: The frame.append method is deprecated and will be removed from pandas in a future version. Use pandas.concat instead.\n",
      "  office_df = office_df.append({\n",
      "/var/folders/d2/lk9wxmfn7l1b8l10pld39yxw0000gn/T/ipykernel_20934/4073283070.py:12: FutureWarning: The frame.append method is deprecated and will be removed from pandas in a future version. Use pandas.concat instead.\n",
      "  office_df = office_df.append({\n",
      "/var/folders/d2/lk9wxmfn7l1b8l10pld39yxw0000gn/T/ipykernel_20934/4073283070.py:12: FutureWarning: The frame.append method is deprecated and will be removed from pandas in a future version. Use pandas.concat instead.\n",
      "  office_df = office_df.append({\n",
      "/var/folders/d2/lk9wxmfn7l1b8l10pld39yxw0000gn/T/ipykernel_20934/4073283070.py:12: FutureWarning: The frame.append method is deprecated and will be removed from pandas in a future version. Use pandas.concat instead.\n",
      "  office_df = office_df.append({\n",
      "/var/folders/d2/lk9wxmfn7l1b8l10pld39yxw0000gn/T/ipykernel_20934/4073283070.py:12: FutureWarning: The frame.append method is deprecated and will be removed from pandas in a future version. Use pandas.concat instead.\n",
      "  office_df = office_df.append({\n",
      "/var/folders/d2/lk9wxmfn7l1b8l10pld39yxw0000gn/T/ipykernel_20934/4073283070.py:12: FutureWarning: The frame.append method is deprecated and will be removed from pandas in a future version. Use pandas.concat instead.\n",
      "  office_df = office_df.append({\n",
      "/var/folders/d2/lk9wxmfn7l1b8l10pld39yxw0000gn/T/ipykernel_20934/4073283070.py:12: FutureWarning: The frame.append method is deprecated and will be removed from pandas in a future version. Use pandas.concat instead.\n",
      "  office_df = office_df.append({\n",
      "/var/folders/d2/lk9wxmfn7l1b8l10pld39yxw0000gn/T/ipykernel_20934/4073283070.py:12: FutureWarning: The frame.append method is deprecated and will be removed from pandas in a future version. Use pandas.concat instead.\n",
      "  office_df = office_df.append({\n",
      "/var/folders/d2/lk9wxmfn7l1b8l10pld39yxw0000gn/T/ipykernel_20934/4073283070.py:12: FutureWarning: The frame.append method is deprecated and will be removed from pandas in a future version. Use pandas.concat instead.\n",
      "  office_df = office_df.append({\n",
      "/var/folders/d2/lk9wxmfn7l1b8l10pld39yxw0000gn/T/ipykernel_20934/4073283070.py:12: FutureWarning: The frame.append method is deprecated and will be removed from pandas in a future version. Use pandas.concat instead.\n",
      "  office_df = office_df.append({\n",
      "/var/folders/d2/lk9wxmfn7l1b8l10pld39yxw0000gn/T/ipykernel_20934/4073283070.py:12: FutureWarning: The frame.append method is deprecated and will be removed from pandas in a future version. Use pandas.concat instead.\n",
      "  office_df = office_df.append({\n",
      "/var/folders/d2/lk9wxmfn7l1b8l10pld39yxw0000gn/T/ipykernel_20934/4073283070.py:12: FutureWarning: The frame.append method is deprecated and will be removed from pandas in a future version. Use pandas.concat instead.\n",
      "  office_df = office_df.append({\n",
      "/var/folders/d2/lk9wxmfn7l1b8l10pld39yxw0000gn/T/ipykernel_20934/4073283070.py:12: FutureWarning: The frame.append method is deprecated and will be removed from pandas in a future version. Use pandas.concat instead.\n",
      "  office_df = office_df.append({\n",
      "/var/folders/d2/lk9wxmfn7l1b8l10pld39yxw0000gn/T/ipykernel_20934/4073283070.py:12: FutureWarning: The frame.append method is deprecated and will be removed from pandas in a future version. Use pandas.concat instead.\n",
      "  office_df = office_df.append({\n",
      "/var/folders/d2/lk9wxmfn7l1b8l10pld39yxw0000gn/T/ipykernel_20934/4073283070.py:12: FutureWarning: The frame.append method is deprecated and will be removed from pandas in a future version. Use pandas.concat instead.\n",
      "  office_df = office_df.append({\n",
      "/var/folders/d2/lk9wxmfn7l1b8l10pld39yxw0000gn/T/ipykernel_20934/4073283070.py:12: FutureWarning: The frame.append method is deprecated and will be removed from pandas in a future version. Use pandas.concat instead.\n",
      "  office_df = office_df.append({\n",
      "/var/folders/d2/lk9wxmfn7l1b8l10pld39yxw0000gn/T/ipykernel_20934/4073283070.py:12: FutureWarning: The frame.append method is deprecated and will be removed from pandas in a future version. Use pandas.concat instead.\n",
      "  office_df = office_df.append({\n",
      "/var/folders/d2/lk9wxmfn7l1b8l10pld39yxw0000gn/T/ipykernel_20934/4073283070.py:12: FutureWarning: The frame.append method is deprecated and will be removed from pandas in a future version. Use pandas.concat instead.\n",
      "  office_df = office_df.append({\n",
      "/var/folders/d2/lk9wxmfn7l1b8l10pld39yxw0000gn/T/ipykernel_20934/4073283070.py:12: FutureWarning: The frame.append method is deprecated and will be removed from pandas in a future version. Use pandas.concat instead.\n",
      "  office_df = office_df.append({\n",
      "/var/folders/d2/lk9wxmfn7l1b8l10pld39yxw0000gn/T/ipykernel_20934/4073283070.py:12: FutureWarning: The frame.append method is deprecated and will be removed from pandas in a future version. Use pandas.concat instead.\n",
      "  office_df = office_df.append({\n",
      "/var/folders/d2/lk9wxmfn7l1b8l10pld39yxw0000gn/T/ipykernel_20934/4073283070.py:12: FutureWarning: The frame.append method is deprecated and will be removed from pandas in a future version. Use pandas.concat instead.\n",
      "  office_df = office_df.append({\n",
      "/var/folders/d2/lk9wxmfn7l1b8l10pld39yxw0000gn/T/ipykernel_20934/4073283070.py:12: FutureWarning: The frame.append method is deprecated and will be removed from pandas in a future version. Use pandas.concat instead.\n",
      "  office_df = office_df.append({\n",
      "/var/folders/d2/lk9wxmfn7l1b8l10pld39yxw0000gn/T/ipykernel_20934/4073283070.py:12: FutureWarning: The frame.append method is deprecated and will be removed from pandas in a future version. Use pandas.concat instead.\n",
      "  office_df = office_df.append({\n",
      "/var/folders/d2/lk9wxmfn7l1b8l10pld39yxw0000gn/T/ipykernel_20934/4073283070.py:12: FutureWarning: The frame.append method is deprecated and will be removed from pandas in a future version. Use pandas.concat instead.\n",
      "  office_df = office_df.append({\n",
      "/var/folders/d2/lk9wxmfn7l1b8l10pld39yxw0000gn/T/ipykernel_20934/4073283070.py:12: FutureWarning: The frame.append method is deprecated and will be removed from pandas in a future version. Use pandas.concat instead.\n",
      "  office_df = office_df.append({\n",
      "/var/folders/d2/lk9wxmfn7l1b8l10pld39yxw0000gn/T/ipykernel_20934/4073283070.py:12: FutureWarning: The frame.append method is deprecated and will be removed from pandas in a future version. Use pandas.concat instead.\n",
      "  office_df = office_df.append({\n",
      "/var/folders/d2/lk9wxmfn7l1b8l10pld39yxw0000gn/T/ipykernel_20934/4073283070.py:12: FutureWarning: The frame.append method is deprecated and will be removed from pandas in a future version. Use pandas.concat instead.\n",
      "  office_df = office_df.append({\n",
      "/var/folders/d2/lk9wxmfn7l1b8l10pld39yxw0000gn/T/ipykernel_20934/4073283070.py:12: FutureWarning: The frame.append method is deprecated and will be removed from pandas in a future version. Use pandas.concat instead.\n",
      "  office_df = office_df.append({\n",
      "/var/folders/d2/lk9wxmfn7l1b8l10pld39yxw0000gn/T/ipykernel_20934/4073283070.py:12: FutureWarning: The frame.append method is deprecated and will be removed from pandas in a future version. Use pandas.concat instead.\n",
      "  office_df = office_df.append({\n",
      "/var/folders/d2/lk9wxmfn7l1b8l10pld39yxw0000gn/T/ipykernel_20934/4073283070.py:12: FutureWarning: The frame.append method is deprecated and will be removed from pandas in a future version. Use pandas.concat instead.\n",
      "  office_df = office_df.append({\n",
      "/var/folders/d2/lk9wxmfn7l1b8l10pld39yxw0000gn/T/ipykernel_20934/4073283070.py:12: FutureWarning: The frame.append method is deprecated and will be removed from pandas in a future version. Use pandas.concat instead.\n",
      "  office_df = office_df.append({\n",
      "/var/folders/d2/lk9wxmfn7l1b8l10pld39yxw0000gn/T/ipykernel_20934/4073283070.py:12: FutureWarning: The frame.append method is deprecated and will be removed from pandas in a future version. Use pandas.concat instead.\n",
      "  office_df = office_df.append({\n",
      "/var/folders/d2/lk9wxmfn7l1b8l10pld39yxw0000gn/T/ipykernel_20934/4073283070.py:12: FutureWarning: The frame.append method is deprecated and will be removed from pandas in a future version. Use pandas.concat instead.\n",
      "  office_df = office_df.append({\n",
      "/var/folders/d2/lk9wxmfn7l1b8l10pld39yxw0000gn/T/ipykernel_20934/4073283070.py:12: FutureWarning: The frame.append method is deprecated and will be removed from pandas in a future version. Use pandas.concat instead.\n",
      "  office_df = office_df.append({\n"
     ]
    },
    {
     "ename": "IndexError",
     "evalue": "list index out of range",
     "output_type": "error",
     "traceback": [
      "\u001b[0;31m---------------------------------------------------------------------------\u001b[0m",
      "\u001b[0;31mIndexError\u001b[0m                                Traceback (most recent call last)",
      "Cell \u001b[0;32mIn [11], line 18\u001b[0m\n\u001b[1;32m      9\u001b[0m price \u001b[39m=\u001b[39m browser\u001b[39m.\u001b[39mfind_elements(By\u001b[39m.\u001b[39mXPATH,\u001b[39m'\u001b[39m\u001b[39m//*[@id=\u001b[39m\u001b[39m\"\u001b[39m\u001b[39mfilter_frm\u001b[39m\u001b[39m\"\u001b[39m\u001b[39m]/table[2]/tbody/tr/td[8]\u001b[39m\u001b[39m'\u001b[39m)\n\u001b[1;32m     11\u001b[0m \u001b[39mfor\u001b[39;00m row \u001b[39min\u001b[39;00m \u001b[39mrange\u001b[39m(\u001b[39mlen\u001b[39m(advertisements)):\n\u001b[1;32m     12\u001b[0m    office_df \u001b[39m=\u001b[39m office_df\u001b[39m.\u001b[39mappend({\n\u001b[1;32m     13\u001b[0m            \u001b[39m'\u001b[39m\u001b[39mAdvertisements\u001b[39m\u001b[39m'\u001b[39m: advertisements[row]\u001b[39m.\u001b[39mtext,\n\u001b[1;32m     14\u001b[0m            \u001b[39m'\u001b[39m\u001b[39mDate\u001b[39m\u001b[39m'\u001b[39m: date[row]\u001b[39m.\u001b[39mtext,\n\u001b[1;32m     15\u001b[0m            \u001b[39m'\u001b[39m\u001b[39mCity\u001b[39m\u001b[39m'\u001b[39m: city[row]\u001b[39m.\u001b[39mtext,\n\u001b[1;32m     16\u001b[0m            \u001b[39m'\u001b[39m\u001b[39mSpace\u001b[39m\u001b[39m'\u001b[39m: m_2[row]\u001b[39m.\u001b[39mtext,\n\u001b[1;32m     17\u001b[0m            \u001b[39m'\u001b[39m\u001b[39mFloor\u001b[39m\u001b[39m'\u001b[39m: floor[row]\u001b[39m.\u001b[39mtext,\n\u001b[0;32m---> 18\u001b[0m            \u001b[39m'\u001b[39m\u001b[39mPrice for m2\u001b[39m\u001b[39m'\u001b[39m: price_m2[row]\u001b[39m.\u001b[39mtext,\n\u001b[1;32m     19\u001b[0m            \u001b[39m'\u001b[39m\u001b[39mPrice\u001b[39m\u001b[39m'\u001b[39m: price[row]\u001b[39m.\u001b[39mtext,\n\u001b[1;32m     20\u001b[0m            },ignore_index\u001b[39m=\u001b[39m\u001b[39mTrue\u001b[39;00m)\n\u001b[1;32m     22\u001b[0m \u001b[39mlen\u001b[39m(office_df)\n",
      "\u001b[0;31mIndexError\u001b[0m: list index out of range"
     ]
    }
   ],
   "source": [
    "\n",
    "office_df = pd.DataFrame(columns=['Advertisements', 'Date', 'City', 'Space', 'Floor', 'Price for m2', 'Price'])\n",
    "\n",
    "advertisements = browser.find_elements(By.XPATH, '//*[@id=\"filter_frm\"]/table[2]/tbody/tr/td[2]')\n",
    "date = browser.find_elements(By.XPATH,'//*[@id=\"filter_frm\"]/table[2]/tbody/tr/td[3]')\n",
    "city = browser.find_elements(By.XPATH,'//*[@id=\"filter_frm\"]/table[2]/tbody/tr/td[4]')\n",
    "m_2 = browser.find_elements(By.XPATH,'//*[@id=\"filter_frm\"]/table[2]/tbody/tr/td[5]')\n",
    "floor = browser.find_elements(By.XPATH,'//*[@id=\"filter_frm\"]/table[2]/tbody/tr/td[6]')\n",
    "price_m2 = browser.find_elements(By.XPATH,'//*[@id=\"filter_frm\"]/table[2]/tbody/tr/td[7]')\n",
    "price = browser.find_elements(By.XPATH,'//*[@id=\"filter_frm\"]/table[2]/tbody/tr/td[8]')\n",
    "\n",
    "for row in range(len(advertisements)):\n",
    "   office_df = office_df.append({\n",
    "           'Advertisements': advertisements[row].text,\n",
    "           'Date': date[row].text,\n",
    "           'City': city[row].text,\n",
    "           'Space': m_2[row].text,\n",
    "           'Floor': floor[row].text,\n",
    "           'Price for m2': price_m2[row].text,\n",
    "           'Price': price[row].text,\n",
    "           },ignore_index=True)\n",
    "    \n",
    "len(office_df)"
   ]
  }
 ],
 "metadata": {
  "kernelspec": {
   "display_name": "Python 3.10.7 ('venv': venv)",
   "language": "python",
   "name": "python3"
  },
  "language_info": {
   "codemirror_mode": {
    "name": "ipython",
    "version": 3
   },
   "file_extension": ".py",
   "mimetype": "text/x-python",
   "name": "python",
   "nbconvert_exporter": "python",
   "pygments_lexer": "ipython3",
   "version": "3.10.7"
  },
  "orig_nbformat": 4,
  "vscode": {
   "interpreter": {
    "hash": "091e761e24fe66127ae47ddf3a06416362435e5d36a38a0dbf072a96138123f1"
   }
  }
 },
 "nbformat": 4,
 "nbformat_minor": 2
}
