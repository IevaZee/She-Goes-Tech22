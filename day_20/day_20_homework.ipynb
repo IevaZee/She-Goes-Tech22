{
 "cells": [
  {
   "cell_type": "markdown",
   "metadata": {},
   "source": [
    "# TODO scrape any car data from ss.com\n",
    "* clean up prices as numerics\n",
    "* group by make and model\n",
    "* plot the data - pricing for sure\n",
    "* if you do more advanced analysis that also could be used for the final project\n",
    "\n",
    "* for those who want scraping part of final project\n",
    "* scrape data from somewhere else - maybe Lithuanian ss.com or wikipedia?"
   ]
  },
  {
   "cell_type": "code",
   "execution_count": 2,
   "metadata": {},
   "outputs": [],
   "source": [
    "import pandas as pd\n",
    "import requests\n",
    "from bs4 import BeautifulSoup"
   ]
  },
  {
   "cell_type": "code",
   "execution_count": 3,
   "metadata": {},
   "outputs": [
    {
     "data": {
      "text/plain": [
       "200"
      ]
     },
     "execution_count": 3,
     "metadata": {},
     "output_type": "execute_result"
    }
   ],
   "source": [
    "# url = \"https://www.ss.com/en/electronics/phones/mobile-phones/apple/sell/riga_f/\"\n",
    "# url\n"
   ]
  },
  {
   "cell_type": "code",
   "execution_count": null,
   "metadata": {},
   "outputs": [],
   "source": [
    "# req = requests.get(url)  #extracting the html\n",
    "# req.status_code"
   ]
  },
  {
   "cell_type": "code",
   "execution_count": 4,
   "metadata": {},
   "outputs": [
    {
     "data": {
      "text/plain": [
       "<title>SS.COM Mobile phones - Apple, Prices, Sell - Advertisements. Riga</title>"
      ]
     },
     "execution_count": 4,
     "metadata": {},
     "output_type": "execute_result"
    }
   ],
   "source": [
    "soup = BeautifulSoup(req.text, 'lxml') \n",
    "soup.title"
   ]
  },
  {
   "cell_type": "code",
   "execution_count": 5,
   "metadata": {},
   "outputs": [],
   "source": [
    "# lets combine the above cells into a function which will always get us columns\n",
    "def getColList(soup):\n",
    "    column_list = [\"description\",\"url\"] # we decided to that we need these two column names no matter the html\n",
    "    headline = soup.find(\"tr\", {\"id\":\"head_line\"}) #this will work as long as html has a table row with id head_line\n",
    "    headtds = headline.find_all(\"td\")\n",
    "    headcolumns = [el.text for el in headtds[1:]]  # this will get all column names starting with 2nd in HTML\n",
    "    column_list += headcolumns\n",
    "    return column_list"
   ]
  },
  {
   "cell_type": "code",
   "execution_count": 6,
   "metadata": {},
   "outputs": [
    {
     "data": {
      "text/plain": [
       "['description', 'url', 'Model', 'Volume, Gb', 'Cond.', 'Price']"
      ]
     },
     "execution_count": 6,
     "metadata": {},
     "output_type": "execute_result"
    }
   ],
   "source": [
    "column_names = getColList(soup)\n",
    "column_names  # to be used later when creating our table"
   ]
  },
  {
   "cell_type": "code",
   "execution_count": 7,
   "metadata": {},
   "outputs": [],
   "source": [
    "def getRowList(soup):\n",
    "    trows = soup.find_all('tr')\n",
    "    aprows = [row for row in trows if row.get('id',\"\").startswith(\"tr_\") and not row.get('id',\"\").startswith(\"tr_bnr\") ]\n",
    "    return aprows"
   ]
  },
  {
   "cell_type": "code",
   "execution_count": 8,
   "metadata": {},
   "outputs": [],
   "source": [
    "# from row get dictionary with values \n",
    "def getRow(row, colist=column_names):\n",
    "    row_tds = row.find_all('td')\n",
    "    rowDict = {}\n",
    "    if len(row_tds) < 3: # a little sanity check\n",
    "        print(\"Hmm bad row\")\n",
    "        return rowDict\n",
    "    \n",
    "    rowDict[colist[0]] = row_tds[2].text # so the big assumption is that we always get description in 3rd column\n",
    "    rowDict[colist[1]] = \"https://ss.com\" + row_tds[1].find('a').get('href')\n",
    "    for td,key in zip(row_tds[3:],colist[2:]): \n",
    "        rowDict[key] = td.text\n",
    "    return rowDict"
   ]
  },
  {
   "cell_type": "code",
   "execution_count": 9,
   "metadata": {},
   "outputs": [],
   "source": [
    "def getRows(rowlist,colist=column_names):\n",
    "    return [getRow(row, colist=colist) for row in rowlist]"
   ]
  },
  {
   "cell_type": "code",
   "execution_count": 10,
   "metadata": {},
   "outputs": [],
   "source": [
    "def getDFfromURL(url):\n",
    "    # print(\"getting data from\", url)\n",
    "    req = requests.get(url)\n",
    "    if req.status_code != 200:\n",
    "        print(\"Request Fail with\", req.status_code)\n",
    "        return None # maybe return empty dataframe here\n",
    "    soup = BeautifulSoup(req.text, 'lxml')\n",
    "    column_names = getColList(soup)\n",
    "    rowlist = getRowList(soup)\n",
    "    rows = getRows(rowlist,colist=column_names)\n",
    "    return pd.DataFrame(rows)\n",
    "    "
   ]
  },
  {
   "cell_type": "code",
   "execution_count": 11,
   "metadata": {},
   "outputs": [
    {
     "data": {
      "text/html": [
       "<div>\n",
       "<style scoped>\n",
       "    .dataframe tbody tr th:only-of-type {\n",
       "        vertical-align: middle;\n",
       "    }\n",
       "\n",
       "    .dataframe tbody tr th {\n",
       "        vertical-align: top;\n",
       "    }\n",
       "\n",
       "    .dataframe thead th {\n",
       "        text-align: right;\n",
       "    }\n",
       "</style>\n",
       "<table border=\"1\" class=\"dataframe\">\n",
       "  <thead>\n",
       "    <tr style=\"text-align: right;\">\n",
       "      <th></th>\n",
       "      <th>description</th>\n",
       "      <th>url</th>\n",
       "      <th>Model</th>\n",
       "      <th>Year</th>\n",
       "      <th>Volume</th>\n",
       "      <th>Run</th>\n",
       "      <th>Price</th>\n",
       "    </tr>\n",
       "  </thead>\n",
       "  <tbody>\n",
       "    <tr>\n",
       "      <th>0</th>\n",
       "      <td>Pārdodu Audi kungu, kurš piedzimis iepriekšējā...</td>\n",
       "      <td>https://ss.com/msg/en/transport/cars/audi/a3/b...</td>\n",
       "      <td>A3</td>\n",
       "      <td>1997</td>\n",
       "      <td>1.6</td>\n",
       "      <td>220 thd.</td>\n",
       "      <td>489  €</td>\n",
       "    </tr>\n",
       "    <tr>\n",
       "      <th>1</th>\n",
       "      <td>Auto ir apbruzats laikā gaitā, bet kalpo labi....</td>\n",
       "      <td>https://ss.com/msg/en/transport/cars/audi/a4/b...</td>\n",
       "      <td>A4</td>\n",
       "      <td>1996</td>\n",
       "      <td>1.9D</td>\n",
       "      <td>605 thd.</td>\n",
       "      <td>1,100  €</td>\n",
       "    </tr>\n",
       "    <tr>\n",
       "      <th>2</th>\n",
       "      <td>В хорошем состоянии</td>\n",
       "      <td>https://ss.com/msg/en/transport/cars/audi/100/...</td>\n",
       "      <td>100</td>\n",
       "      <td>1994</td>\n",
       "      <td>2.0</td>\n",
       "      <td>326 thd.</td>\n",
       "      <td>1,100  €</td>\n",
       "    </tr>\n",
       "    <tr>\n",
       "      <th>3</th>\n",
       "      <td>Pārdod audi a3 ar nesen izietu skati, auto lab...</td>\n",
       "      <td>https://ss.com/msg/en/transport/cars/audi/a3/c...</td>\n",
       "      <td>A3</td>\n",
       "      <td>2007</td>\n",
       "      <td>1.9D</td>\n",
       "      <td>334 thd.</td>\n",
       "      <td>4,800  €</td>\n",
       "    </tr>\n",
       "    <tr>\n",
       "      <th>4</th>\n",
       "      <td>Tikko no Vācijas. \\r\\nAuto tehniski un vizuāli...</td>\n",
       "      <td>https://ss.com/msg/en/transport/cars/audi/a4/b...</td>\n",
       "      <td>A4</td>\n",
       "      <td>1995</td>\n",
       "      <td>2.6</td>\n",
       "      <td>209 thd.</td>\n",
       "      <td>5,200  €</td>\n",
       "    </tr>\n",
       "  </tbody>\n",
       "</table>\n",
       "</div>"
      ],
      "text/plain": [
       "                                         description  \\\n",
       "0  Pārdodu Audi kungu, kurš piedzimis iepriekšējā...   \n",
       "1  Auto ir apbruzats laikā gaitā, bet kalpo labi....   \n",
       "2                                В хорошем состоянии   \n",
       "3  Pārdod audi a3 ar nesen izietu skati, auto lab...   \n",
       "4  Tikko no Vācijas. \\r\\nAuto tehniski un vizuāli...   \n",
       "\n",
       "                                                 url Model  Year Volume  \\\n",
       "0  https://ss.com/msg/en/transport/cars/audi/a3/b...    A3  1997    1.6   \n",
       "1  https://ss.com/msg/en/transport/cars/audi/a4/b...    A4  1996   1.9D   \n",
       "2  https://ss.com/msg/en/transport/cars/audi/100/...   100  1994    2.0   \n",
       "3  https://ss.com/msg/en/transport/cars/audi/a3/c...    A3  2007   1.9D   \n",
       "4  https://ss.com/msg/en/transport/cars/audi/a4/b...    A4  1995    2.6   \n",
       "\n",
       "        Run     Price  \n",
       "0  220 thd.    489  €  \n",
       "1  605 thd.  1,100  €  \n",
       "2  326 thd.  1,100  €  \n",
       "3  334 thd.  4,800  €  \n",
       "4  209 thd.  5,200  €  "
      ]
     },
     "execution_count": 11,
     "metadata": {},
     "output_type": "execute_result"
    }
   ],
   "source": [
    "audi_cars = \"https://www.ss.com/en/transport/cars/audi/sell/\"\n",
    "idf = getDFfromURL(audi_cars)\n",
    "idf.head()"
   ]
  },
  {
   "cell_type": "code",
   "execution_count": 12,
   "metadata": {},
   "outputs": [
    {
     "ename": "TypeError",
     "evalue": "'tuple' object is not callable",
     "output_type": "error",
     "traceback": [
      "\u001b[0;31m---------------------------------------------------------------------------\u001b[0m",
      "\u001b[0;31mTypeError\u001b[0m                                 Traceback (most recent call last)",
      "Cell \u001b[0;32mIn [12], line 1\u001b[0m\n\u001b[0;32m----> 1\u001b[0m idf\u001b[39m.\u001b[39;49mshape()\n",
      "\u001b[0;31mTypeError\u001b[0m: 'tuple' object is not callable"
     ]
    }
   ],
   "source": [
    "idf.shape()"
   ]
  }
 ],
 "metadata": {
  "kernelspec": {
   "display_name": "Python 3.10.7 ('venv': venv)",
   "language": "python",
   "name": "python3"
  },
  "language_info": {
   "codemirror_mode": {
    "name": "ipython",
    "version": 3
   },
   "file_extension": ".py",
   "mimetype": "text/x-python",
   "name": "python",
   "nbconvert_exporter": "python",
   "pygments_lexer": "ipython3",
   "version": "3.10.7"
  },
  "orig_nbformat": 4,
  "vscode": {
   "interpreter": {
    "hash": "091e761e24fe66127ae47ddf3a06416362435e5d36a38a0dbf072a96138123f1"
   }
  }
 },
 "nbformat": 4,
 "nbformat_minor": 2
}
