{
 "cells": [
  {
   "cell_type": "markdown",
   "metadata": {},
   "source": [
    "# HOTEL REVIEWS\n",
    "* scrape TripAdvisor \n",
    "* and booking.com to get reviews about different aspects\n",
    "* make a dataframe of both url datas and compare, location, cleanliness, staff and etc.\n",
    "* save new deata to csv file and plot comparison\n",
    "* or save to sqlite file\n",
    "* make good visualization"
   ]
  },
  {
   "cell_type": "markdown",
   "metadata": {},
   "source": [
    "# FINANCE\n",
    "* Get finance data from https://mint.intuit.com\n",
    "* Make budget plan"
   ]
  },
  {
   "cell_type": "markdown",
   "metadata": {},
   "source": [
    "#  Sales data \n",
    "* (https://www.youtube.com/watch?v=eMOA1pPVUc4)"
   ]
  },
  {
   "cell_type": "markdown",
   "metadata": {},
   "source": [
    "# AIRBNB\n",
    "* https://public.opendatasoft.com/explore/dataset/airbnb-listings/table/?disjunctive.host_verifications&disjunctive.amenities&disjunctive.features\n",
    "* Analyse the most popular, cheapest/expensive by the city or smth"
   ]
  },
  {
   "cell_type": "markdown",
   "metadata": {},
   "source": [
    "# GAME\n",
    "* Snake game using Pygame\n",
    "- create square screen\n",
    "- divide screen to little squares\n",
    "- create moving square and define how it will be moving\n",
    "- create bite/fruit\n",
    "- make records of points, wins, how many times played\n",
    "- save everything to sql database\n",
    "\n",
    "* Battlefield game (better because can be two players)\n"
   ]
  },
  {
   "cell_type": "markdown",
   "metadata": {},
   "source": []
  }
 ],
 "metadata": {
  "language_info": {
   "name": "python"
  },
  "orig_nbformat": 4
 },
 "nbformat": 4,
 "nbformat_minor": 2
}
