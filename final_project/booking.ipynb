{
 "cells": [
  {
   "cell_type": "code",
   "execution_count": 2,
   "metadata": {},
   "outputs": [],
   "source": [
    "from selenium import webdriver\n",
    "from selenium.webdriver.common.keys import Keys\n",
    "from selenium.webdriver.common.by import By\n",
    "from datetime import datetime\n",
    "import datetime\n",
    "\n",
    "import pandas as pd\n",
    "from bs4 import BeautifulSoup"
   ]
  },
  {
   "cell_type": "code",
   "execution_count": 63,
   "metadata": {},
   "outputs": [],
   "source": [
    "browser=webdriver.Chrome()"
   ]
  },
  {
   "cell_type": "code",
   "execution_count": 64,
   "metadata": {},
   "outputs": [],
   "source": [
    "browser.get('https://www.booking.com/searchresults.en-gb.html?label=gen173nr-1FCAEoggI46AdIM1gEaIgBiAEBmAEJuAEHyAEM2AEB6AEB-AELiAIBqAIDuAKb2cObBsACAdICJDhlMmM1NjM0LThmOGUtNDM0MS1iMzc1LTc3NDNkYmUyOGQ0M9gCBuACAQ&sid=0a8a8b8d828997d72f8bdd29187f9767&aid=304142&checkin=2022-12-05&checkout=2022-12-11&dest_id=-2601889&dest_type=city&srpvid=2890666654be039a&nflt=review_score%3D80%3Breview_score%3D70%3Breview_score%3D60%3Breview_score%3D90')"
   ]
  },
  {
   "cell_type": "code",
   "execution_count": 65,
   "metadata": {},
   "outputs": [],
   "source": [
    "accept = browser.find_element(By.ID, \"onetrust-accept-btn-handler\")\n",
    "accept.click()"
   ]
  },
  {
   "cell_type": "code",
   "execution_count": 66,
   "metadata": {},
   "outputs": [],
   "source": [
    "bsobj = BeautifulSoup(browser.page_source, 'lxml')"
   ]
  },
  {
   "cell_type": "code",
   "execution_count": 67,
   "metadata": {},
   "outputs": [
    {
     "data": {
      "text/plain": [
       "25"
      ]
     },
     "execution_count": 67,
     "metadata": {},
     "output_type": "execute_result"
    }
   ],
   "source": [
    "hotels = []\n",
    "for name in bsobj.findAll('div',{'data-testid':'title'}):\n",
    "  hotels.append(name.text.strip())\n",
    "hotels[:5]\n",
    "len(hotels)"
   ]
  },
  {
   "cell_type": "code",
   "execution_count": 68,
   "metadata": {},
   "outputs": [
    {
     "data": {
      "text/plain": [
       "25"
      ]
     },
     "execution_count": 68,
     "metadata": {},
     "output_type": "execute_result"
    }
   ],
   "source": [
    "ratings = []\n",
    "for rating in bsobj.findAll('div',{'class':'d10a6220b4'}):\n",
    "      ratings.append(rating.text.strip())\n",
    "len(ratings)\n"
   ]
  },
  {
   "cell_type": "code",
   "execution_count": 79,
   "metadata": {},
   "outputs": [
    {
     "data": {
      "text/plain": [
       "25"
      ]
     },
     "execution_count": 79,
     "metadata": {},
     "output_type": "execute_result"
    }
   ],
   "source": [
    "reviews = []\n",
    "for review in bsobj.findAll('div',{'class':'db63693c62'}):\n",
    "  reviews.append(review.text.replace('reviews','').strip())\n",
    "reviews[:5]\n",
    "len(reviews)\n"
   ]
  },
  {
   "cell_type": "code",
   "execution_count": 76,
   "metadata": {},
   "outputs": [
    {
     "data": {
      "text/plain": [
       "25"
      ]
     },
     "execution_count": 76,
     "metadata": {},
     "output_type": "execute_result"
    }
   ],
   "source": [
    "price = []\n",
    "for p in bsobj.findAll('span',{'class':['fbd1d3018c', 'bd73d13072']}):\n",
    "  price.append(p.text.replace('€','').strip()) \n",
    "price[:5]\n",
    "len(price)\n"
   ]
  },
  {
   "cell_type": "code",
   "execution_count": 82,
   "metadata": {},
   "outputs": [],
   "source": [
    "d1 = {'Hotel':hotels,'Ratings':ratings,'No_of_Reviews':reviews,'Price, €':price}\n",
    "df = pd.DataFrame.from_dict(d1)"
   ]
  },
  {
   "cell_type": "code",
   "execution_count": 86,
   "metadata": {},
   "outputs": [
    {
     "data": {
      "text/html": [
       "<div>\n",
       "<style scoped>\n",
       "    .dataframe tbody tr th:only-of-type {\n",
       "        vertical-align: middle;\n",
       "    }\n",
       "\n",
       "    .dataframe tbody tr th {\n",
       "        vertical-align: top;\n",
       "    }\n",
       "\n",
       "    .dataframe thead th {\n",
       "        text-align: right;\n",
       "    }\n",
       "</style>\n",
       "<table border=\"1\" class=\"dataframe\">\n",
       "  <thead>\n",
       "    <tr style=\"text-align: right;\">\n",
       "      <th></th>\n",
       "      <th>Hotel</th>\n",
       "      <th>Ratings</th>\n",
       "      <th>No_of_Reviews</th>\n",
       "      <th>Price, €</th>\n",
       "    </tr>\n",
       "  </thead>\n",
       "  <tbody>\n",
       "    <tr>\n",
       "      <th>0</th>\n",
       "      <td>Stayo Apartments Southbank</td>\n",
       "      <td>8.7</td>\n",
       "      <td>69</td>\n",
       "      <td>2,350</td>\n",
       "    </tr>\n",
       "    <tr>\n",
       "      <th>1</th>\n",
       "      <td>Sun Street Hotel</td>\n",
       "      <td>9.1</td>\n",
       "      <td>42</td>\n",
       "      <td>3,483</td>\n",
       "    </tr>\n",
       "    <tr>\n",
       "      <th>2</th>\n",
       "      <td>One Hundred Shoreditch</td>\n",
       "      <td>8.6</td>\n",
       "      <td>1,599</td>\n",
       "      <td>2,455</td>\n",
       "    </tr>\n",
       "    <tr>\n",
       "      <th>3</th>\n",
       "      <td>Marlin Apartments London Bridge - Empire Square</td>\n",
       "      <td>7.6</td>\n",
       "      <td>916</td>\n",
       "      <td>2,046</td>\n",
       "    </tr>\n",
       "    <tr>\n",
       "      <th>4</th>\n",
       "      <td>St. James' Court, A Taj Hotel, London</td>\n",
       "      <td>8.7</td>\n",
       "      <td>3,516</td>\n",
       "      <td>2,607</td>\n",
       "    </tr>\n",
       "    <tr>\n",
       "      <th>5</th>\n",
       "      <td>Nobu Hotel London Portman Square</td>\n",
       "      <td>8.5</td>\n",
       "      <td>859</td>\n",
       "      <td>5,341</td>\n",
       "    </tr>\n",
       "    <tr>\n",
       "      <th>6</th>\n",
       "      <td>The Hoxton, Shoreditch</td>\n",
       "      <td>8.4</td>\n",
       "      <td>1,523</td>\n",
       "      <td>2,628</td>\n",
       "    </tr>\n",
       "    <tr>\n",
       "      <th>7</th>\n",
       "      <td>Tulse Hill Luxury Cosy Rooms</td>\n",
       "      <td>8.4</td>\n",
       "      <td>82</td>\n",
       "      <td>720</td>\n",
       "    </tr>\n",
       "    <tr>\n",
       "      <th>8</th>\n",
       "      <td>Radisson Blu Edwardian Kenilworth Hotel, London</td>\n",
       "      <td>8.1</td>\n",
       "      <td>2,229</td>\n",
       "      <td>2,911</td>\n",
       "    </tr>\n",
       "    <tr>\n",
       "      <th>9</th>\n",
       "      <td>Hotel Xenia - Autograph Collection</td>\n",
       "      <td>8.1</td>\n",
       "      <td>66</td>\n",
       "      <td>2,157</td>\n",
       "    </tr>\n",
       "    <tr>\n",
       "      <th>10</th>\n",
       "      <td>Stunning New Development in Barking</td>\n",
       "      <td>7.1</td>\n",
       "      <td>25</td>\n",
       "      <td>853</td>\n",
       "    </tr>\n",
       "    <tr>\n",
       "      <th>11</th>\n",
       "      <td>Canary Riverside Plaza Hotel</td>\n",
       "      <td>8.4</td>\n",
       "      <td>607</td>\n",
       "      <td>2,865</td>\n",
       "    </tr>\n",
       "    <tr>\n",
       "      <th>12</th>\n",
       "      <td>COMO The Halkin</td>\n",
       "      <td>9.1</td>\n",
       "      <td>75</td>\n",
       "      <td>4,062</td>\n",
       "    </tr>\n",
       "    <tr>\n",
       "      <th>13</th>\n",
       "      <td>Park Grand London Kensington</td>\n",
       "      <td>8.0</td>\n",
       "      <td>5,999</td>\n",
       "      <td>1,794</td>\n",
       "    </tr>\n",
       "    <tr>\n",
       "      <th>14</th>\n",
       "      <td>The Capital Hotel, Apartments &amp; Townhouse</td>\n",
       "      <td>8.2</td>\n",
       "      <td>703</td>\n",
       "      <td>3,004</td>\n",
       "    </tr>\n",
       "    <tr>\n",
       "      <th>15</th>\n",
       "      <td>citizenM London Victoria Station</td>\n",
       "      <td>8.8</td>\n",
       "      <td>743</td>\n",
       "      <td>2,166</td>\n",
       "    </tr>\n",
       "    <tr>\n",
       "      <th>16</th>\n",
       "      <td>Holiday Inn London - Regent's Park, an IHG Hotel</td>\n",
       "      <td>7.8</td>\n",
       "      <td>2,902</td>\n",
       "      <td>1,908</td>\n",
       "    </tr>\n",
       "    <tr>\n",
       "      <th>17</th>\n",
       "      <td>Bentley London</td>\n",
       "      <td>7.2</td>\n",
       "      <td>344</td>\n",
       "      <td>2,388</td>\n",
       "    </tr>\n",
       "    <tr>\n",
       "      <th>18</th>\n",
       "      <td>Bankside Hotel, Autograph Collection</td>\n",
       "      <td>9.5</td>\n",
       "      <td>332</td>\n",
       "      <td>2,914</td>\n",
       "    </tr>\n",
       "    <tr>\n",
       "      <th>19</th>\n",
       "      <td>St. Ermin's Hotel, Autograph Collection</td>\n",
       "      <td>9.2</td>\n",
       "      <td>580</td>\n",
       "      <td>2,987</td>\n",
       "    </tr>\n",
       "    <tr>\n",
       "      <th>20</th>\n",
       "      <td>The Beaufort</td>\n",
       "      <td>7.4</td>\n",
       "      <td>1,227</td>\n",
       "      <td>3,079</td>\n",
       "    </tr>\n",
       "    <tr>\n",
       "      <th>21</th>\n",
       "      <td>Courthouse Hotel Shoreditch</td>\n",
       "      <td>6.8</td>\n",
       "      <td>680</td>\n",
       "      <td>2,331</td>\n",
       "    </tr>\n",
       "    <tr>\n",
       "      <th>22</th>\n",
       "      <td>Aloft London Excel</td>\n",
       "      <td>8.3</td>\n",
       "      <td>3,018</td>\n",
       "      <td>2,361</td>\n",
       "    </tr>\n",
       "    <tr>\n",
       "      <th>23</th>\n",
       "      <td>nhow London</td>\n",
       "      <td>9.0</td>\n",
       "      <td>2,670</td>\n",
       "      <td>2,902</td>\n",
       "    </tr>\n",
       "    <tr>\n",
       "      <th>24</th>\n",
       "      <td>citizenM Tower of London</td>\n",
       "      <td>8.8</td>\n",
       "      <td>5,524</td>\n",
       "      <td>2,206</td>\n",
       "    </tr>\n",
       "  </tbody>\n",
       "</table>\n",
       "</div>"
      ],
      "text/plain": [
       "                                               Hotel Ratings No_of_Reviews  \\\n",
       "0                         Stayo Apartments Southbank     8.7            69   \n",
       "1                                   Sun Street Hotel     9.1            42   \n",
       "2                             One Hundred Shoreditch     8.6         1,599   \n",
       "3    Marlin Apartments London Bridge - Empire Square     7.6           916   \n",
       "4              St. James' Court, A Taj Hotel, London     8.7         3,516   \n",
       "5                   Nobu Hotel London Portman Square     8.5           859   \n",
       "6                             The Hoxton, Shoreditch     8.4         1,523   \n",
       "7                       Tulse Hill Luxury Cosy Rooms     8.4            82   \n",
       "8    Radisson Blu Edwardian Kenilworth Hotel, London     8.1         2,229   \n",
       "9                 Hotel Xenia - Autograph Collection     8.1            66   \n",
       "10               Stunning New Development in Barking     7.1            25   \n",
       "11                      Canary Riverside Plaza Hotel     8.4           607   \n",
       "12                                   COMO The Halkin     9.1            75   \n",
       "13                      Park Grand London Kensington     8.0         5,999   \n",
       "14         The Capital Hotel, Apartments & Townhouse     8.2           703   \n",
       "15                  citizenM London Victoria Station     8.8           743   \n",
       "16  Holiday Inn London - Regent's Park, an IHG Hotel     7.8         2,902   \n",
       "17                                    Bentley London     7.2           344   \n",
       "18              Bankside Hotel, Autograph Collection     9.5           332   \n",
       "19           St. Ermin's Hotel, Autograph Collection     9.2           580   \n",
       "20                                      The Beaufort     7.4         1,227   \n",
       "21                       Courthouse Hotel Shoreditch     6.8           680   \n",
       "22                                Aloft London Excel     8.3         3,018   \n",
       "23                                       nhow London     9.0         2,670   \n",
       "24                          citizenM Tower of London     8.8         5,524   \n",
       "\n",
       "   Price, €  \n",
       "0     2,350  \n",
       "1     3,483  \n",
       "2     2,455  \n",
       "3     2,046  \n",
       "4     2,607  \n",
       "5     5,341  \n",
       "6     2,628  \n",
       "7       720  \n",
       "8     2,911  \n",
       "9     2,157  \n",
       "10      853  \n",
       "11    2,865  \n",
       "12    4,062  \n",
       "13    1,794  \n",
       "14    3,004  \n",
       "15    2,166  \n",
       "16    1,908  \n",
       "17    2,388  \n",
       "18    2,914  \n",
       "19    2,987  \n",
       "20    3,079  \n",
       "21    2,331  \n",
       "22    2,361  \n",
       "23    2,902  \n",
       "24    2,206  "
      ]
     },
     "execution_count": 86,
     "metadata": {},
     "output_type": "execute_result"
    }
   ],
   "source": [
    "df"
   ]
  },
  {
   "cell_type": "code",
   "execution_count": 85,
   "metadata": {},
   "outputs": [],
   "source": [
    "df.to_csv(\"bookingcom_london_list.csv\")"
   ]
  }
 ],
 "metadata": {
  "kernelspec": {
   "display_name": "Python 3.10.7 ('venv': venv)",
   "language": "python",
   "name": "python3"
  },
  "language_info": {
   "codemirror_mode": {
    "name": "ipython",
    "version": 3
   },
   "file_extension": ".py",
   "mimetype": "text/x-python",
   "name": "python",
   "nbconvert_exporter": "python",
   "pygments_lexer": "ipython3",
   "version": "3.10.7"
  },
  "orig_nbformat": 4,
  "vscode": {
   "interpreter": {
    "hash": "091e761e24fe66127ae47ddf3a06416362435e5d36a38a0dbf072a96138123f1"
   }
  }
 },
 "nbformat": 4,
 "nbformat_minor": 2
}
