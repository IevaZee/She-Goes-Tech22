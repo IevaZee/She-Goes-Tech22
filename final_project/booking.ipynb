{
 "cells": [
  {
   "cell_type": "markdown",
   "metadata": {},
   "source": [
    "# Web Scraping\n",
    "# To do:\n",
    "* Load booking.com and tripadvisor.com pages\n",
    "* in search line insert city, date and number of people (It can be London, December 05-11th)\n",
    "* search factors can differ according to page (tripadvisor might need room number)\n",
    "* by default hotels are persented by popularity, so let's just take first 10, 15 or 20 and upload when to dataframe table\n",
    "* table consist of: hotel name, price, rating, (can be number of reviews or smth else)\n",
    "\n",
    "* After having two separate tables, maybe make one table if popular hotels are on both sites and when do comparison\n",
    "* how many hotels are popular on both sites\n",
    "* How prices differ on the sites (maybe make some graph)\n",
    "* how ratings differ\n"
   ]
  },
  {
   "cell_type": "code",
   "execution_count": 2,
   "metadata": {},
   "outputs": [],
   "source": [
    "from selenium import webdriver\n",
    "from selenium.webdriver.common.keys import Keys\n",
    "from selenium.webdriver.common.by import By\n",
    "\n",
    "import pandas as pd\n",
    "from bs4 import BeautifulSoup"
   ]
  },
  {
   "cell_type": "code",
   "execution_count": 4,
   "metadata": {},
   "outputs": [],
   "source": [
    "browser=webdriver.Chrome()"
   ]
  },
  {
   "cell_type": "code",
   "execution_count": 5,
   "metadata": {},
   "outputs": [],
   "source": [
    "browser.get('https://www.booking.com/searchresults.en-gb.html?label=gen173nr-1FCAEoggI46AdIM1gEaIgBiAEBmAEJuAEHyAEM2AEB6AEB-AELiAIBqAIDuAKb2cObBsACAdICJDhlMmM1NjM0LThmOGUtNDM0MS1iMzc1LTc3NDNkYmUyOGQ0M9gCBuACAQ&sid=0a8a8b8d828997d72f8bdd29187f9767&aid=304142&checkin=2022-12-05&checkout=2022-12-11&dest_id=-2601889&dest_type=city&srpvid=2890666654be039a&nflt=review_score%3D80%3Breview_score%3D70%3Breview_score%3D60%3Breview_score%3D90')"
   ]
  },
  {
   "cell_type": "code",
   "execution_count": 6,
   "metadata": {},
   "outputs": [],
   "source": [
    "accept = browser.find_element(By.ID, \"onetrust-accept-btn-handler\")\n",
    "accept.click()"
   ]
  },
  {
   "cell_type": "code",
   "execution_count": 7,
   "metadata": {},
   "outputs": [],
   "source": [
    "soup = BeautifulSoup(browser.page_source, 'lxml')"
   ]
  },
  {
   "cell_type": "code",
   "execution_count": 8,
   "metadata": {},
   "outputs": [
    {
     "data": {
      "text/plain": [
       "25"
      ]
     },
     "execution_count": 8,
     "metadata": {},
     "output_type": "execute_result"
    }
   ],
   "source": [
    "hotels = []\n",
    "for name in soup.findAll('div',{'data-testid':'title'}):\n",
    "  hotels.append(name.text.strip())\n",
    "hotels[:5]\n",
    "len(hotels)"
   ]
  },
  {
   "cell_type": "code",
   "execution_count": 9,
   "metadata": {},
   "outputs": [
    {
     "data": {
      "text/plain": [
       "25"
      ]
     },
     "execution_count": 9,
     "metadata": {},
     "output_type": "execute_result"
    }
   ],
   "source": [
    "ratings = []\n",
    "for rating in soup.findAll('div',{'class':'d10a6220b4'}):\n",
    "      ratings.append(rating.text.strip())\n",
    "len(ratings)\n"
   ]
  },
  {
   "cell_type": "code",
   "execution_count": 10,
   "metadata": {},
   "outputs": [
    {
     "data": {
      "text/plain": [
       "25"
      ]
     },
     "execution_count": 10,
     "metadata": {},
     "output_type": "execute_result"
    }
   ],
   "source": [
    "reviews = []\n",
    "for review in soup.findAll('div',{'class':'db63693c62'}):\n",
    "  reviews.append(review.text.replace('reviews','').replace(',','').strip())\n",
    "reviews[:5]\n",
    "len(reviews)\n"
   ]
  },
  {
   "cell_type": "code",
   "execution_count": 11,
   "metadata": {},
   "outputs": [
    {
     "data": {
      "text/plain": [
       "25"
      ]
     },
     "execution_count": 11,
     "metadata": {},
     "output_type": "execute_result"
    }
   ],
   "source": [
    "price = []\n",
    "for p in soup.findAll('span',{'class':['fbd1d3018c', 'bd73d13072']}):\n",
    "  price.append(p.text.replace('€','').replace(',','').strip()) \n",
    "price[:5]\n",
    "len(price)\n"
   ]
  },
  {
   "cell_type": "code",
   "execution_count": 12,
   "metadata": {},
   "outputs": [],
   "source": [
    "d1 = {'Hotel':hotels,'Ratings':ratings,'No_of_Reviews':reviews,'Price, €':price}\n",
    "df = pd.DataFrame.from_dict(d1)"
   ]
  },
  {
   "cell_type": "code",
   "execution_count": 13,
   "metadata": {},
   "outputs": [
    {
     "data": {
      "text/html": [
       "<div>\n",
       "<style scoped>\n",
       "    .dataframe tbody tr th:only-of-type {\n",
       "        vertical-align: middle;\n",
       "    }\n",
       "\n",
       "    .dataframe tbody tr th {\n",
       "        vertical-align: top;\n",
       "    }\n",
       "\n",
       "    .dataframe thead th {\n",
       "        text-align: right;\n",
       "    }\n",
       "</style>\n",
       "<table border=\"1\" class=\"dataframe\">\n",
       "  <thead>\n",
       "    <tr style=\"text-align: right;\">\n",
       "      <th></th>\n",
       "      <th>Hotel</th>\n",
       "      <th>Ratings</th>\n",
       "      <th>No_of_Reviews</th>\n",
       "      <th>Price, €</th>\n",
       "    </tr>\n",
       "  </thead>\n",
       "  <tbody>\n",
       "    <tr>\n",
       "      <th>0</th>\n",
       "      <td>One Hundred Shoreditch</td>\n",
       "      <td>8.6</td>\n",
       "      <td>1622</td>\n",
       "      <td>2422</td>\n",
       "    </tr>\n",
       "    <tr>\n",
       "      <th>1</th>\n",
       "      <td>Stunning New Development in Barking</td>\n",
       "      <td>7.1</td>\n",
       "      <td>25</td>\n",
       "      <td>771</td>\n",
       "    </tr>\n",
       "    <tr>\n",
       "      <th>2</th>\n",
       "      <td>St. James' Court, A Taj Hotel, London</td>\n",
       "      <td>8.7</td>\n",
       "      <td>3524</td>\n",
       "      <td>2596</td>\n",
       "    </tr>\n",
       "    <tr>\n",
       "      <th>3</th>\n",
       "      <td>Bayswater by CAPITAL</td>\n",
       "      <td>6.9</td>\n",
       "      <td>108</td>\n",
       "      <td>1454</td>\n",
       "    </tr>\n",
       "    <tr>\n",
       "      <th>4</th>\n",
       "      <td>Nobu Hotel London Portman Square</td>\n",
       "      <td>8.5</td>\n",
       "      <td>865</td>\n",
       "      <td>5336</td>\n",
       "    </tr>\n",
       "    <tr>\n",
       "      <th>5</th>\n",
       "      <td>Washington Mayfair Hotel</td>\n",
       "      <td>6.9</td>\n",
       "      <td>743</td>\n",
       "      <td>2764</td>\n",
       "    </tr>\n",
       "    <tr>\n",
       "      <th>6</th>\n",
       "      <td>The Hoxton, Shoreditch</td>\n",
       "      <td>8.4</td>\n",
       "      <td>1524</td>\n",
       "      <td>2617</td>\n",
       "    </tr>\n",
       "    <tr>\n",
       "      <th>7</th>\n",
       "      <td>The Capital Hotel, Apartments &amp; Townhouse</td>\n",
       "      <td>8.2</td>\n",
       "      <td>705</td>\n",
       "      <td>3128</td>\n",
       "    </tr>\n",
       "    <tr>\n",
       "      <th>8</th>\n",
       "      <td>Marlin Apartments London Bridge - Empire Square</td>\n",
       "      <td>7.6</td>\n",
       "      <td>917</td>\n",
       "      <td>2140</td>\n",
       "    </tr>\n",
       "    <tr>\n",
       "      <th>9</th>\n",
       "      <td>Radisson Blu Edwardian Kenilworth Hotel, London</td>\n",
       "      <td>8.0</td>\n",
       "      <td>2249</td>\n",
       "      <td>2809</td>\n",
       "    </tr>\n",
       "    <tr>\n",
       "      <th>10</th>\n",
       "      <td>Hotel Xenia - Autograph Collection</td>\n",
       "      <td>8.0</td>\n",
       "      <td>67</td>\n",
       "      <td>2262</td>\n",
       "    </tr>\n",
       "    <tr>\n",
       "      <th>11</th>\n",
       "      <td>Canary Riverside Plaza Hotel</td>\n",
       "      <td>8.4</td>\n",
       "      <td>605</td>\n",
       "      <td>2766</td>\n",
       "    </tr>\n",
       "    <tr>\n",
       "      <th>12</th>\n",
       "      <td>Tulse Hill Luxury Cosy Rooms</td>\n",
       "      <td>8.4</td>\n",
       "      <td>83</td>\n",
       "      <td>785</td>\n",
       "    </tr>\n",
       "    <tr>\n",
       "      <th>13</th>\n",
       "      <td>Nell Gwynn House Apartments</td>\n",
       "      <td>6.7</td>\n",
       "      <td>400</td>\n",
       "      <td>1710</td>\n",
       "    </tr>\n",
       "    <tr>\n",
       "      <th>14</th>\n",
       "      <td>COMO The Halkin</td>\n",
       "      <td>9.2</td>\n",
       "      <td>75</td>\n",
       "      <td>4187</td>\n",
       "    </tr>\n",
       "    <tr>\n",
       "      <th>15</th>\n",
       "      <td>Park Grand London Kensington</td>\n",
       "      <td>8.0</td>\n",
       "      <td>6014</td>\n",
       "      <td>1719</td>\n",
       "    </tr>\n",
       "    <tr>\n",
       "      <th>16</th>\n",
       "      <td>citizenM London Victoria Station</td>\n",
       "      <td>8.8</td>\n",
       "      <td>764</td>\n",
       "      <td>2185</td>\n",
       "    </tr>\n",
       "    <tr>\n",
       "      <th>17</th>\n",
       "      <td>The Knaresborough by Aura Collection</td>\n",
       "      <td>7.7</td>\n",
       "      <td>274</td>\n",
       "      <td>1329</td>\n",
       "    </tr>\n",
       "    <tr>\n",
       "      <th>18</th>\n",
       "      <td>Bentley London</td>\n",
       "      <td>7.2</td>\n",
       "      <td>345</td>\n",
       "      <td>2378</td>\n",
       "    </tr>\n",
       "    <tr>\n",
       "      <th>19</th>\n",
       "      <td>Club Quarters Hotel St Paul's, London</td>\n",
       "      <td>7.7</td>\n",
       "      <td>3656</td>\n",
       "      <td>2237</td>\n",
       "    </tr>\n",
       "    <tr>\n",
       "      <th>20</th>\n",
       "      <td>St. Ermin's Hotel, Autograph Collection</td>\n",
       "      <td>9.2</td>\n",
       "      <td>583</td>\n",
       "      <td>3056</td>\n",
       "    </tr>\n",
       "    <tr>\n",
       "      <th>21</th>\n",
       "      <td>Staybridge Suites London-Vauxhall, an IHG Hotel</td>\n",
       "      <td>8.8</td>\n",
       "      <td>860</td>\n",
       "      <td>2601</td>\n",
       "    </tr>\n",
       "    <tr>\n",
       "      <th>22</th>\n",
       "      <td>Bankside Hotel, Autograph Collection</td>\n",
       "      <td>9.5</td>\n",
       "      <td>340</td>\n",
       "      <td>3056</td>\n",
       "    </tr>\n",
       "    <tr>\n",
       "      <th>23</th>\n",
       "      <td>The Athenaeum Hotel &amp; Residences</td>\n",
       "      <td>8.6</td>\n",
       "      <td>543</td>\n",
       "      <td>5451</td>\n",
       "    </tr>\n",
       "    <tr>\n",
       "      <th>24</th>\n",
       "      <td>Courthouse Hotel Shoreditch</td>\n",
       "      <td>6.8</td>\n",
       "      <td>683</td>\n",
       "      <td>2321</td>\n",
       "    </tr>\n",
       "  </tbody>\n",
       "</table>\n",
       "</div>"
      ],
      "text/plain": [
       "                                              Hotel Ratings No_of_Reviews  \\\n",
       "0                            One Hundred Shoreditch     8.6          1622   \n",
       "1               Stunning New Development in Barking     7.1            25   \n",
       "2             St. James' Court, A Taj Hotel, London     8.7          3524   \n",
       "3                              Bayswater by CAPITAL     6.9           108   \n",
       "4                  Nobu Hotel London Portman Square     8.5           865   \n",
       "5                          Washington Mayfair Hotel     6.9           743   \n",
       "6                            The Hoxton, Shoreditch     8.4          1524   \n",
       "7         The Capital Hotel, Apartments & Townhouse     8.2           705   \n",
       "8   Marlin Apartments London Bridge - Empire Square     7.6           917   \n",
       "9   Radisson Blu Edwardian Kenilworth Hotel, London     8.0          2249   \n",
       "10               Hotel Xenia - Autograph Collection     8.0            67   \n",
       "11                     Canary Riverside Plaza Hotel     8.4           605   \n",
       "12                     Tulse Hill Luxury Cosy Rooms     8.4            83   \n",
       "13                      Nell Gwynn House Apartments     6.7           400   \n",
       "14                                  COMO The Halkin     9.2            75   \n",
       "15                     Park Grand London Kensington     8.0          6014   \n",
       "16                 citizenM London Victoria Station     8.8           764   \n",
       "17             The Knaresborough by Aura Collection     7.7           274   \n",
       "18                                   Bentley London     7.2           345   \n",
       "19            Club Quarters Hotel St Paul's, London     7.7          3656   \n",
       "20          St. Ermin's Hotel, Autograph Collection     9.2           583   \n",
       "21  Staybridge Suites London-Vauxhall, an IHG Hotel     8.8           860   \n",
       "22             Bankside Hotel, Autograph Collection     9.5           340   \n",
       "23                 The Athenaeum Hotel & Residences     8.6           543   \n",
       "24                      Courthouse Hotel Shoreditch     6.8           683   \n",
       "\n",
       "   Price, €  \n",
       "0      2422  \n",
       "1       771  \n",
       "2      2596  \n",
       "3      1454  \n",
       "4      5336  \n",
       "5      2764  \n",
       "6      2617  \n",
       "7      3128  \n",
       "8      2140  \n",
       "9      2809  \n",
       "10     2262  \n",
       "11     2766  \n",
       "12      785  \n",
       "13     1710  \n",
       "14     4187  \n",
       "15     1719  \n",
       "16     2185  \n",
       "17     1329  \n",
       "18     2378  \n",
       "19     2237  \n",
       "20     3056  \n",
       "21     2601  \n",
       "22     3056  \n",
       "23     5451  \n",
       "24     2321  "
      ]
     },
     "execution_count": 13,
     "metadata": {},
     "output_type": "execute_result"
    }
   ],
   "source": [
    "df"
   ]
  },
  {
   "cell_type": "code",
   "execution_count": 87,
   "metadata": {},
   "outputs": [],
   "source": [
    "df.to_csv(\"bookingcom_london_list.csv\")"
   ]
  }
 ],
 "metadata": {
  "kernelspec": {
   "display_name": "Python 3.10.7 ('venv': venv)",
   "language": "python",
   "name": "python3"
  },
  "language_info": {
   "codemirror_mode": {
    "name": "ipython",
    "version": 3
   },
   "file_extension": ".py",
   "mimetype": "text/x-python",
   "name": "python",
   "nbconvert_exporter": "python",
   "pygments_lexer": "ipython3",
   "version": "3.10.7"
  },
  "orig_nbformat": 4,
  "vscode": {
   "interpreter": {
    "hash": "091e761e24fe66127ae47ddf3a06416362435e5d36a38a0dbf072a96138123f1"
   }
  }
 },
 "nbformat": 4,
 "nbformat_minor": 2
}
