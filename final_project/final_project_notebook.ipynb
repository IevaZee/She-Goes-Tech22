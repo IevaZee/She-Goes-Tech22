{
 "cells": [
  {
   "cell_type": "markdown",
   "metadata": {},
   "source": [
    "# Web Scraping & Data Analysis\n",
    "## Table of contents\n",
    "\n",
    "1. [Introduction](#Introduction)\n",
    "    - [Required libraries](#Required-libraries)\n",
    "\n",
    "2. [Step 1: Web scraping](#Step-1:-Web-scraping)\n",
    "    - [Scraping Booking.com](#Scraping-booking.com)\n",
    "    - [Scraping TripAdvisor.com](#Scraping-TripAdvisor.com)\n",
    "\n",
    "3. [Step 2: Saving the data](#Step-2:-Saving-the-data)\n",
    "\n",
    "4. [Step 3: Data analysis](#Step-3:-Data-analysis)\n",
    "\n"
   ]
  },
  {
   "cell_type": "markdown",
   "metadata": {},
   "source": [
    "## Introduction\n",
    "[[ go back to the top ]](#Table-of-contents)\n",
    " \n",
    "In this final project.... #TO DO\n",
    "\n",
    "## Required libraries\n",
    "[[ go back to the top ]](#Table-of-contents)\n",
    "\n",
    "This notebook uses several Python packages that come standard with the Python distribution. The primary libraries that we'll be using are:\n",
    "\n",
    "* **Selenium**: This package is used to automate web browser interaction from Python.\n",
    "* **BeautifulSoup**: Beautiful Soup helps you pull particular content from a webpage, remove the HTML markup, and save the information.\n",
    "* **pandas**: Provides a DataFrame structure to store data in memory and work with it easily and efficiently.\n",
    "* **sqlite3**: Database interface that allows connections to various SQLite database engines.\n",
    "\n",
    "\n"
   ]
  },
  {
   "cell_type": "code",
   "execution_count": 1,
   "metadata": {},
   "outputs": [],
   "source": [
    "from selenium import webdriver\n",
    "from selenium.webdriver.common.keys import Keys\n",
    "from selenium.webdriver.common.by import By\n",
    "from bs4 import BeautifulSoup\n",
    "import pandas as pd\n",
    "import sqlite3\n"
   ]
  },
  {
   "cell_type": "markdown",
   "metadata": {},
   "source": [
    "## Step 1: Web scraping\n",
    "\n",
    "[[ go back to the top ]](#Table-of-contents)\n",
    "\n",
    "For web scraping was used Selenium and Beautiful Soup.\n",
    "First,....\n",
    "To navigate around the web was used ....\n",
    "\n",
    "## Scraping Booking.com\n",
    "\n",
    "[[ go back to the top ]](#Table-of-contents)"
   ]
  },
  {
   "cell_type": "code",
   "execution_count": 2,
   "metadata": {},
   "outputs": [],
   "source": [
    "browser=webdriver.Chrome()\n",
    "\n",
    "#load Booking.com page\n",
    "browser.get('https://www.booking.com')\n",
    "assert 'Booking.com' in browser.title "
   ]
  },
  {
   "cell_type": "code",
   "execution_count": 3,
   "metadata": {},
   "outputs": [],
   "source": [
    "#Click accept button\n",
    "accept = browser.find_element(By.ID, \"onetrust-accept-btn-handler\")\n",
    "accept.click()"
   ]
  },
  {
   "cell_type": "code",
   "execution_count": 4,
   "metadata": {},
   "outputs": [],
   "source": [
    "#Enter destination\n",
    "search_box = browser.find_element(By.NAME, 'ss')\n",
    "search_box.send_keys('London' + Keys.RETURN)"
   ]
  },
  {
   "cell_type": "code",
   "execution_count": null,
   "metadata": {},
   "outputs": [],
   "source": [
    "#If needed remove Genius advertisements\n",
    "genius_element = browser.find_element(By.CSS_SELECTOR, '[aria-label=\"Dismiss sign in information.\"]')\n",
    "genius_element.click()"
   ]
  },
  {
   "cell_type": "code",
   "execution_count": 6,
   "metadata": {},
   "outputs": [],
   "source": [
    "#Press calendar button to enter check in date (without check out date system automatically sets one night stay)\n",
    "calendar_button = browser.find_element(By.CLASS_NAME, 'd47738b911')\n",
    "calendar_button.click()\n"
   ]
  },
  {
   "cell_type": "code",
   "execution_count": 9,
   "metadata": {},
   "outputs": [],
   "source": [
    "#Move forward/backwards to choose the month of the stay\n",
    "forward_calendar_page = browser.find_element(By.CLASS_NAME,\"be298b15fa\")\n",
    "forward_calendar_page.click()"
   ]
  },
  {
   "cell_type": "code",
   "execution_count": 125,
   "metadata": {},
   "outputs": [],
   "source": [
    "backward_calendar_page = browser.find_element(By.CLASS_NAME,\"ab15620a33\")\n",
    "backward_calendar_page.click()\n"
   ]
  },
  {
   "cell_type": "code",
   "execution_count": 10,
   "metadata": {},
   "outputs": [],
   "source": [
    "#Enter check in date\n",
    "check_in_date = browser.find_element(By.CSS_SELECTOR, '[data-date=\"2023-02-09\"]')\n",
    "check_in_date.click()\n"
   ]
  },
  {
   "cell_type": "code",
   "execution_count": 11,
   "metadata": {},
   "outputs": [],
   "source": [
    "submit = browser.find_element(By.CSS_SELECTOR, '[type=submit]')\n",
    "submit.click()"
   ]
  },
  {
   "cell_type": "code",
   "execution_count": 12,
   "metadata": {},
   "outputs": [],
   "source": [
    "#To avoid new accomodations let's set required review scores\n",
    "number_list=list(range(90, 50, -10))\n",
    "number_list\n",
    "for i in number_list:\n",
    "    review_score = browser.find_element(By.CSS_SELECTOR, f\"[data-filters-item='review_score:review_score={i}']\")\n",
    "    review_score.click()\n"
   ]
  },
  {
   "cell_type": "code",
   "execution_count": 13,
   "metadata": {},
   "outputs": [],
   "source": [
    "soup = BeautifulSoup(browser.page_source, 'lxml')"
   ]
  },
  {
   "cell_type": "code",
   "execution_count": 14,
   "metadata": {},
   "outputs": [
    {
     "data": {
      "text/plain": [
       "25"
      ]
     },
     "execution_count": 14,
     "metadata": {},
     "output_type": "execute_result"
    }
   ],
   "source": [
    "hotels = []\n",
    "for name in soup.findAll('div',{'data-testid':'title'}):\n",
    "  hotels.append(name.text.strip())\n",
    "hotels[:5]\n",
    "len(hotels)"
   ]
  },
  {
   "cell_type": "code",
   "execution_count": 15,
   "metadata": {},
   "outputs": [
    {
     "data": {
      "text/plain": [
       "25"
      ]
     },
     "execution_count": 15,
     "metadata": {},
     "output_type": "execute_result"
    }
   ],
   "source": [
    "ratings = []\n",
    "for rating in soup.findAll('div',{'class':'d10a6220b4'}):\n",
    "      ratings.append(rating.text.strip())\n",
    "len(ratings)\n",
    "\n"
   ]
  },
  {
   "cell_type": "code",
   "execution_count": 16,
   "metadata": {},
   "outputs": [
    {
     "data": {
      "text/plain": [
       "25"
      ]
     },
     "execution_count": 16,
     "metadata": {},
     "output_type": "execute_result"
    }
   ],
   "source": [
    "reviews = []\n",
    "for review in soup.findAll('div',{'class':'db63693c62'}):\n",
    "  reviews.append(review.text.replace('reviews','').replace(',','').strip())\n",
    "reviews[:5]\n",
    "len(reviews)"
   ]
  },
  {
   "cell_type": "code",
   "execution_count": 17,
   "metadata": {},
   "outputs": [
    {
     "data": {
      "text/plain": [
       "25"
      ]
     },
     "execution_count": 17,
     "metadata": {},
     "output_type": "execute_result"
    }
   ],
   "source": [
    "price = []\n",
    "for p in soup.findAll('span',{'class':['fbd1d3018c', 'bd73d13072']}):\n",
    "  price.append(p.text.replace('€','').replace(',','').strip()) \n",
    "price[:5]\n",
    "len(price)"
   ]
  },
  {
   "cell_type": "markdown",
   "metadata": {},
   "source": [
    "## Step 2: Saving the data\n",
    "\n",
    "[[ go back to the top ]](#Table-of-contents)\n",
    "\n",
    "After retrieving all the required data from the Booking.com and TripAdvisor web pages, the data was saved to dataframe using pandas."
   ]
  },
  {
   "cell_type": "code",
   "execution_count": 18,
   "metadata": {},
   "outputs": [],
   "source": [
    "df1 = {'Hotel':hotels,'Ratings':ratings,'No_of_Reviews':reviews,'Price, €':price}\n",
    "df_booking = pd.DataFrame.from_dict(df1)"
   ]
  },
  {
   "cell_type": "code",
   "execution_count": 19,
   "metadata": {},
   "outputs": [
    {
     "data": {
      "text/html": [
       "<div>\n",
       "<style scoped>\n",
       "    .dataframe tbody tr th:only-of-type {\n",
       "        vertical-align: middle;\n",
       "    }\n",
       "\n",
       "    .dataframe tbody tr th {\n",
       "        vertical-align: top;\n",
       "    }\n",
       "\n",
       "    .dataframe thead th {\n",
       "        text-align: right;\n",
       "    }\n",
       "</style>\n",
       "<table border=\"1\" class=\"dataframe\">\n",
       "  <thead>\n",
       "    <tr style=\"text-align: right;\">\n",
       "      <th></th>\n",
       "      <th>Hotel</th>\n",
       "      <th>Ratings</th>\n",
       "      <th>No_of_Reviews</th>\n",
       "      <th>Price, €</th>\n",
       "    </tr>\n",
       "  </thead>\n",
       "  <tbody>\n",
       "    <tr>\n",
       "      <th>0</th>\n",
       "      <td>Langham Court Hotel</td>\n",
       "      <td>7.1</td>\n",
       "      <td>2283</td>\n",
       "      <td>180</td>\n",
       "    </tr>\n",
       "    <tr>\n",
       "      <th>1</th>\n",
       "      <td>Yotel London Shoreditch</td>\n",
       "      <td>7.8</td>\n",
       "      <td>1814</td>\n",
       "      <td>126</td>\n",
       "    </tr>\n",
       "    <tr>\n",
       "      <th>2</th>\n",
       "      <td>The Other House - South Kensington</td>\n",
       "      <td>9.1</td>\n",
       "      <td>637</td>\n",
       "      <td>336</td>\n",
       "    </tr>\n",
       "    <tr>\n",
       "      <th>3</th>\n",
       "      <td>The Dilly</td>\n",
       "      <td>7.4</td>\n",
       "      <td>2166</td>\n",
       "      <td>257</td>\n",
       "    </tr>\n",
       "    <tr>\n",
       "      <th>4</th>\n",
       "      <td>The Westminster London, Curio Collection by Hi...</td>\n",
       "      <td>8.2</td>\n",
       "      <td>3002</td>\n",
       "      <td>168</td>\n",
       "    </tr>\n",
       "    <tr>\n",
       "      <th>5</th>\n",
       "      <td>Park Grand London Kensington</td>\n",
       "      <td>8.0</td>\n",
       "      <td>6025</td>\n",
       "      <td>259</td>\n",
       "    </tr>\n",
       "    <tr>\n",
       "      <th>6</th>\n",
       "      <td>White House Hotel</td>\n",
       "      <td>7.1</td>\n",
       "      <td>2041</td>\n",
       "      <td>75</td>\n",
       "    </tr>\n",
       "    <tr>\n",
       "      <th>7</th>\n",
       "      <td>Holiday Inn London Camden Lock, an IHG Hotel</td>\n",
       "      <td>8.2</td>\n",
       "      <td>3448</td>\n",
       "      <td>197</td>\n",
       "    </tr>\n",
       "    <tr>\n",
       "      <th>8</th>\n",
       "      <td>Studios2Let</td>\n",
       "      <td>7.7</td>\n",
       "      <td>5481</td>\n",
       "      <td>126</td>\n",
       "    </tr>\n",
       "    <tr>\n",
       "      <th>9</th>\n",
       "      <td>The Chesterfield Mayfair</td>\n",
       "      <td>8.9</td>\n",
       "      <td>2181</td>\n",
       "      <td>279</td>\n",
       "    </tr>\n",
       "    <tr>\n",
       "      <th>10</th>\n",
       "      <td>Millennium Gloucester Hotel London</td>\n",
       "      <td>7.3</td>\n",
       "      <td>7888</td>\n",
       "      <td>149</td>\n",
       "    </tr>\n",
       "    <tr>\n",
       "      <th>11</th>\n",
       "      <td>The Mandeville Hotel</td>\n",
       "      <td>8.2</td>\n",
       "      <td>2262</td>\n",
       "      <td>269</td>\n",
       "    </tr>\n",
       "    <tr>\n",
       "      <th>12</th>\n",
       "      <td>Inhabit, Southwick Street</td>\n",
       "      <td>8.0</td>\n",
       "      <td>3437</td>\n",
       "      <td>207</td>\n",
       "    </tr>\n",
       "    <tr>\n",
       "      <th>13</th>\n",
       "      <td>The Tower Hotel</td>\n",
       "      <td>7.9</td>\n",
       "      <td>13370</td>\n",
       "      <td>155</td>\n",
       "    </tr>\n",
       "    <tr>\n",
       "      <th>14</th>\n",
       "      <td>Millennium Hotel London Knightsbridge</td>\n",
       "      <td>6.7</td>\n",
       "      <td>2540</td>\n",
       "      <td>176</td>\n",
       "    </tr>\n",
       "    <tr>\n",
       "      <th>15</th>\n",
       "      <td>Hilton London Kensington Hotel</td>\n",
       "      <td>7.0</td>\n",
       "      <td>2655</td>\n",
       "      <td>132</td>\n",
       "    </tr>\n",
       "    <tr>\n",
       "      <th>16</th>\n",
       "      <td>Radisson Blu Edwardian Kenilworth Hotel, London</td>\n",
       "      <td>8.0</td>\n",
       "      <td>2251</td>\n",
       "      <td>268</td>\n",
       "    </tr>\n",
       "    <tr>\n",
       "      <th>17</th>\n",
       "      <td>Club Quarters Hotel St Paul's, London</td>\n",
       "      <td>7.7</td>\n",
       "      <td>3654</td>\n",
       "      <td>199</td>\n",
       "    </tr>\n",
       "    <tr>\n",
       "      <th>18</th>\n",
       "      <td>Wilde Aparthotels by Staycity Covent Garden</td>\n",
       "      <td>8.9</td>\n",
       "      <td>2933</td>\n",
       "      <td>201</td>\n",
       "    </tr>\n",
       "    <tr>\n",
       "      <th>19</th>\n",
       "      <td>The Z Hotel Victoria</td>\n",
       "      <td>7.9</td>\n",
       "      <td>5934</td>\n",
       "      <td>103</td>\n",
       "    </tr>\n",
       "    <tr>\n",
       "      <th>20</th>\n",
       "      <td>Merit Kensington Hotel</td>\n",
       "      <td>8.3</td>\n",
       "      <td>3442</td>\n",
       "      <td>181</td>\n",
       "    </tr>\n",
       "    <tr>\n",
       "      <th>21</th>\n",
       "      <td>Studios2Let - North Gower</td>\n",
       "      <td>7.5</td>\n",
       "      <td>1323</td>\n",
       "      <td>118</td>\n",
       "    </tr>\n",
       "    <tr>\n",
       "      <th>22</th>\n",
       "      <td>Heeton Concept Hotel – Luma Hammersmith</td>\n",
       "      <td>7.8</td>\n",
       "      <td>2399</td>\n",
       "      <td>90</td>\n",
       "    </tr>\n",
       "    <tr>\n",
       "      <th>23</th>\n",
       "      <td>The Z Hotel Shoreditch</td>\n",
       "      <td>7.9</td>\n",
       "      <td>4832</td>\n",
       "      <td>80</td>\n",
       "    </tr>\n",
       "    <tr>\n",
       "      <th>24</th>\n",
       "      <td>City Sleeper at Royal National Hotel</td>\n",
       "      <td>8.5</td>\n",
       "      <td>54</td>\n",
       "      <td>191</td>\n",
       "    </tr>\n",
       "  </tbody>\n",
       "</table>\n",
       "</div>"
      ],
      "text/plain": [
       "                                                Hotel Ratings No_of_Reviews  \\\n",
       "0                                 Langham Court Hotel     7.1          2283   \n",
       "1                             Yotel London Shoreditch     7.8          1814   \n",
       "2                  The Other House - South Kensington     9.1           637   \n",
       "3                                           The Dilly     7.4          2166   \n",
       "4   The Westminster London, Curio Collection by Hi...     8.2          3002   \n",
       "5                        Park Grand London Kensington     8.0          6025   \n",
       "6                                   White House Hotel     7.1          2041   \n",
       "7        Holiday Inn London Camden Lock, an IHG Hotel     8.2          3448   \n",
       "8                                         Studios2Let     7.7          5481   \n",
       "9                            The Chesterfield Mayfair     8.9          2181   \n",
       "10                 Millennium Gloucester Hotel London     7.3          7888   \n",
       "11                               The Mandeville Hotel     8.2          2262   \n",
       "12                          Inhabit, Southwick Street     8.0          3437   \n",
       "13                                    The Tower Hotel     7.9         13370   \n",
       "14              Millennium Hotel London Knightsbridge     6.7          2540   \n",
       "15                     Hilton London Kensington Hotel     7.0          2655   \n",
       "16    Radisson Blu Edwardian Kenilworth Hotel, London     8.0          2251   \n",
       "17              Club Quarters Hotel St Paul's, London     7.7          3654   \n",
       "18        Wilde Aparthotels by Staycity Covent Garden     8.9          2933   \n",
       "19                               The Z Hotel Victoria     7.9          5934   \n",
       "20                             Merit Kensington Hotel     8.3          3442   \n",
       "21                          Studios2Let - North Gower     7.5          1323   \n",
       "22            Heeton Concept Hotel – Luma Hammersmith     7.8          2399   \n",
       "23                             The Z Hotel Shoreditch     7.9          4832   \n",
       "24               City Sleeper at Royal National Hotel     8.5            54   \n",
       "\n",
       "   Price, €  \n",
       "0       180  \n",
       "1       126  \n",
       "2       336  \n",
       "3       257  \n",
       "4       168  \n",
       "5       259  \n",
       "6        75  \n",
       "7       197  \n",
       "8       126  \n",
       "9       279  \n",
       "10      149  \n",
       "11      269  \n",
       "12      207  \n",
       "13      155  \n",
       "14      176  \n",
       "15      132  \n",
       "16      268  \n",
       "17      199  \n",
       "18      201  \n",
       "19      103  \n",
       "20      181  \n",
       "21      118  \n",
       "22       90  \n",
       "23       80  \n",
       "24      191  "
      ]
     },
     "execution_count": 19,
     "metadata": {},
     "output_type": "execute_result"
    }
   ],
   "source": [
    "df_booking"
   ]
  },
  {
   "cell_type": "code",
   "execution_count": null,
   "metadata": {},
   "outputs": [],
   "source": [
    "df_booking.to_csv(\"bookingcom_london_list.csv\")"
   ]
  },
  {
   "cell_type": "markdown",
   "metadata": {},
   "source": [
    "## Scraping TripAdvisor.com\n",
    "\n",
    "[[ go back to the top ]](#Table-of-contents)"
   ]
  },
  {
   "cell_type": "code",
   "execution_count": null,
   "metadata": {},
   "outputs": [],
   "source": [
    "browser.get('https://www.tripadvisor.in/Hotels-g186338-a_ufe.true-London_England-Hotels.html')\n"
   ]
  },
  {
   "cell_type": "code",
   "execution_count": null,
   "metadata": {},
   "outputs": [],
   "source": [
    "accept = browser.find_element(By.ID, \"onetrust-accept-btn-handler\")\n",
    "accept.click()"
   ]
  },
  {
   "cell_type": "code",
   "execution_count": null,
   "metadata": {},
   "outputs": [],
   "source": [
    "list_of_numbers = str(list(range(1, 101)))\n",
    "hotels = []\n",
    "for name in soup.findAll('a',{'data-clicksource':'HotelName'}):\n",
    "      hotels.append(name.text.strip(list_of_numbers + '.'))\n",
    "hotels[:5]\n"
   ]
  },
  {
   "cell_type": "code",
   "execution_count": null,
   "metadata": {},
   "outputs": [],
   "source": [
    "ratings = []\n",
    "for rating in soup.findAll('a',{'class':'ui_bubble_rating'}):\n",
    "      if rating['alt'] == \"5 of 5 bubbles\":\n",
    "            rating = 10\n",
    "      elif rating['alt'] == \"4.5 of 5 bubbles\":\n",
    "            rating = 9\n",
    "      elif rating['alt'] == \"4 of 5 bubbles\":\n",
    "            rating = 8\n",
    "      elif rating['alt'] == \"3.5 of 5 bubbles\":\n",
    "            rating = 7\n",
    "      elif rating['alt'] == \"3 of 5 bubbles\":\n",
    "            rating = 6\n",
    "      else:\n",
    "            rating = 5\n",
    "      ratings.append(rating)\n",
    "len(ratings)"
   ]
  },
  {
   "cell_type": "code",
   "execution_count": null,
   "metadata": {},
   "outputs": [],
   "source": [
    "reviews = []\n",
    "for review in soup.findAll('a',{'class':'review_count'}):\n",
    "  reviews.append(review.text.replace('reviews','').replace(',','').strip())\n",
    "len(reviews)"
   ]
  },
  {
   "cell_type": "code",
   "execution_count": null,
   "metadata": {},
   "outputs": [],
   "source": [
    "price = []\n",
    "for p in soup.findAll('div',{'data-sizegroup':'mini-meta-price'}):\n",
    "  price.append(p.text.replace('€','').replace(',','').strip()) \n",
    "price[:5]\n",
    "len(price)"
   ]
  },
  {
   "cell_type": "code",
   "execution_count": null,
   "metadata": {},
   "outputs": [],
   "source": [
    "df2 = {'Hotel':hotels,'Ratings':ratings,'No_of_Reviews':reviews,'Price, €':price}\n",
    "df_tripadvisor = pd.DataFrame.from_dict(df2)"
   ]
  },
  {
   "cell_type": "code",
   "execution_count": null,
   "metadata": {},
   "outputs": [],
   "source": [
    "df_tripadvisor"
   ]
  },
  {
   "cell_type": "code",
   "execution_count": null,
   "metadata": {},
   "outputs": [],
   "source": [
    "df_tripadvisor.to_csv(\"tripadvisor_london_list.csv\")"
   ]
  },
  {
   "cell_type": "markdown",
   "metadata": {},
   "source": [
    "## Step 3: Data analysis\n",
    "\n",
    "[[ go back to the top ]](#Table-of-contents)\n",
    "\n",
    "After having data saved to dataframe in rows and columns, let's to some analysis.\n",
    "For analysis ..."
   ]
  },
  {
   "cell_type": "code",
   "execution_count": null,
   "metadata": {},
   "outputs": [],
   "source": [
    "conn = sqlite3.connect('my_data.db')\n",
    "c = conn.cursor()"
   ]
  },
  {
   "cell_type": "code",
   "execution_count": null,
   "metadata": {},
   "outputs": [],
   "source": [
    "tripadvisor = pd.read_csv('tripadvisor_london_list.csv')\n",
    "tripadvisor.head()"
   ]
  },
  {
   "cell_type": "code",
   "execution_count": null,
   "metadata": {},
   "outputs": [],
   "source": [
    "booking = pd.read_csv('bookingcom_london_list.csv')\n",
    "booking.head()"
   ]
  },
  {
   "cell_type": "code",
   "execution_count": null,
   "metadata": {},
   "outputs": [],
   "source": [
    "tripadvisor.to_sql('tripadvisor', conn, if_exists='append', index = False)"
   ]
  },
  {
   "cell_type": "code",
   "execution_count": null,
   "metadata": {},
   "outputs": [],
   "source": [
    "booking.to_sql('booking_com', conn, if_exists='append', index = False)"
   ]
  }
 ],
 "metadata": {
  "kernelspec": {
   "display_name": "Python 3.10.7 ('venv': venv)",
   "language": "python",
   "name": "python3"
  },
  "language_info": {
   "codemirror_mode": {
    "name": "ipython",
    "version": 3
   },
   "file_extension": ".py",
   "mimetype": "text/x-python",
   "name": "python",
   "nbconvert_exporter": "python",
   "pygments_lexer": "ipython3",
   "version": "3.10.7"
  },
  "orig_nbformat": 4,
  "vscode": {
   "interpreter": {
    "hash": "091e761e24fe66127ae47ddf3a06416362435e5d36a38a0dbf072a96138123f1"
   }
  }
 },
 "nbformat": 4,
 "nbformat_minor": 2
}
