{
 "cells": [
  {
   "cell_type": "markdown",
   "metadata": {},
   "source": [
    "# Web Scraping\n",
    "# To do:\n",
    "* Load booking.com and tripadvisor.com pages\n",
    "* in search line insert city, date and number of people (It can be London, December 05-11th)\n",
    "* search factors can differ according to page (tripadvisor might need room number)\n",
    "* by default hotels are persented by popularity, so let's just take first 10, 15 or 20 and upload when to dataframe table\n",
    "* table consist of: hotel name, price, rating, (can be number of reviews or smth else)\n"
   ]
  },
  {
   "cell_type": "markdown",
   "metadata": {},
   "source": [
    "* After having two separate tables, maybe make one table if popular hotels are on both sites and when do comparison\n",
    "* how many hotels are popular on both sites\n",
    "* How prices differ on the sites (maybe make some graph)\n",
    "* how ratings differ\n"
   ]
  }
 ],
 "metadata": {
  "language_info": {
   "name": "python"
  },
  "orig_nbformat": 4
 },
 "nbformat": 4,
 "nbformat_minor": 2
}
