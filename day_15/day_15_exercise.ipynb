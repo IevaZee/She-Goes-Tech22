{
 "cells": [
  {
   "cell_type": "markdown",
   "metadata": {},
   "source": [
    "# Welcome to the day 15 exercise!\n",
    "![cat](https://media.npr.org/assets/img/2021/08/11/gettyimages-1279899488_wide-f3860ceb0ef19643c335cb34df3fa1de166e2761-s1100-c50.jpg)\n",
    "\n"
   ]
  },
  {
   "cell_type": "code",
   "execution_count": 1,
   "metadata": {},
   "outputs": [],
   "source": [
    "import random\n",
    "import itertools"
   ]
  },
  {
   "cell_type": "code",
   "execution_count": 2,
   "metadata": {},
   "outputs": [
    {
     "name": "stdout",
     "output_type": "stream",
     "text": [
      "Hello notebook\n"
     ]
    }
   ],
   "source": [
    "print(\"Hello notebook\")"
   ]
  },
  {
   "cell_type": "markdown",
   "metadata": {},
   "source": [
    "# Card game homework -Day 11"
   ]
  },
  {
   "cell_type": "code",
   "execution_count": 2,
   "metadata": {},
   "outputs": [],
   "source": [
    "def get_shuffled_cards():\n",
    "    symbol = [2,3,4,5,6,7,8,9,10,\"J\",\"Q\",\"K\", \"A\"]\n",
    "    colors = [\"clubs (♣)\", \"diamonds (♦)\", \"hearts (♥)\", \"spades (♠)\"]\n",
    "    cards = [(s, c) for s in symbol for c in colors]\n",
    "    \n",
    "    random.shuffle(cards)\n",
    "    return cards"
   ]
  },
  {
   "cell_type": "code",
   "execution_count": 3,
   "metadata": {},
   "outputs": [],
   "source": [
    "class Deck:\n",
    "    symbol = [2,3,4,5,6,7,8,9,10,\"J\",\"Q\",\"K\", \"A\"]\n",
    "    colors = [\"clubs (♣)\", \"diamonds (♦)\", \"hearts (♥)\", \"spades (♠)\"]\n",
    "    \n",
    "    def __init__(self):\n",
    "        self.available = list(itertools.product(self.symbol, self.colors)) \n",
    "        self.spent = []\n",
    "        self.shuffle()\n",
    "        \n",
    "    def shuffle(self):\n",
    "        self.available = random.sample(self.available, len(self.available)) #pool: available, pick until reached len(available)\n",
    "        card_count=len(self.available)  \n",
    "        print(f'Available cards: {self.available} cards.\\nAvailable card count: {card_count}.')\n",
    "        return self\n",
    "    \n",
    "    def get_cards(self, count=1):  #default as for one card\n",
    "        cards=self.available[:count] #get required number of cards\n",
    "        self.available=self.available[count:] #check how much is left of available after minus shuffled cards\n",
    "        self.spent.extend(cards)\n",
    "        a=len(cards)\n",
    "        b=len(self.available)\n",
    "        print(f'Available cards: {b} cards.!\\nAvailable card count: {a}.')\n",
    "        return cards\n",
    "    \n"
   ]
  },
  {
   "cell_type": "code",
   "execution_count": 5,
   "metadata": {},
   "outputs": [
    {
     "name": "stdout",
     "output_type": "stream",
     "text": [
      "[(8, 'hearts (♥)'), ('J', 'diamonds (♦)'), (2, 'hearts (♥)'), (4, 'spades (♠)'), (6, 'clubs (♣)'), (7, 'clubs (♣)'), (9, 'spades (♠)'), (5, 'clubs (♣)'), ('Q', 'hearts (♥)'), (10, 'spades (♠)'), ('K', 'clubs (♣)'), (8, 'clubs (♣)'), (7, 'hearts (♥)'), (3, 'diamonds (♦)'), (6, 'hearts (♥)'), ('K', 'spades (♠)'), (10, 'hearts (♥)'), ('J', 'clubs (♣)'), ('J', 'spades (♠)'), ('Q', 'clubs (♣)'), (9, 'diamonds (♦)'), (2, 'spades (♠)'), ('A', 'diamonds (♦)'), (4, 'clubs (♣)'), ('A', 'clubs (♣)'), (7, 'diamonds (♦)'), (10, 'clubs (♣)'), (6, 'spades (♠)'), (4, 'hearts (♥)'), (8, 'spades (♠)'), (2, 'diamonds (♦)'), ('K', 'hearts (♥)'), (3, 'hearts (♥)'), (5, 'spades (♠)'), (8, 'diamonds (♦)'), (7, 'spades (♠)'), (6, 'diamonds (♦)'), (2, 'clubs (♣)'), (5, 'hearts (♥)'), (10, 'diamonds (♦)'), ('K', 'diamonds (♦)'), ('Q', 'diamonds (♦)'), (4, 'diamonds (♦)'), (9, 'clubs (♣)'), (9, 'hearts (♥)'), (5, 'diamonds (♦)'), ('A', 'hearts (♥)'), ('Q', 'spades (♠)'), (3, 'clubs (♣)'), (3, 'spades (♠)'), ('A', 'spades (♠)'), ('J', 'hearts (♥)')]\n",
      "----------------------------------------------------------------\n",
      "Available cards: [(6, 'clubs (♣)'), (2, 'diamonds (♦)'), (8, 'clubs (♣)'), (2, 'spades (♠)'), (5, 'clubs (♣)'), ('K', 'diamonds (♦)'), ('Q', 'diamonds (♦)'), (10, 'diamonds (♦)'), (10, 'spades (♠)'), (6, 'diamonds (♦)'), (9, 'hearts (♥)'), ('J', 'clubs (♣)'), ('A', 'clubs (♣)'), (5, 'spades (♠)'), (7, 'spades (♠)'), ('J', 'hearts (♥)'), (6, 'spades (♠)'), (9, 'diamonds (♦)'), (3, 'diamonds (♦)'), ('A', 'hearts (♥)'), (3, 'spades (♠)'), (8, 'diamonds (♦)'), (9, 'clubs (♣)'), ('A', 'spades (♠)'), (6, 'hearts (♥)'), (10, 'clubs (♣)'), ('Q', 'hearts (♥)'), (3, 'clubs (♣)'), ('K', 'spades (♠)'), (4, 'spades (♠)'), ('Q', 'clubs (♣)'), (7, 'clubs (♣)'), (3, 'hearts (♥)'), (4, 'diamonds (♦)'), (10, 'hearts (♥)'), ('J', 'diamonds (♦)'), (4, 'clubs (♣)'), ('K', 'clubs (♣)'), (4, 'hearts (♥)'), (8, 'spades (♠)'), ('Q', 'spades (♠)'), (7, 'diamonds (♦)'), (7, 'hearts (♥)'), (8, 'hearts (♥)'), (2, 'clubs (♣)'), (9, 'spades (♠)'), ('A', 'diamonds (♦)'), (5, 'diamonds (♦)'), (2, 'hearts (♥)'), ('J', 'spades (♠)'), ('K', 'hearts (♥)'), (5, 'hearts (♥)')] cards.\n",
      "Available card count: 52.\n",
      "----------------------------------------------------------------1\n",
      "[(6, 'clubs (♣)'), (2, 'diamonds (♦)'), (8, 'clubs (♣)'), (2, 'spades (♠)'), (5, 'clubs (♣)'), ('K', 'diamonds (♦)'), ('Q', 'diamonds (♦)'), (10, 'diamonds (♦)'), (10, 'spades (♠)'), (6, 'diamonds (♦)'), (9, 'hearts (♥)'), ('J', 'clubs (♣)'), ('A', 'clubs (♣)'), (5, 'spades (♠)'), (7, 'spades (♠)'), ('J', 'hearts (♥)'), (6, 'spades (♠)'), (9, 'diamonds (♦)'), (3, 'diamonds (♦)'), ('A', 'hearts (♥)'), (3, 'spades (♠)'), (8, 'diamonds (♦)'), (9, 'clubs (♣)'), ('A', 'spades (♠)'), (6, 'hearts (♥)'), (10, 'clubs (♣)'), ('Q', 'hearts (♥)'), (3, 'clubs (♣)'), ('K', 'spades (♠)'), (4, 'spades (♠)'), ('Q', 'clubs (♣)'), (7, 'clubs (♣)'), (3, 'hearts (♥)'), (4, 'diamonds (♦)'), (10, 'hearts (♥)'), ('J', 'diamonds (♦)'), (4, 'clubs (♣)'), ('K', 'clubs (♣)'), (4, 'hearts (♥)'), (8, 'spades (♠)'), ('Q', 'spades (♠)'), (7, 'diamonds (♦)'), (7, 'hearts (♥)'), (8, 'hearts (♥)'), (2, 'clubs (♣)'), (9, 'spades (♠)'), ('A', 'diamonds (♦)'), (5, 'diamonds (♦)'), (2, 'hearts (♥)'), ('J', 'spades (♠)'), ('K', 'hearts (♥)'), (5, 'hearts (♥)')]\n",
      "[]\n",
      "----------------------------------------------------------------6\n",
      "Available cards: [('J', 'spades (♠)'), (8, 'hearts (♥)'), (3, 'hearts (♥)'), (6, 'spades (♠)'), (5, 'clubs (♣)'), (3, 'spades (♠)'), (9, 'diamonds (♦)'), ('K', 'spades (♠)'), ('K', 'clubs (♣)'), ('Q', 'spades (♠)'), (3, 'diamonds (♦)'), (9, 'spades (♠)'), ('Q', 'clubs (♣)'), (5, 'hearts (♥)'), (2, 'hearts (♥)'), (10, 'spades (♠)'), (4, 'spades (♠)'), (9, 'hearts (♥)'), (5, 'spades (♠)'), (10, 'diamonds (♦)'), ('A', 'spades (♠)'), ('K', 'hearts (♥)'), (8, 'diamonds (♦)'), (7, 'diamonds (♦)'), ('A', 'clubs (♣)'), ('A', 'diamonds (♦)'), (8, 'clubs (♣)'), (2, 'diamonds (♦)'), (4, 'clubs (♣)'), (8, 'spades (♠)'), (2, 'spades (♠)'), ('K', 'diamonds (♦)'), (7, 'hearts (♥)'), ('J', 'clubs (♣)'), (4, 'hearts (♥)'), (6, 'diamonds (♦)'), ('J', 'diamonds (♦)'), (10, 'hearts (♥)'), ('Q', 'hearts (♥)'), (4, 'diamonds (♦)'), ('A', 'hearts (♥)'), (5, 'diamonds (♦)'), (7, 'clubs (♣)'), ('J', 'hearts (♥)'), (7, 'spades (♠)'), (3, 'clubs (♣)'), (9, 'clubs (♣)'), (10, 'clubs (♣)'), (2, 'clubs (♣)'), ('Q', 'diamonds (♦)'), (6, 'clubs (♣)'), (6, 'hearts (♥)')] cards.\n",
      "Available card count: 52.\n",
      "[]\n",
      "----------------------------------------------------------------2\n",
      "Available cards: 45 cards.!\n",
      "Available card count: 7.\n",
      "[('J', 'spades (♠)'), (8, 'hearts (♥)'), (3, 'hearts (♥)'), (6, 'spades (♠)'), (5, 'clubs (♣)'), (3, 'spades (♠)'), (9, 'diamonds (♦)')]\n",
      "[('J', 'spades (♠)'), (8, 'hearts (♥)'), (3, 'hearts (♥)'), (6, 'spades (♠)'), (5, 'clubs (♣)'), (3, 'spades (♠)'), (9, 'diamonds (♦)')]\n",
      "----------------------------------------------------------------3\n",
      "Available cards: 44 cards.!\n",
      "Available card count: 1.\n",
      "----------------------------------------------------------------4\n",
      "[('K', 'spades (♠)')]\n",
      "----------------------------------------------------------------5\n",
      "[('K', 'clubs (♣)'), ('Q', 'spades (♠)'), (3, 'diamonds (♦)'), (9, 'spades (♠)'), ('Q', 'clubs (♣)'), (5, 'hearts (♥)'), (2, 'hearts (♥)'), (10, 'spades (♠)'), (4, 'spades (♠)'), (9, 'hearts (♥)'), (5, 'spades (♠)'), (10, 'diamonds (♦)'), ('A', 'spades (♠)'), ('K', 'hearts (♥)'), (8, 'diamonds (♦)'), (7, 'diamonds (♦)'), ('A', 'clubs (♣)'), ('A', 'diamonds (♦)'), (8, 'clubs (♣)'), (2, 'diamonds (♦)'), (4, 'clubs (♣)'), (8, 'spades (♠)'), (2, 'spades (♠)'), ('K', 'diamonds (♦)'), (7, 'hearts (♥)'), ('J', 'clubs (♣)'), (4, 'hearts (♥)'), (6, 'diamonds (♦)'), ('J', 'diamonds (♦)'), (10, 'hearts (♥)'), ('Q', 'hearts (♥)'), (4, 'diamonds (♦)'), ('A', 'hearts (♥)'), (5, 'diamonds (♦)'), (7, 'clubs (♣)'), ('J', 'hearts (♥)'), (7, 'spades (♠)'), (3, 'clubs (♣)'), (9, 'clubs (♣)'), (10, 'clubs (♣)'), (2, 'clubs (♣)'), ('Q', 'diamonds (♦)'), (6, 'clubs (♣)'), (6, 'hearts (♥)')]\n",
      "----------------------------------------------------------------5\n",
      "Available cards: 43 cards.!\n",
      "Available card count: 1.\n",
      "----------------------------------------------------------------7\n",
      "[('K', 'clubs (♣)')]\n",
      "----------------------------------------------------------------8\n",
      "Available cards: 28 cards.!\n",
      "Available card count: 15.\n"
     ]
    }
   ],
   "source": [
    "if __name__ == \"__main__\":\n",
    "    print(get_shuffled_cards())\n",
    "    print(\"----------------------------------------------------------------\")\n",
    "    my_deck = Deck()\n",
    "    print(\"----------------------------------------------------------------1\")\n",
    "    print(my_deck.available) # 52\n",
    "    print(my_deck.spent) # 0\n",
    "    print(\"----------------------------------------------------------------6\")\n",
    "    my_deck.shuffle() \n",
    "    print(my_deck.spent)  #0\n",
    "    print(\"----------------------------------------------------------------2\")\n",
    "    my_cards = my_deck.get_cards(7) # gets 7 cards from available\n",
    "    print(my_cards) \n",
    "    print(my_deck.spent) #7 cards\n",
    "    print(\"----------------------------------------------------------------3\")\n",
    "    single_card = my_deck.get_cards() # gets 1 card from available, left 44\n",
    "    print(\"----------------------------------------------------------------4\")\n",
    "    print(single_card) # 1 card \n",
    "    print(\"----------------------------------------------------------------5\")\n",
    "    print(my_deck.available)\n",
    "    print(\"----------------------------------------------------------------5\")\n",
    "    my_cards = my_deck.get_cards() # gets 1 cards from available, left 43\n",
    "    print(\"----------------------------------------------------------------7\")\n",
    "    print(my_cards)\n",
    "    print(\"----------------------------------------------------------------8\")\n",
    "    my_cards = my_deck.get_cards(15) #get 15, left 28"
   ]
  },
  {
   "cell_type": "code",
   "execution_count": 4,
   "metadata": {},
   "outputs": [
    {
     "name": "stdout",
     "output_type": "stream",
     "text": [
      "6 items had no tests:\n",
      "    __main__\n",
      "    __main__.Deck\n",
      "    __main__.Deck.__init__\n",
      "    __main__.Deck.get_cards\n",
      "    __main__.Deck.shuffle\n",
      "    __main__.get_shuffled_cards\n",
      "0 tests in 6 items.\n",
      "0 passed and 0 failed.\n",
      "Test passed.\n"
     ]
    }
   ],
   "source": [
    "if __name__==\"__main__\":\n",
    "    import doctest\n",
    "    doctest.testmod(verbose=True)"
   ]
  }
 ],
 "metadata": {
  "kernelspec": {
   "display_name": "Python 3.10.7 ('venv': venv)",
   "language": "python",
   "name": "python3"
  },
  "language_info": {
   "codemirror_mode": {
    "name": "ipython",
    "version": 3
   },
   "file_extension": ".py",
   "mimetype": "text/x-python",
   "name": "python",
   "nbconvert_exporter": "python",
   "pygments_lexer": "ipython3",
   "version": "3.10.7"
  },
  "orig_nbformat": 4,
  "vscode": {
   "interpreter": {
    "hash": "091e761e24fe66127ae47ddf3a06416362435e5d36a38a0dbf072a96138123f1"
   }
  }
 },
 "nbformat": 4,
 "nbformat_minor": 2
}
