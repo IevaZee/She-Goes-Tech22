{
 "cells": [
  {
   "cell_type": "markdown",
   "metadata": {},
   "source": [
    "# TODO \n",
    "* read emojihub.json into a Python data structure\n",
    "* add new key emoji to each dictionary with value of emoji\n",
    "* to do so you will need to extract Unicode numerical value from htmlCode value\n",
    "* save the new data structure to a file called emojihub_with_emoji.json\n",
    "* TIP: remember about ensure_ascii=False and encoding='utf-8'\n",
    "\n",
    "* for those who did not finish the exercise in class\n",
    "* alternative assignment would be to use the classword to find a public API not seen in class\n",
    "* and use requests to get the data and parse it into a Python data structure\n",
    "* then save it to a file\n",
    "\n",
    "# so a single entry should look like this:\n",
    "    # {\n",
    "    #     \"name\": \"pear\",\n",
    "    #     \"category\": \"food and drink\",\n",
    "    #     \"group\": \"food fruit\",\n",
    "    #     \"htmlCode\": [\n",
    "    #         \"&#127824;\"\n",
    "    #     ],\n",
    "    #     \"unicode\": [\n",
    "    #         \"U+1F350\"\n",
    "    #     ],\n",
    "    #     \"emoji\": \"🍐\" \n",
    "    # },\n",
    "    # more fruits would follow"
   ]
  },
  {
   "cell_type": "code",
   "execution_count": 76,
   "metadata": {},
   "outputs": [],
   "source": [
    "import requests\n",
    "import json\n",
    "import pandas as pd"
   ]
  },
  {
   "cell_type": "code",
   "execution_count": 77,
   "metadata": {},
   "outputs": [
    {
     "data": {
      "text/plain": [
       "'https://emojihub.herokuapp.com/api/all/category_food_and_drink'"
      ]
     },
     "execution_count": 77,
     "metadata": {},
     "output_type": "execute_result"
    }
   ],
   "source": [
    "url_base = \"https://emojihub.herokuapp.com/api/all/category_\"\n",
    "category_name = \"food_and_drink\"\n",
    "url = url_base + category_name \n",
    "url"
   ]
  },
  {
   "cell_type": "code",
   "execution_count": 78,
   "metadata": {},
   "outputs": [],
   "source": [
    "def getJSON(url):\n",
    "    response = requests.get(url)\n",
    "    if response.status_code != 200:\n",
    "        print(\"Bad Response: \", response.status_code)\n",
    "        return None # alternative would be empty list or dict\n",
    "    else:\n",
    "        print(\"Good Response: \", response.status_code)\n",
    "        return json.loads(response.text)\n"
   ]
  },
  {
   "cell_type": "code",
   "execution_count": 79,
   "metadata": {},
   "outputs": [
    {
     "name": "stdout",
     "output_type": "stream",
     "text": [
      "Good Response:  200\n"
     ]
    },
    {
     "data": {
      "text/plain": [
       "list"
      ]
     },
     "execution_count": 79,
     "metadata": {},
     "output_type": "execute_result"
    }
   ],
   "source": [
    "food_data = getJSON(url)\n",
    "type(food_data)"
   ]
  },
  {
   "cell_type": "code",
   "execution_count": 80,
   "metadata": {},
   "outputs": [
    {
     "data": {
      "text/plain": [
       "[{'name': 'grapes',\n",
       "  'category': 'food and drink',\n",
       "  'group': 'food fruit',\n",
       "  'htmlCode': ['&#127815;'],\n",
       "  'unicode': ['U+1F347']},\n",
       " {'name': 'melon',\n",
       "  'category': 'food and drink',\n",
       "  'group': 'food fruit',\n",
       "  'htmlCode': ['&#127816;'],\n",
       "  'unicode': ['U+1F348']},\n",
       " {'name': 'watermelon',\n",
       "  'category': 'food and drink',\n",
       "  'group': 'food fruit',\n",
       "  'htmlCode': ['&#127817;'],\n",
       "  'unicode': ['U+1F349']},\n",
       " {'name': 'tangerine',\n",
       "  'category': 'food and drink',\n",
       "  'group': 'food fruit',\n",
       "  'htmlCode': ['&#127818;'],\n",
       "  'unicode': ['U+1F34A']}]"
      ]
     },
     "execution_count": 80,
     "metadata": {},
     "output_type": "execute_result"
    }
   ],
   "source": [
    "food_data[:4]"
   ]
  },
  {
   "cell_type": "code",
   "execution_count": 81,
   "metadata": {},
   "outputs": [
    {
     "data": {
      "text/plain": [
       "'🍊'"
      ]
     },
     "execution_count": 81,
     "metadata": {},
     "output_type": "execute_result"
    }
   ],
   "source": [
    "chr(127818)"
   ]
  },
  {
   "cell_type": "code",
   "execution_count": 82,
   "metadata": {},
   "outputs": [],
   "source": [
    "with open('emojihub.json', mode='w') as f:\n",
    "    f.write(json.dumps(food_data,indent=4))"
   ]
  },
  {
   "cell_type": "code",
   "execution_count": 89,
   "metadata": {},
   "outputs": [],
   "source": [
    "def create_emoji(emoji_list):\n",
    "    for c in emoji_list:\n",
    "        for j in c['htmlCode']:\n",
    "            emoji = chr(int(j[2:-1]))\n",
    "            c['emoji']=emoji\n",
    "    return emoji_list\n",
    "\n",
    "emojihub_with_emoji = create_emoji(food_data)"
   ]
  },
  {
   "cell_type": "code",
   "execution_count": 90,
   "metadata": {},
   "outputs": [],
   "source": [
    "with open('added_emoji.json', mode='w',encoding=\"utf-8\") as f:\n",
    "    f.write(json.dumps(food_data, indent=4,  ensure_ascii=False))"
   ]
  }
 ],
 "metadata": {
  "kernelspec": {
   "display_name": "Python 3.10.7 ('venv': venv)",
   "language": "python",
   "name": "python3"
  },
  "language_info": {
   "codemirror_mode": {
    "name": "ipython",
    "version": 3
   },
   "file_extension": ".py",
   "mimetype": "text/x-python",
   "name": "python",
   "nbconvert_exporter": "python",
   "pygments_lexer": "ipython3",
   "version": "3.10.7"
  },
  "orig_nbformat": 4,
  "vscode": {
   "interpreter": {
    "hash": "091e761e24fe66127ae47ddf3a06416362435e5d36a38a0dbf072a96138123f1"
   }
  }
 },
 "nbformat": 4,
 "nbformat_minor": 2
}
