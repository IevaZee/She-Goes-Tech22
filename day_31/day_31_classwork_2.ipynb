{
 "cells": [
  {
   "cell_type": "markdown",
   "metadata": {},
   "source": [
    "# 1"
   ]
  },
  {
   "cell_type": "code",
   "execution_count": 1,
   "metadata": {},
   "outputs": [],
   "source": [
    "import doctest"
   ]
  },
  {
   "cell_type": "code",
   "execution_count": 4,
   "metadata": {},
   "outputs": [],
   "source": [
    "def add_mult(*args):\n",
    "    \"\"\"\n",
    "    >>> add_mult(1,2,3)\n",
    "    9\n",
    "    \"\"\"\n",
    "    number_list=list(args)\n",
    "    number_list.sort()\n",
    "    first_element=number_list[0]\n",
    "    second_element=number_list[1]\n",
    "    last_element=number_list[-1]\n",
    "    return (first_element+second_element)*last_element"
   ]
  },
  {
   "cell_type": "code",
   "execution_count": 5,
   "metadata": {},
   "outputs": [
    {
     "name": "stdout",
     "output_type": "stream",
     "text": [
      "Trying:\n",
      "    add_mult(1,2,3)\n",
      "Expecting:\n",
      "    9\n",
      "ok\n",
      "1 items had no tests:\n",
      "    __main__\n",
      "1 items passed all tests:\n",
      "   1 tests in __main__.add_mult\n",
      "1 tests in 2 items.\n",
      "1 passed and 0 failed.\n",
      "Test passed.\n"
     ]
    },
    {
     "data": {
      "text/plain": [
       "TestResults(failed=0, attempted=1)"
      ]
     },
     "execution_count": 5,
     "metadata": {},
     "output_type": "execute_result"
    }
   ],
   "source": [
    "doctest.testmod(verbose=True)"
   ]
  },
  {
   "cell_type": "markdown",
   "metadata": {},
   "source": [
    "# 2"
   ]
  },
  {
   "cell_type": "code",
   "execution_count": 6,
   "metadata": {},
   "outputs": [
    {
     "ename": "AssertionError",
     "evalue": "",
     "output_type": "error",
     "traceback": [
      "\u001b[0;31m---------------------------------------------------------------------------\u001b[0m",
      "\u001b[0;31mAssertionError\u001b[0m                            Traceback (most recent call last)",
      "Cell \u001b[0;32mIn [6], line 18\u001b[0m\n\u001b[1;32m     14\u001b[0m     \u001b[39massert\u001b[39;00m add_mult(\u001b[39m2\u001b[39m,\u001b[39m2\u001b[39m,\u001b[39m4\u001b[39m,\u001b[39m7\u001b[39m) \u001b[39m==\u001b[39m \u001b[39m5\u001b[39m\n\u001b[1;32m     17\u001b[0m \u001b[39mif\u001b[39;00m \u001b[39m__name__\u001b[39m \u001b[39m==\u001b[39m \u001b[39m'\u001b[39m\u001b[39m__main__\u001b[39m\u001b[39m'\u001b[39m:\n\u001b[0;32m---> 18\u001b[0m     test_mult()\n",
      "Cell \u001b[0;32mIn [6], line 12\u001b[0m, in \u001b[0;36mtest_mult\u001b[0;34m()\u001b[0m\n\u001b[1;32m      9\u001b[0m \u001b[39mdef\u001b[39;00m \u001b[39mtest_mult\u001b[39m():\n\u001b[1;32m     11\u001b[0m     \u001b[39massert\u001b[39;00m add_mult(\u001b[39m2\u001b[39m,\u001b[39m2\u001b[39m,\u001b[39m4\u001b[39m,\u001b[39m7\u001b[39m) \u001b[39m==\u001b[39m \u001b[39m28\u001b[39m\n\u001b[0;32m---> 12\u001b[0m     \u001b[39massert\u001b[39;00m add_mult(\u001b[39m1\u001b[39m,\u001b[39m2\u001b[39m,\u001b[39m3\u001b[39m) \u001b[39m==\u001b[39m \u001b[39m19\u001b[39m\n\u001b[1;32m     13\u001b[0m     \u001b[39massert\u001b[39;00m add_mult(\u001b[39m1\u001b[39m,\u001b[39m2\u001b[39m,\u001b[39m3\u001b[39m) \u001b[39m==\u001b[39m \u001b[39m9\u001b[39m\n\u001b[1;32m     14\u001b[0m     \u001b[39massert\u001b[39;00m add_mult(\u001b[39m2\u001b[39m,\u001b[39m2\u001b[39m,\u001b[39m4\u001b[39m,\u001b[39m7\u001b[39m) \u001b[39m==\u001b[39m \u001b[39m5\u001b[39m\n",
      "\u001b[0;31mAssertionError\u001b[0m: "
     ]
    }
   ],
   "source": [
    "def add_mult(*args):\n",
    "    number_list=list(args)\n",
    "    number_list.sort()\n",
    "    first_element=number_list[0]\n",
    "    second_element=number_list[1]\n",
    "    last_element=number_list[-1]\n",
    "    return (first_element+second_element)*last_element\n",
    "\n",
    "def test_mult():\n",
    "    \n",
    "    assert add_mult(2,2,4,7) == 28\n",
    "    assert add_mult(1,2,3) == 19\n",
    "    assert add_mult(1,2,3) == 9\n",
    "    assert add_mult(2,2,4,7) == 5\n",
    "\n",
    "\n",
    "if __name__ == '__main__':\n",
    "    test_mult()"
   ]
  }
 ],
 "metadata": {
  "kernelspec": {
   "display_name": "Python 3.10.7 ('venv': venv)",
   "language": "python",
   "name": "python3"
  },
  "language_info": {
   "codemirror_mode": {
    "name": "ipython",
    "version": 3
   },
   "file_extension": ".py",
   "mimetype": "text/x-python",
   "name": "python",
   "nbconvert_exporter": "python",
   "pygments_lexer": "ipython3",
   "version": "3.10.7"
  },
  "orig_nbformat": 4,
  "vscode": {
   "interpreter": {
    "hash": "091e761e24fe66127ae47ddf3a06416362435e5d36a38a0dbf072a96138123f1"
   }
  }
 },
 "nbformat": 4,
 "nbformat_minor": 2
}
