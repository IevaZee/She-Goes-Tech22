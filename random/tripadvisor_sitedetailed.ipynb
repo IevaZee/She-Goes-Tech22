{
 "cells": [
  {
   "cell_type": "code",
   "execution_count": 1,
   "metadata": {},
   "outputs": [],
   "source": [
    "from selenium import webdriver\n",
    "from selenium.webdriver.common.keys import Keys\n",
    "from selenium.webdriver.common.by import By\n",
    "\n",
    "import pandas as pd\n",
    "from bs4 import BeautifulSoup\n",
    "import sqlite3"
   ]
  },
  {
   "cell_type": "code",
   "execution_count": 2,
   "metadata": {},
   "outputs": [],
   "source": [
    "browser=webdriver.Chrome()"
   ]
  },
  {
   "cell_type": "code",
   "execution_count": 3,
   "metadata": {},
   "outputs": [],
   "source": [
    "browser.get('https://www.tripadvisor.in')\n"
   ]
  },
  {
   "cell_type": "code",
   "execution_count": 4,
   "metadata": {},
   "outputs": [],
   "source": [
    "accept = browser.find_element(By.ID, \"onetrust-accept-btn-handler\")\n",
    "accept.click()"
   ]
  },
  {
   "cell_type": "code",
   "execution_count": 5,
   "metadata": {},
   "outputs": [],
   "source": [
    "hotel_element = browser.find_element(By.CSS_SELECTOR, '[href=\"/Hotels\"]')\n",
    "hotel_element.click()\n"
   ]
  },
  {
   "cell_type": "code",
   "execution_count": 65,
   "metadata": {},
   "outputs": [],
   "source": [
    "# search_box = browser.find_element(By.CLASS_NAME, 'EcFTp')\n",
    "# search_box.click()\n"
   ]
  },
  {
   "cell_type": "code",
   "execution_count": 12,
   "metadata": {},
   "outputs": [
    {
     "ename": "ElementNotInteractableException",
     "evalue": "Message: element not interactable\n  (Session info: chrome=107.0.5304.110)\nStacktrace:\n0   chromedriver                        0x00000001041f0598 chromedriver + 4404632\n1   chromedriver                        0x0000000104177fa3 chromedriver + 3911587\n2   chromedriver                        0x0000000103e24d20 chromedriver + 425248\n3   chromedriver                        0x0000000103e56e5f chromedriver + 630367\n4   chromedriver                        0x0000000103e56402 chromedriver + 627714\n5   chromedriver                        0x0000000103e7ada2 chromedriver + 777634\n6   chromedriver                        0x0000000103e51465 chromedriver + 607333\n7   chromedriver                        0x0000000103e7aefe chromedriver + 777982\n8   chromedriver                        0x0000000103e91f79 chromedriver + 872313\n9   chromedriver                        0x0000000103e7abd3 chromedriver + 777171\n10  chromedriver                        0x0000000103e4fced chromedriver + 601325\n11  chromedriver                        0x0000000103e50e51 chromedriver + 605777\n12  chromedriver                        0x00000001041c00ce chromedriver + 4206798\n13  chromedriver                        0x00000001041c4797 chromedriver + 4224919\n14  chromedriver                        0x00000001041cba4f chromedriver + 4254287\n15  chromedriver                        0x00000001041c54da chromedriver + 4228314\n16  chromedriver                        0x000000010419e23f chromedriver + 4067903\n17  chromedriver                        0x00000001041e26a8 chromedriver + 4347560\n18  chromedriver                        0x00000001041e2816 chromedriver + 4347926\n19  chromedriver                        0x00000001041f78fe chromedriver + 4434174\n20  libsystem_pthread.dylib             0x00007ff80cc6e4e1 _pthread_start + 125\n21  libsystem_pthread.dylib             0x00007ff80cc69f6b thread_start + 15\n",
     "output_type": "error",
     "traceback": [
      "\u001b[0;31m---------------------------------------------------------------------------\u001b[0m",
      "\u001b[0;31mElementNotInteractableException\u001b[0m           Traceback (most recent call last)",
      "Cell \u001b[0;32mIn [12], line 3\u001b[0m\n\u001b[1;32m      1\u001b[0m \u001b[39m#two times to open and search\u001b[39;00m\n\u001b[1;32m      2\u001b[0m search \u001b[39m=\u001b[39m browser\u001b[39m.\u001b[39mfind_element(By\u001b[39m.\u001b[39mCSS_SELECTOR, \u001b[39m'\u001b[39m\u001b[39m[type=\u001b[39m\u001b[39m\"\u001b[39m\u001b[39msearch\u001b[39m\u001b[39m'\u001b[39m)\n\u001b[0;32m----> 3\u001b[0m search\u001b[39m.\u001b[39;49msend_keys(\u001b[39m'\u001b[39;49m\u001b[39mLondon\u001b[39;49m\u001b[39m'\u001b[39;49m \u001b[39m+\u001b[39;49m Keys\u001b[39m.\u001b[39;49mRETURN)\n",
      "File \u001b[0;32m~/Code/Github/She-Goes-Tech22/venv/lib/python3.10/site-packages/selenium/webdriver/remote/webelement.py:223\u001b[0m, in \u001b[0;36mWebElement.send_keys\u001b[0;34m(self, *value)\u001b[0m\n\u001b[1;32m    220\u001b[0m             remote_files\u001b[39m.\u001b[39mappend(\u001b[39mself\u001b[39m\u001b[39m.\u001b[39m_upload(file))\n\u001b[1;32m    221\u001b[0m         value \u001b[39m=\u001b[39m \u001b[39m'\u001b[39m\u001b[39m\\n\u001b[39;00m\u001b[39m'\u001b[39m\u001b[39m.\u001b[39mjoin(remote_files)\n\u001b[0;32m--> 223\u001b[0m \u001b[39mself\u001b[39;49m\u001b[39m.\u001b[39;49m_execute(Command\u001b[39m.\u001b[39;49mSEND_KEYS_TO_ELEMENT,\n\u001b[1;32m    224\u001b[0m               {\u001b[39m'\u001b[39;49m\u001b[39mtext\u001b[39;49m\u001b[39m'\u001b[39;49m: \u001b[39m\"\u001b[39;49m\u001b[39m\"\u001b[39;49m\u001b[39m.\u001b[39;49mjoin(keys_to_typing(value)),\n\u001b[1;32m    225\u001b[0m                \u001b[39m'\u001b[39;49m\u001b[39mvalue\u001b[39;49m\u001b[39m'\u001b[39;49m: keys_to_typing(value)})\n",
      "File \u001b[0;32m~/Code/Github/She-Goes-Tech22/venv/lib/python3.10/site-packages/selenium/webdriver/remote/webelement.py:396\u001b[0m, in \u001b[0;36mWebElement._execute\u001b[0;34m(self, command, params)\u001b[0m\n\u001b[1;32m    394\u001b[0m     params \u001b[39m=\u001b[39m {}\n\u001b[1;32m    395\u001b[0m params[\u001b[39m'\u001b[39m\u001b[39mid\u001b[39m\u001b[39m'\u001b[39m] \u001b[39m=\u001b[39m \u001b[39mself\u001b[39m\u001b[39m.\u001b[39m_id\n\u001b[0;32m--> 396\u001b[0m \u001b[39mreturn\u001b[39;00m \u001b[39mself\u001b[39;49m\u001b[39m.\u001b[39;49m_parent\u001b[39m.\u001b[39;49mexecute(command, params)\n",
      "File \u001b[0;32m~/Code/Github/She-Goes-Tech22/venv/lib/python3.10/site-packages/selenium/webdriver/remote/webdriver.py:429\u001b[0m, in \u001b[0;36mWebDriver.execute\u001b[0;34m(self, driver_command, params)\u001b[0m\n\u001b[1;32m    427\u001b[0m response \u001b[39m=\u001b[39m \u001b[39mself\u001b[39m\u001b[39m.\u001b[39mcommand_executor\u001b[39m.\u001b[39mexecute(driver_command, params)\n\u001b[1;32m    428\u001b[0m \u001b[39mif\u001b[39;00m response:\n\u001b[0;32m--> 429\u001b[0m     \u001b[39mself\u001b[39;49m\u001b[39m.\u001b[39;49merror_handler\u001b[39m.\u001b[39;49mcheck_response(response)\n\u001b[1;32m    430\u001b[0m     response[\u001b[39m'\u001b[39m\u001b[39mvalue\u001b[39m\u001b[39m'\u001b[39m] \u001b[39m=\u001b[39m \u001b[39mself\u001b[39m\u001b[39m.\u001b[39m_unwrap_value(\n\u001b[1;32m    431\u001b[0m         response\u001b[39m.\u001b[39mget(\u001b[39m'\u001b[39m\u001b[39mvalue\u001b[39m\u001b[39m'\u001b[39m, \u001b[39mNone\u001b[39;00m))\n\u001b[1;32m    432\u001b[0m     \u001b[39mreturn\u001b[39;00m response\n",
      "File \u001b[0;32m~/Code/Github/She-Goes-Tech22/venv/lib/python3.10/site-packages/selenium/webdriver/remote/errorhandler.py:243\u001b[0m, in \u001b[0;36mErrorHandler.check_response\u001b[0;34m(self, response)\u001b[0m\n\u001b[1;32m    241\u001b[0m         alert_text \u001b[39m=\u001b[39m value[\u001b[39m'\u001b[39m\u001b[39malert\u001b[39m\u001b[39m'\u001b[39m]\u001b[39m.\u001b[39mget(\u001b[39m'\u001b[39m\u001b[39mtext\u001b[39m\u001b[39m'\u001b[39m)\n\u001b[1;32m    242\u001b[0m     \u001b[39mraise\u001b[39;00m exception_class(message, screen, stacktrace, alert_text)  \u001b[39m# type: ignore[call-arg]  # mypy is not smart enough here\u001b[39;00m\n\u001b[0;32m--> 243\u001b[0m \u001b[39mraise\u001b[39;00m exception_class(message, screen, stacktrace)\n",
      "\u001b[0;31mElementNotInteractableException\u001b[0m: Message: element not interactable\n  (Session info: chrome=107.0.5304.110)\nStacktrace:\n0   chromedriver                        0x00000001041f0598 chromedriver + 4404632\n1   chromedriver                        0x0000000104177fa3 chromedriver + 3911587\n2   chromedriver                        0x0000000103e24d20 chromedriver + 425248\n3   chromedriver                        0x0000000103e56e5f chromedriver + 630367\n4   chromedriver                        0x0000000103e56402 chromedriver + 627714\n5   chromedriver                        0x0000000103e7ada2 chromedriver + 777634\n6   chromedriver                        0x0000000103e51465 chromedriver + 607333\n7   chromedriver                        0x0000000103e7aefe chromedriver + 777982\n8   chromedriver                        0x0000000103e91f79 chromedriver + 872313\n9   chromedriver                        0x0000000103e7abd3 chromedriver + 777171\n10  chromedriver                        0x0000000103e4fced chromedriver + 601325\n11  chromedriver                        0x0000000103e50e51 chromedriver + 605777\n12  chromedriver                        0x00000001041c00ce chromedriver + 4206798\n13  chromedriver                        0x00000001041c4797 chromedriver + 4224919\n14  chromedriver                        0x00000001041cba4f chromedriver + 4254287\n15  chromedriver                        0x00000001041c54da chromedriver + 4228314\n16  chromedriver                        0x000000010419e23f chromedriver + 4067903\n17  chromedriver                        0x00000001041e26a8 chromedriver + 4347560\n18  chromedriver                        0x00000001041e2816 chromedriver + 4347926\n19  chromedriver                        0x00000001041f78fe chromedriver + 4434174\n20  libsystem_pthread.dylib             0x00007ff80cc6e4e1 _pthread_start + 125\n21  libsystem_pthread.dylib             0x00007ff80cc69f6b thread_start + 15\n"
     ]
    }
   ],
   "source": [
    "#two times to open and search\n",
    "search = browser.find_element(By.CSS_SELECTOR, '[type=\"search')\n",
    "search.send_keys('London' + Keys.RETURN)\n",
    "\n"
   ]
  },
  {
   "cell_type": "code",
   "execution_count": 68,
   "metadata": {},
   "outputs": [],
   "source": [
    "\n",
    "\n"
   ]
  },
  {
   "cell_type": "code",
   "execution_count": 38,
   "metadata": {},
   "outputs": [],
   "source": [
    "soup = BeautifulSoup(browser.page_source, 'lxml')"
   ]
  },
  {
   "cell_type": "code",
   "execution_count": 39,
   "metadata": {},
   "outputs": [
    {
     "data": {
      "text/plain": [
       "['YOTEL London Shoreditch',\n",
       " 'The Montcalm Royal London House',\n",
       " 'Park Grand London Hyde Park',\n",
       " 'The Resident Covent Garden',\n",
       " 'Park Grand Paddington Court']"
      ]
     },
     "execution_count": 39,
     "metadata": {},
     "output_type": "execute_result"
    }
   ],
   "source": [
    "list_of_numbers = str(list(range(1, 101)))\n",
    "hotels = []\n",
    "for name in soup.findAll('a',{'data-clicksource':'HotelName'}):\n",
    "      hotels.append(name.text.strip(list_of_numbers + '.'))\n",
    "hotels[:5]\n"
   ]
  },
  {
   "cell_type": "code",
   "execution_count": 40,
   "metadata": {},
   "outputs": [
    {
     "data": {
      "text/plain": [
       "34"
      ]
     },
     "execution_count": 40,
     "metadata": {},
     "output_type": "execute_result"
    }
   ],
   "source": [
    "ratings = []\n",
    "for rating in soup.findAll('a',{'class':'ui_bubble_rating'}):\n",
    "      if rating['alt'] == \"5 of 5 bubbles\":\n",
    "            rating = 10\n",
    "      elif rating['alt'] == \"4.5 of 5 bubbles\":\n",
    "            rating = 9\n",
    "      elif rating['alt'] == \"4 of 5 bubbles\":\n",
    "            rating = 8\n",
    "      elif rating['alt'] == \"3.5 of 5 bubbles\":\n",
    "            rating = 7\n",
    "      elif rating['alt'] == \"3 of 5 bubbles\":\n",
    "            rating = 6\n",
    "      else:\n",
    "            rating = 5\n",
    "      ratings.append(rating)\n",
    "len(ratings)"
   ]
  },
  {
   "cell_type": "code",
   "execution_count": 41,
   "metadata": {},
   "outputs": [
    {
     "data": {
      "text/plain": [
       "34"
      ]
     },
     "execution_count": 41,
     "metadata": {},
     "output_type": "execute_result"
    }
   ],
   "source": [
    "reviews = []\n",
    "for review in soup.findAll('a',{'class':'review_count'}):\n",
    "  reviews.append(review.text.replace('reviews','').replace(',','').strip())\n",
    "len(reviews)"
   ]
  },
  {
   "cell_type": "code",
   "execution_count": 42,
   "metadata": {},
   "outputs": [
    {
     "data": {
      "text/plain": [
       "34"
      ]
     },
     "execution_count": 42,
     "metadata": {},
     "output_type": "execute_result"
    }
   ],
   "source": [
    "price = []\n",
    "for p in soup.findAll('div',{'data-sizegroup':'mini-meta-price'}):\n",
    "  price.append(p.text.replace('€','').replace(',','').strip()) \n",
    "price[:5]\n",
    "len(price)"
   ]
  },
  {
   "cell_type": "code",
   "execution_count": 43,
   "metadata": {},
   "outputs": [],
   "source": [
    "d1 = {'Hotel':hotels,'Ratings':ratings,'No_of_Reviews':reviews,'Price, €':price}\n",
    "df = pd.DataFrame.from_dict(d1)"
   ]
  },
  {
   "cell_type": "code",
   "execution_count": 44,
   "metadata": {},
   "outputs": [
    {
     "data": {
      "text/html": [
       "<div>\n",
       "<style scoped>\n",
       "    .dataframe tbody tr th:only-of-type {\n",
       "        vertical-align: middle;\n",
       "    }\n",
       "\n",
       "    .dataframe tbody tr th {\n",
       "        vertical-align: top;\n",
       "    }\n",
       "\n",
       "    .dataframe thead th {\n",
       "        text-align: right;\n",
       "    }\n",
       "</style>\n",
       "<table border=\"1\" class=\"dataframe\">\n",
       "  <thead>\n",
       "    <tr style=\"text-align: right;\">\n",
       "      <th></th>\n",
       "      <th>Hotel</th>\n",
       "      <th>Ratings</th>\n",
       "      <th>No_of_Reviews</th>\n",
       "      <th>Price, €</th>\n",
       "    </tr>\n",
       "  </thead>\n",
       "  <tbody>\n",
       "    <tr>\n",
       "      <th>0</th>\n",
       "      <td>YOTEL London Shoreditch</td>\n",
       "      <td>9</td>\n",
       "      <td>685</td>\n",
       "      <td>112</td>\n",
       "    </tr>\n",
       "    <tr>\n",
       "      <th>1</th>\n",
       "      <td>The Montcalm Royal London House</td>\n",
       "      <td>10</td>\n",
       "      <td>3354</td>\n",
       "      <td>207</td>\n",
       "    </tr>\n",
       "    <tr>\n",
       "      <th>2</th>\n",
       "      <td>Park Grand London Hyde Park</td>\n",
       "      <td>8</td>\n",
       "      <td>3362</td>\n",
       "      <td>166</td>\n",
       "    </tr>\n",
       "    <tr>\n",
       "      <th>3</th>\n",
       "      <td>The Resident Covent Garden</td>\n",
       "      <td>10</td>\n",
       "      <td>1244</td>\n",
       "      <td>302</td>\n",
       "    </tr>\n",
       "    <tr>\n",
       "      <th>4</th>\n",
       "      <td>Park Grand Paddington Court</td>\n",
       "      <td>9</td>\n",
       "      <td>3212</td>\n",
       "      <td>145</td>\n",
       "    </tr>\n",
       "    <tr>\n",
       "      <th>5</th>\n",
       "      <td>Travelodge London City hotel</td>\n",
       "      <td>9</td>\n",
       "      <td>2378</td>\n",
       "      <td>59</td>\n",
       "    </tr>\n",
       "    <tr>\n",
       "      <th>6</th>\n",
       "      <td>The Biltmore Mayfair, LXR Hotels &amp; Resorts</td>\n",
       "      <td>8</td>\n",
       "      <td>173</td>\n",
       "      <td>930</td>\n",
       "    </tr>\n",
       "    <tr>\n",
       "      <th>7</th>\n",
       "      <td>Canopy by Hilton London City</td>\n",
       "      <td>10</td>\n",
       "      <td>424</td>\n",
       "      <td>194</td>\n",
       "    </tr>\n",
       "    <tr>\n",
       "      <th>8</th>\n",
       "      <td>The Montcalm London Marble Arch</td>\n",
       "      <td>10</td>\n",
       "      <td>3812</td>\n",
       "      <td>473</td>\n",
       "    </tr>\n",
       "    <tr>\n",
       "      <th>9</th>\n",
       "      <td>Hard Rock Hotel London</td>\n",
       "      <td>9</td>\n",
       "      <td>2244</td>\n",
       "      <td>386</td>\n",
       "    </tr>\n",
       "    <tr>\n",
       "      <th>10</th>\n",
       "      <td>The Clermont, Charing Cross</td>\n",
       "      <td>10</td>\n",
       "      <td>6724</td>\n",
       "      <td>385</td>\n",
       "    </tr>\n",
       "    <tr>\n",
       "      <th>11</th>\n",
       "      <td>The Tower Hotel</td>\n",
       "      <td>8</td>\n",
       "      <td>12243</td>\n",
       "      <td>156</td>\n",
       "    </tr>\n",
       "    <tr>\n",
       "      <th>12</th>\n",
       "      <td>Novotel London Tower Bridge</td>\n",
       "      <td>8</td>\n",
       "      <td>3709</td>\n",
       "      <td>175</td>\n",
       "    </tr>\n",
       "    <tr>\n",
       "      <th>13</th>\n",
       "      <td>Travelodge London Docklands Central</td>\n",
       "      <td>8</td>\n",
       "      <td>576</td>\n",
       "      <td>74</td>\n",
       "    </tr>\n",
       "    <tr>\n",
       "      <th>14</th>\n",
       "      <td>Leonardo Royal Hotel London St. Paul's</td>\n",
       "      <td>8</td>\n",
       "      <td>1457</td>\n",
       "      <td>214</td>\n",
       "    </tr>\n",
       "    <tr>\n",
       "      <th>15</th>\n",
       "      <td>Leonardo Royal London Tower Bridge</td>\n",
       "      <td>8</td>\n",
       "      <td>2147</td>\n",
       "      <td>178</td>\n",
       "    </tr>\n",
       "    <tr>\n",
       "      <th>16</th>\n",
       "      <td>Holiday Inn London - West</td>\n",
       "      <td>9</td>\n",
       "      <td>1281</td>\n",
       "      <td>99</td>\n",
       "    </tr>\n",
       "    <tr>\n",
       "      <th>17</th>\n",
       "      <td>Royal National Hotel</td>\n",
       "      <td>6</td>\n",
       "      <td>10766</td>\n",
       "      <td>217</td>\n",
       "    </tr>\n",
       "    <tr>\n",
       "      <th>18</th>\n",
       "      <td>Park Plaza Westminster Bridge London</td>\n",
       "      <td>9</td>\n",
       "      <td>23721</td>\n",
       "      <td>301</td>\n",
       "    </tr>\n",
       "    <tr>\n",
       "      <th>19</th>\n",
       "      <td>Travelodge London Central City Road</td>\n",
       "      <td>8</td>\n",
       "      <td>2198</td>\n",
       "      <td>65</td>\n",
       "    </tr>\n",
       "    <tr>\n",
       "      <th>20</th>\n",
       "      <td>The Montague on The Gardens</td>\n",
       "      <td>10</td>\n",
       "      <td>5449</td>\n",
       "      <td>347</td>\n",
       "    </tr>\n",
       "    <tr>\n",
       "      <th>21</th>\n",
       "      <td>The Standard, London</td>\n",
       "      <td>9</td>\n",
       "      <td>495</td>\n",
       "      <td>306</td>\n",
       "    </tr>\n",
       "    <tr>\n",
       "      <th>22</th>\n",
       "      <td>Millennium Gloucester Hotel London Kensington</td>\n",
       "      <td>8</td>\n",
       "      <td>6715</td>\n",
       "      <td>137</td>\n",
       "    </tr>\n",
       "    <tr>\n",
       "      <th>23</th>\n",
       "      <td>The Resident Kensington</td>\n",
       "      <td>9</td>\n",
       "      <td>4753</td>\n",
       "      <td>194</td>\n",
       "    </tr>\n",
       "    <tr>\n",
       "      <th>24</th>\n",
       "      <td>Travelodge London Manor House</td>\n",
       "      <td>9</td>\n",
       "      <td>264</td>\n",
       "      <td>96</td>\n",
       "    </tr>\n",
       "    <tr>\n",
       "      <th>25</th>\n",
       "      <td>The Bailey's Hotel London Kensington</td>\n",
       "      <td>9</td>\n",
       "      <td>1923</td>\n",
       "      <td>233</td>\n",
       "    </tr>\n",
       "    <tr>\n",
       "      <th>26</th>\n",
       "      <td>The Clarendon</td>\n",
       "      <td>8</td>\n",
       "      <td>2944</td>\n",
       "      <td>154</td>\n",
       "    </tr>\n",
       "    <tr>\n",
       "      <th>27</th>\n",
       "      <td>Travelodge London Covent Garden</td>\n",
       "      <td>8</td>\n",
       "      <td>12308</td>\n",
       "      <td>91</td>\n",
       "    </tr>\n",
       "    <tr>\n",
       "      <th>28</th>\n",
       "      <td>Grand Royale London Hyde Park</td>\n",
       "      <td>8</td>\n",
       "      <td>5417</td>\n",
       "      <td>139</td>\n",
       "    </tr>\n",
       "    <tr>\n",
       "      <th>29</th>\n",
       "      <td>The President Hotel</td>\n",
       "      <td>7</td>\n",
       "      <td>4704</td>\n",
       "      <td>193</td>\n",
       "    </tr>\n",
       "    <tr>\n",
       "      <th>30</th>\n",
       "      <td>Premier Inn London Hendon (The Hyde) hotel</td>\n",
       "      <td>8</td>\n",
       "      <td>842</td>\n",
       "      <td>82</td>\n",
       "    </tr>\n",
       "    <tr>\n",
       "      <th>31</th>\n",
       "      <td>St. Athans Hotel</td>\n",
       "      <td>8</td>\n",
       "      <td>855</td>\n",
       "      <td>109</td>\n",
       "    </tr>\n",
       "    <tr>\n",
       "      <th>32</th>\n",
       "      <td>Novotel London West</td>\n",
       "      <td>8</td>\n",
       "      <td>5326</td>\n",
       "      <td>164</td>\n",
       "    </tr>\n",
       "    <tr>\n",
       "      <th>33</th>\n",
       "      <td>Mercure London Bridge</td>\n",
       "      <td>9</td>\n",
       "      <td>440</td>\n",
       "      <td>188</td>\n",
       "    </tr>\n",
       "  </tbody>\n",
       "</table>\n",
       "</div>"
      ],
      "text/plain": [
       "                                            Hotel  Ratings No_of_Reviews  \\\n",
       "0                         YOTEL London Shoreditch        9           685   \n",
       "1                 The Montcalm Royal London House       10          3354   \n",
       "2                     Park Grand London Hyde Park        8          3362   \n",
       "3                      The Resident Covent Garden       10          1244   \n",
       "4                     Park Grand Paddington Court        9          3212   \n",
       "5                    Travelodge London City hotel        9          2378   \n",
       "6      The Biltmore Mayfair, LXR Hotels & Resorts        8           173   \n",
       "7                    Canopy by Hilton London City       10           424   \n",
       "8                 The Montcalm London Marble Arch       10          3812   \n",
       "9                          Hard Rock Hotel London        9          2244   \n",
       "10                    The Clermont, Charing Cross       10          6724   \n",
       "11                                The Tower Hotel        8         12243   \n",
       "12                    Novotel London Tower Bridge        8          3709   \n",
       "13            Travelodge London Docklands Central        8           576   \n",
       "14         Leonardo Royal Hotel London St. Paul's        8          1457   \n",
       "15             Leonardo Royal London Tower Bridge        8          2147   \n",
       "16                      Holiday Inn London - West        9          1281   \n",
       "17                           Royal National Hotel        6         10766   \n",
       "18           Park Plaza Westminster Bridge London        9         23721   \n",
       "19            Travelodge London Central City Road        8          2198   \n",
       "20                    The Montague on The Gardens       10          5449   \n",
       "21                           The Standard, London        9           495   \n",
       "22  Millennium Gloucester Hotel London Kensington        8          6715   \n",
       "23                        The Resident Kensington        9          4753   \n",
       "24                  Travelodge London Manor House        9           264   \n",
       "25           The Bailey's Hotel London Kensington        9          1923   \n",
       "26                                  The Clarendon        8          2944   \n",
       "27                Travelodge London Covent Garden        8         12308   \n",
       "28                  Grand Royale London Hyde Park        8          5417   \n",
       "29                            The President Hotel        7          4704   \n",
       "30     Premier Inn London Hendon (The Hyde) hotel        8           842   \n",
       "31                               St. Athans Hotel        8           855   \n",
       "32                            Novotel London West        8          5326   \n",
       "33                          Mercure London Bridge        9           440   \n",
       "\n",
       "   Price, €  \n",
       "0       112  \n",
       "1       207  \n",
       "2       166  \n",
       "3       302  \n",
       "4       145  \n",
       "5        59  \n",
       "6       930  \n",
       "7       194  \n",
       "8       473  \n",
       "9       386  \n",
       "10      385  \n",
       "11      156  \n",
       "12      175  \n",
       "13       74  \n",
       "14      214  \n",
       "15      178  \n",
       "16       99  \n",
       "17      217  \n",
       "18      301  \n",
       "19       65  \n",
       "20      347  \n",
       "21      306  \n",
       "22      137  \n",
       "23      194  \n",
       "24       96  \n",
       "25      233  \n",
       "26      154  \n",
       "27       91  \n",
       "28      139  \n",
       "29      193  \n",
       "30       82  \n",
       "31      109  \n",
       "32      164  \n",
       "33      188  "
      ]
     },
     "execution_count": 44,
     "metadata": {},
     "output_type": "execute_result"
    }
   ],
   "source": [
    "df"
   ]
  },
  {
   "cell_type": "code",
   "execution_count": 45,
   "metadata": {},
   "outputs": [],
   "source": [
    "df.to_csv(\"tripadvisor_london_list.csv\")"
   ]
  },
  {
   "cell_type": "code",
   "execution_count": 46,
   "metadata": {},
   "outputs": [],
   "source": [
    "conn = sqlite3.connect('my_data.db')\n",
    "c = conn.cursor()"
   ]
  },
  {
   "cell_type": "code",
   "execution_count": 47,
   "metadata": {},
   "outputs": [
    {
     "data": {
      "text/html": [
       "<div>\n",
       "<style scoped>\n",
       "    .dataframe tbody tr th:only-of-type {\n",
       "        vertical-align: middle;\n",
       "    }\n",
       "\n",
       "    .dataframe tbody tr th {\n",
       "        vertical-align: top;\n",
       "    }\n",
       "\n",
       "    .dataframe thead th {\n",
       "        text-align: right;\n",
       "    }\n",
       "</style>\n",
       "<table border=\"1\" class=\"dataframe\">\n",
       "  <thead>\n",
       "    <tr style=\"text-align: right;\">\n",
       "      <th></th>\n",
       "      <th>Unnamed: 0</th>\n",
       "      <th>Hotel</th>\n",
       "      <th>Ratings</th>\n",
       "      <th>No_of_Reviews</th>\n",
       "      <th>Price, €</th>\n",
       "    </tr>\n",
       "  </thead>\n",
       "  <tbody>\n",
       "    <tr>\n",
       "      <th>0</th>\n",
       "      <td>0</td>\n",
       "      <td>YOTEL London Shoreditch</td>\n",
       "      <td>9</td>\n",
       "      <td>685</td>\n",
       "      <td>112</td>\n",
       "    </tr>\n",
       "    <tr>\n",
       "      <th>1</th>\n",
       "      <td>1</td>\n",
       "      <td>The Montcalm Royal London House</td>\n",
       "      <td>10</td>\n",
       "      <td>3354</td>\n",
       "      <td>207</td>\n",
       "    </tr>\n",
       "    <tr>\n",
       "      <th>2</th>\n",
       "      <td>2</td>\n",
       "      <td>Park Grand London Hyde Park</td>\n",
       "      <td>8</td>\n",
       "      <td>3362</td>\n",
       "      <td>166</td>\n",
       "    </tr>\n",
       "    <tr>\n",
       "      <th>3</th>\n",
       "      <td>3</td>\n",
       "      <td>The Resident Covent Garden</td>\n",
       "      <td>10</td>\n",
       "      <td>1244</td>\n",
       "      <td>302</td>\n",
       "    </tr>\n",
       "    <tr>\n",
       "      <th>4</th>\n",
       "      <td>4</td>\n",
       "      <td>Park Grand Paddington Court</td>\n",
       "      <td>9</td>\n",
       "      <td>3212</td>\n",
       "      <td>145</td>\n",
       "    </tr>\n",
       "  </tbody>\n",
       "</table>\n",
       "</div>"
      ],
      "text/plain": [
       "   Unnamed: 0                            Hotel  Ratings  No_of_Reviews  \\\n",
       "0           0          YOTEL London Shoreditch        9            685   \n",
       "1           1  The Montcalm Royal London House       10           3354   \n",
       "2           2      Park Grand London Hyde Park        8           3362   \n",
       "3           3       The Resident Covent Garden       10           1244   \n",
       "4           4      Park Grand Paddington Court        9           3212   \n",
       "\n",
       "   Price, €  \n",
       "0       112  \n",
       "1       207  \n",
       "2       166  \n",
       "3       302  \n",
       "4       145  "
      ]
     },
     "execution_count": 47,
     "metadata": {},
     "output_type": "execute_result"
    }
   ],
   "source": [
    "tripadvisor = pd.read_csv('tripadvisor_london_list.csv')\n",
    "tripadvisor.head()\n"
   ]
  },
  {
   "cell_type": "code",
   "execution_count": 48,
   "metadata": {},
   "outputs": [
    {
     "data": {
      "text/plain": [
       "34"
      ]
     },
     "execution_count": 48,
     "metadata": {},
     "output_type": "execute_result"
    }
   ],
   "source": [
    "tripadvisor.to_sql('tripadvisor', conn, if_exists='append', index = False)\n"
   ]
  },
  {
   "cell_type": "code",
   "execution_count": 49,
   "metadata": {},
   "outputs": [
    {
     "data": {
      "text/html": [
       "<div>\n",
       "<style scoped>\n",
       "    .dataframe tbody tr th:only-of-type {\n",
       "        vertical-align: middle;\n",
       "    }\n",
       "\n",
       "    .dataframe tbody tr th {\n",
       "        vertical-align: top;\n",
       "    }\n",
       "\n",
       "    .dataframe thead th {\n",
       "        text-align: right;\n",
       "    }\n",
       "</style>\n",
       "<table border=\"1\" class=\"dataframe\">\n",
       "  <thead>\n",
       "    <tr style=\"text-align: right;\">\n",
       "      <th></th>\n",
       "      <th>Unnamed: 0</th>\n",
       "      <th>Hotel</th>\n",
       "      <th>Ratings</th>\n",
       "      <th>No_of_Reviews</th>\n",
       "      <th>Price, €</th>\n",
       "    </tr>\n",
       "  </thead>\n",
       "  <tbody>\n",
       "    <tr>\n",
       "      <th>0</th>\n",
       "      <td>0</td>\n",
       "      <td>Fitzrovia Hotel</td>\n",
       "      <td>7.8</td>\n",
       "      <td>2624</td>\n",
       "      <td>221</td>\n",
       "    </tr>\n",
       "    <tr>\n",
       "      <th>1</th>\n",
       "      <td>1</td>\n",
       "      <td>ApartaSuites Emerald</td>\n",
       "      <td>8.2</td>\n",
       "      <td>4</td>\n",
       "      <td>171</td>\n",
       "    </tr>\n",
       "    <tr>\n",
       "      <th>2</th>\n",
       "      <td>2</td>\n",
       "      <td>The Windmill On The Common</td>\n",
       "      <td>8.5</td>\n",
       "      <td>767</td>\n",
       "      <td>146</td>\n",
       "    </tr>\n",
       "    <tr>\n",
       "      <th>3</th>\n",
       "      <td>3</td>\n",
       "      <td>The Kings Arms</td>\n",
       "      <td>9.4</td>\n",
       "      <td>612</td>\n",
       "      <td>204</td>\n",
       "    </tr>\n",
       "    <tr>\n",
       "      <th>4</th>\n",
       "      <td>4</td>\n",
       "      <td>The Tommyfield Hotel</td>\n",
       "      <td>8.6</td>\n",
       "      <td>483</td>\n",
       "      <td>135</td>\n",
       "    </tr>\n",
       "  </tbody>\n",
       "</table>\n",
       "</div>"
      ],
      "text/plain": [
       "   Unnamed: 0                       Hotel  Ratings  No_of_Reviews  Price, €\n",
       "0           0             Fitzrovia Hotel      7.8           2624       221\n",
       "1           1        ApartaSuites Emerald      8.2              4       171\n",
       "2           2  The Windmill On The Common      8.5            767       146\n",
       "3           3              The Kings Arms      9.4            612       204\n",
       "4           4        The Tommyfield Hotel      8.6            483       135"
      ]
     },
     "execution_count": 49,
     "metadata": {},
     "output_type": "execute_result"
    }
   ],
   "source": [
    "booking = pd.read_csv('bookingcom_london_list.csv')\n",
    "booking.head()"
   ]
  },
  {
   "cell_type": "code",
   "execution_count": 50,
   "metadata": {},
   "outputs": [
    {
     "data": {
      "text/plain": [
       "25"
      ]
     },
     "execution_count": 50,
     "metadata": {},
     "output_type": "execute_result"
    }
   ],
   "source": [
    "booking.to_sql('booking_com', conn, if_exists='append', index = False)"
   ]
  }
 ],
 "metadata": {
  "kernelspec": {
   "display_name": "Python 3.10.7 ('venv': venv)",
   "language": "python",
   "name": "python3"
  },
  "language_info": {
   "codemirror_mode": {
    "name": "ipython",
    "version": 3
   },
   "file_extension": ".py",
   "mimetype": "text/x-python",
   "name": "python",
   "nbconvert_exporter": "python",
   "pygments_lexer": "ipython3",
   "version": "3.10.7"
  },
  "orig_nbformat": 4,
  "vscode": {
   "interpreter": {
    "hash": "091e761e24fe66127ae47ddf3a06416362435e5d36a38a0dbf072a96138123f1"
   }
  }
 },
 "nbformat": 4,
 "nbformat_minor": 2
}
