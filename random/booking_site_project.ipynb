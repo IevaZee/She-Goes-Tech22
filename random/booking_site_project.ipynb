{
 "cells": [
  {
   "cell_type": "markdown",
   "metadata": {},
   "source": [
    "# Web Scraping\n",
    "# To do:\n",
    "* Load booking.com and tripadvisor.com pages\n",
    "* in search line insert city, date and number of people (It can be London, December 05-11th)\n",
    "* search factors can differ according to page (tripadvisor might need room number)\n",
    "* by default hotels are persented by popularity, so let's just take first 10, 15 or 20 and upload when to dataframe table\n",
    "* table consist of: hotel name, price, rating, (can be number of reviews or smth else)\n"
   ]
  },
  {
   "cell_type": "markdown",
   "metadata": {},
   "source": [
    "* After having two separate tables, maybe make one table if popular hotels are on both sites and when do comparison\n",
    "* how many hotels are popular on both sites\n",
    "* How prices differ on the sites (maybe make some graph)\n",
    "* how ratings differ\n"
   ]
  },
  {
   "cell_type": "code",
   "execution_count": 78,
   "metadata": {},
   "outputs": [],
   "source": [
    "from selenium import webdriver\n",
    "from selenium.webdriver.common.keys import Keys\n",
    "from selenium.webdriver.common.by import By\n",
    "from datetime import datetime\n",
    "import datetime\n",
    "\n",
    "import pandas as pd\n",
    "from bs4 import BeautifulSoup"
   ]
  },
  {
   "cell_type": "code",
   "execution_count": 126,
   "metadata": {},
   "outputs": [],
   "source": [
    "browser=webdriver.Chrome()"
   ]
  },
  {
   "cell_type": "code",
   "execution_count": 127,
   "metadata": {},
   "outputs": [],
   "source": [
    "#load Booking.com page\n",
    "browser.get('https://www.booking.com')\n",
    "assert 'Booking.com' in browser.title \n"
   ]
  },
  {
   "cell_type": "code",
   "execution_count": 128,
   "metadata": {},
   "outputs": [],
   "source": [
    "#Click accept button\n",
    "accept = browser.find_element(By.ID, \"onetrust-accept-btn-handler\")\n",
    "accept.click()"
   ]
  },
  {
   "cell_type": "code",
   "execution_count": 129,
   "metadata": {},
   "outputs": [],
   "source": [
    "#Enter destination\n",
    "search_box = browser.find_element(By.NAME, 'ss')\n",
    "search_box.send_keys('London' + Keys.RETURN)"
   ]
  },
  {
   "cell_type": "code",
   "execution_count": 83,
   "metadata": {},
   "outputs": [
    {
     "ename": "NoSuchElementException",
     "evalue": "Message: no such element: Unable to locate element: {\"method\":\"css selector\",\"selector\":\"[aria-label=\"Dismiss sign in information.\"]\"}\n  (Session info: chrome=107.0.5304.110)\nStacktrace:\n0   chromedriver                        0x000000010684f598 chromedriver + 4404632\n1   chromedriver                        0x00000001067d6fa3 chromedriver + 3911587\n2   chromedriver                        0x0000000106483e6a chromedriver + 425578\n3   chromedriver                        0x00000001064bbc91 chromedriver + 654481\n4   chromedriver                        0x00000001064bbe91 chromedriver + 654993\n5   chromedriver                        0x00000001064f3274 chromedriver + 881268\n6   chromedriver                        0x00000001064d9dcd chromedriver + 777677\n7   chromedriver                        0x00000001064f0f79 chromedriver + 872313\n8   chromedriver                        0x00000001064d9bd3 chromedriver + 777171\n9   chromedriver                        0x00000001064aeced chromedriver + 601325\n10  chromedriver                        0x00000001064afe51 chromedriver + 605777\n11  chromedriver                        0x000000010681f0ce chromedriver + 4206798\n12  chromedriver                        0x0000000106823797 chromedriver + 4224919\n13  chromedriver                        0x000000010682aa4f chromedriver + 4254287\n14  chromedriver                        0x00000001068244da chromedriver + 4228314\n15  chromedriver                        0x00000001067fd23f chromedriver + 4067903\n16  chromedriver                        0x00000001068416a8 chromedriver + 4347560\n17  chromedriver                        0x0000000106841816 chromedriver + 4347926\n18  chromedriver                        0x00000001068568fe chromedriver + 4434174\n19  libsystem_pthread.dylib             0x00007ff80cc6e4e1 _pthread_start + 125\n20  libsystem_pthread.dylib             0x00007ff80cc69f6b thread_start + 15\n",
     "output_type": "error",
     "traceback": [
      "\u001b[0;31m---------------------------------------------------------------------------\u001b[0m",
      "\u001b[0;31mNoSuchElementException\u001b[0m                    Traceback (most recent call last)",
      "Cell \u001b[0;32mIn [83], line 1\u001b[0m\n\u001b[0;32m----> 1\u001b[0m genius_element \u001b[39m=\u001b[39m browser\u001b[39m.\u001b[39;49mfind_element(By\u001b[39m.\u001b[39;49mCSS_SELECTOR, \u001b[39m'\u001b[39;49m\u001b[39m[aria-label=\u001b[39;49m\u001b[39m\"\u001b[39;49m\u001b[39mDismiss sign in information.\u001b[39;49m\u001b[39m\"\u001b[39;49m\u001b[39m]\u001b[39;49m\u001b[39m'\u001b[39;49m)\n\u001b[1;32m      2\u001b[0m genius_element\u001b[39m.\u001b[39mclick()\n",
      "File \u001b[0;32m~/Code/Github/She-Goes-Tech22/venv/lib/python3.10/site-packages/selenium/webdriver/remote/webdriver.py:856\u001b[0m, in \u001b[0;36mWebDriver.find_element\u001b[0;34m(self, by, value)\u001b[0m\n\u001b[1;32m    853\u001b[0m     by \u001b[39m=\u001b[39m By\u001b[39m.\u001b[39mCSS_SELECTOR\n\u001b[1;32m    854\u001b[0m     value \u001b[39m=\u001b[39m \u001b[39m'\u001b[39m\u001b[39m[name=\u001b[39m\u001b[39m\"\u001b[39m\u001b[39m%s\u001b[39;00m\u001b[39m\"\u001b[39m\u001b[39m]\u001b[39m\u001b[39m'\u001b[39m \u001b[39m%\u001b[39m value\n\u001b[0;32m--> 856\u001b[0m \u001b[39mreturn\u001b[39;00m \u001b[39mself\u001b[39;49m\u001b[39m.\u001b[39;49mexecute(Command\u001b[39m.\u001b[39;49mFIND_ELEMENT, {\n\u001b[1;32m    857\u001b[0m     \u001b[39m'\u001b[39;49m\u001b[39musing\u001b[39;49m\u001b[39m'\u001b[39;49m: by,\n\u001b[1;32m    858\u001b[0m     \u001b[39m'\u001b[39;49m\u001b[39mvalue\u001b[39;49m\u001b[39m'\u001b[39;49m: value})[\u001b[39m'\u001b[39m\u001b[39mvalue\u001b[39m\u001b[39m'\u001b[39m]\n",
      "File \u001b[0;32m~/Code/Github/She-Goes-Tech22/venv/lib/python3.10/site-packages/selenium/webdriver/remote/webdriver.py:429\u001b[0m, in \u001b[0;36mWebDriver.execute\u001b[0;34m(self, driver_command, params)\u001b[0m\n\u001b[1;32m    427\u001b[0m response \u001b[39m=\u001b[39m \u001b[39mself\u001b[39m\u001b[39m.\u001b[39mcommand_executor\u001b[39m.\u001b[39mexecute(driver_command, params)\n\u001b[1;32m    428\u001b[0m \u001b[39mif\u001b[39;00m response:\n\u001b[0;32m--> 429\u001b[0m     \u001b[39mself\u001b[39;49m\u001b[39m.\u001b[39;49merror_handler\u001b[39m.\u001b[39;49mcheck_response(response)\n\u001b[1;32m    430\u001b[0m     response[\u001b[39m'\u001b[39m\u001b[39mvalue\u001b[39m\u001b[39m'\u001b[39m] \u001b[39m=\u001b[39m \u001b[39mself\u001b[39m\u001b[39m.\u001b[39m_unwrap_value(\n\u001b[1;32m    431\u001b[0m         response\u001b[39m.\u001b[39mget(\u001b[39m'\u001b[39m\u001b[39mvalue\u001b[39m\u001b[39m'\u001b[39m, \u001b[39mNone\u001b[39;00m))\n\u001b[1;32m    432\u001b[0m     \u001b[39mreturn\u001b[39;00m response\n",
      "File \u001b[0;32m~/Code/Github/She-Goes-Tech22/venv/lib/python3.10/site-packages/selenium/webdriver/remote/errorhandler.py:243\u001b[0m, in \u001b[0;36mErrorHandler.check_response\u001b[0;34m(self, response)\u001b[0m\n\u001b[1;32m    241\u001b[0m         alert_text \u001b[39m=\u001b[39m value[\u001b[39m'\u001b[39m\u001b[39malert\u001b[39m\u001b[39m'\u001b[39m]\u001b[39m.\u001b[39mget(\u001b[39m'\u001b[39m\u001b[39mtext\u001b[39m\u001b[39m'\u001b[39m)\n\u001b[1;32m    242\u001b[0m     \u001b[39mraise\u001b[39;00m exception_class(message, screen, stacktrace, alert_text)  \u001b[39m# type: ignore[call-arg]  # mypy is not smart enough here\u001b[39;00m\n\u001b[0;32m--> 243\u001b[0m \u001b[39mraise\u001b[39;00m exception_class(message, screen, stacktrace)\n",
      "\u001b[0;31mNoSuchElementException\u001b[0m: Message: no such element: Unable to locate element: {\"method\":\"css selector\",\"selector\":\"[aria-label=\"Dismiss sign in information.\"]\"}\n  (Session info: chrome=107.0.5304.110)\nStacktrace:\n0   chromedriver                        0x000000010684f598 chromedriver + 4404632\n1   chromedriver                        0x00000001067d6fa3 chromedriver + 3911587\n2   chromedriver                        0x0000000106483e6a chromedriver + 425578\n3   chromedriver                        0x00000001064bbc91 chromedriver + 654481\n4   chromedriver                        0x00000001064bbe91 chromedriver + 654993\n5   chromedriver                        0x00000001064f3274 chromedriver + 881268\n6   chromedriver                        0x00000001064d9dcd chromedriver + 777677\n7   chromedriver                        0x00000001064f0f79 chromedriver + 872313\n8   chromedriver                        0x00000001064d9bd3 chromedriver + 777171\n9   chromedriver                        0x00000001064aeced chromedriver + 601325\n10  chromedriver                        0x00000001064afe51 chromedriver + 605777\n11  chromedriver                        0x000000010681f0ce chromedriver + 4206798\n12  chromedriver                        0x0000000106823797 chromedriver + 4224919\n13  chromedriver                        0x000000010682aa4f chromedriver + 4254287\n14  chromedriver                        0x00000001068244da chromedriver + 4228314\n15  chromedriver                        0x00000001067fd23f chromedriver + 4067903\n16  chromedriver                        0x00000001068416a8 chromedriver + 4347560\n17  chromedriver                        0x0000000106841816 chromedriver + 4347926\n18  chromedriver                        0x00000001068568fe chromedriver + 4434174\n19  libsystem_pthread.dylib             0x00007ff80cc6e4e1 _pthread_start + 125\n20  libsystem_pthread.dylib             0x00007ff80cc69f6b thread_start + 15\n"
     ]
    }
   ],
   "source": [
    "#If needed remove Genius advertisements\n",
    "genius_element = browser.find_element(By.CSS_SELECTOR, '[aria-label=\"Dismiss sign in information.\"]')\n",
    "genius_element.click()\n"
   ]
  },
  {
   "cell_type": "code",
   "execution_count": 132,
   "metadata": {},
   "outputs": [],
   "source": [
    "#Press calendar button to enter check in date (without check out date system automatically sets one night stay)\n",
    "calendar_button = browser.find_element(By.CLASS_NAME, 'd47738b911')\n",
    "calendar_button.click()\n"
   ]
  },
  {
   "cell_type": "code",
   "execution_count": 134,
   "metadata": {},
   "outputs": [],
   "source": [
    "#Move forward/backwards to choose the month of the stay\n",
    "forward_calendar_page = browser.find_element(By.CLASS_NAME,\"be298b15fa\")\n",
    "forward_calendar_page.click()"
   ]
  },
  {
   "cell_type": "code",
   "execution_count": 125,
   "metadata": {},
   "outputs": [],
   "source": [
    "backward_calendar_page = browser.find_element(By.CLASS_NAME,\"ab15620a33\")\n",
    "backward_calendar_page.click()\n"
   ]
  },
  {
   "cell_type": "code",
   "execution_count": 135,
   "metadata": {},
   "outputs": [],
   "source": [
    "#Enter check in date\n",
    "check_in_date = browser.find_element(By.CSS_SELECTOR, '[data-date=\"2023-02-09\"]')\n",
    "check_in_date.click()\n"
   ]
  },
  {
   "cell_type": "code",
   "execution_count": 136,
   "metadata": {},
   "outputs": [],
   "source": [
    "submit = browser.find_element(By.CSS_SELECTOR, '[type=submit]')\n",
    "submit.click()"
   ]
  },
  {
   "cell_type": "code",
   "execution_count": 147,
   "metadata": {},
   "outputs": [],
   "source": [
    "#To avoid new accomodations let's set required review scores\n",
    "number_list=list(range(90, 50, -10))\n",
    "number_list\n",
    "for i in number_list:\n",
    "    review_score = browser.find_element(By.CSS_SELECTOR, f\"[data-filters-item='review_score:review_score={i}']\")\n",
    "    review_score.click()\n"
   ]
  },
  {
   "cell_type": "code",
   "execution_count": 148,
   "metadata": {},
   "outputs": [],
   "source": [
    "soup = BeautifulSoup(browser.page_source, 'lxml')"
   ]
  },
  {
   "cell_type": "code",
   "execution_count": 149,
   "metadata": {},
   "outputs": [
    {
     "data": {
      "text/plain": [
       "25"
      ]
     },
     "execution_count": 149,
     "metadata": {},
     "output_type": "execute_result"
    }
   ],
   "source": [
    "hotels = []\n",
    "for name in soup.findAll('div',{'data-testid':'title'}):\n",
    "  hotels.append(name.text.strip())\n",
    "hotels[:5]\n",
    "len(hotels)"
   ]
  },
  {
   "cell_type": "code",
   "execution_count": 150,
   "metadata": {},
   "outputs": [
    {
     "data": {
      "text/plain": [
       "25"
      ]
     },
     "execution_count": 150,
     "metadata": {},
     "output_type": "execute_result"
    }
   ],
   "source": [
    "ratings = []\n",
    "for rating in soup.findAll('div',{'class':'d10a6220b4'}):\n",
    "      ratings.append(rating.text.strip())\n",
    "len(ratings)\n",
    "\n"
   ]
  },
  {
   "cell_type": "code",
   "execution_count": 151,
   "metadata": {},
   "outputs": [
    {
     "data": {
      "text/plain": [
       "25"
      ]
     },
     "execution_count": 151,
     "metadata": {},
     "output_type": "execute_result"
    }
   ],
   "source": [
    "reviews = []\n",
    "for review in soup.findAll('div',{'class':'db63693c62'}):\n",
    "  reviews.append(review.text.replace('reviews','').replace(',','').strip())\n",
    "reviews[:5]\n",
    "len(reviews)"
   ]
  },
  {
   "cell_type": "code",
   "execution_count": 152,
   "metadata": {},
   "outputs": [
    {
     "data": {
      "text/plain": [
       "25"
      ]
     },
     "execution_count": 152,
     "metadata": {},
     "output_type": "execute_result"
    }
   ],
   "source": [
    "price = []\n",
    "for p in soup.findAll('span',{'class':['fbd1d3018c', 'bd73d13072']}):\n",
    "  price.append(p.text.replace('€','').replace(',','').strip()) \n",
    "price[:5]\n",
    "len(price)"
   ]
  },
  {
   "cell_type": "code",
   "execution_count": 153,
   "metadata": {},
   "outputs": [],
   "source": [
    "d1 = {'Hotel':hotels,'Ratings':ratings,'No_of_Reviews':reviews,'Price, €':price}\n",
    "df = pd.DataFrame.from_dict(d1)"
   ]
  },
  {
   "cell_type": "code",
   "execution_count": 154,
   "metadata": {},
   "outputs": [
    {
     "data": {
      "text/html": [
       "<div>\n",
       "<style scoped>\n",
       "    .dataframe tbody tr th:only-of-type {\n",
       "        vertical-align: middle;\n",
       "    }\n",
       "\n",
       "    .dataframe tbody tr th {\n",
       "        vertical-align: top;\n",
       "    }\n",
       "\n",
       "    .dataframe thead th {\n",
       "        text-align: right;\n",
       "    }\n",
       "</style>\n",
       "<table border=\"1\" class=\"dataframe\">\n",
       "  <thead>\n",
       "    <tr style=\"text-align: right;\">\n",
       "      <th></th>\n",
       "      <th>Hotel</th>\n",
       "      <th>Ratings</th>\n",
       "      <th>No_of_Reviews</th>\n",
       "      <th>Price, €</th>\n",
       "    </tr>\n",
       "  </thead>\n",
       "  <tbody>\n",
       "    <tr>\n",
       "      <th>0</th>\n",
       "      <td>Langham Court Hotel</td>\n",
       "      <td>7.1</td>\n",
       "      <td>2282</td>\n",
       "      <td>180</td>\n",
       "    </tr>\n",
       "    <tr>\n",
       "      <th>1</th>\n",
       "      <td>Leonardo Royal London St Paul’s</td>\n",
       "      <td>8.2</td>\n",
       "      <td>2209</td>\n",
       "      <td>288</td>\n",
       "    </tr>\n",
       "    <tr>\n",
       "      <th>2</th>\n",
       "      <td>Radisson Blu Edwardian Kenilworth Hotel, London</td>\n",
       "      <td>8.0</td>\n",
       "      <td>2251</td>\n",
       "      <td>268</td>\n",
       "    </tr>\n",
       "    <tr>\n",
       "      <th>3</th>\n",
       "      <td>The Dilly</td>\n",
       "      <td>7.4</td>\n",
       "      <td>2163</td>\n",
       "      <td>257</td>\n",
       "    </tr>\n",
       "    <tr>\n",
       "      <th>4</th>\n",
       "      <td>The Westminster London, Curio Collection by Hi...</td>\n",
       "      <td>8.2</td>\n",
       "      <td>3001</td>\n",
       "      <td>168</td>\n",
       "    </tr>\n",
       "    <tr>\n",
       "      <th>5</th>\n",
       "      <td>Park Grand London Kensington</td>\n",
       "      <td>8.0</td>\n",
       "      <td>6024</td>\n",
       "      <td>259</td>\n",
       "    </tr>\n",
       "    <tr>\n",
       "      <th>6</th>\n",
       "      <td>Zedwell Piccadilly Circus</td>\n",
       "      <td>7.6</td>\n",
       "      <td>15024</td>\n",
       "      <td>119</td>\n",
       "    </tr>\n",
       "    <tr>\n",
       "      <th>7</th>\n",
       "      <td>Alexandra Hotel</td>\n",
       "      <td>7.0</td>\n",
       "      <td>3055</td>\n",
       "      <td>80</td>\n",
       "    </tr>\n",
       "    <tr>\n",
       "      <th>8</th>\n",
       "      <td>Holiday Inn London Camden Lock, an IHG Hotel</td>\n",
       "      <td>8.2</td>\n",
       "      <td>3447</td>\n",
       "      <td>197</td>\n",
       "    </tr>\n",
       "    <tr>\n",
       "      <th>9</th>\n",
       "      <td>Studios2Let</td>\n",
       "      <td>7.7</td>\n",
       "      <td>5478</td>\n",
       "      <td>126</td>\n",
       "    </tr>\n",
       "    <tr>\n",
       "      <th>10</th>\n",
       "      <td>The Chesterfield Mayfair</td>\n",
       "      <td>8.9</td>\n",
       "      <td>2182</td>\n",
       "      <td>279</td>\n",
       "    </tr>\n",
       "    <tr>\n",
       "      <th>11</th>\n",
       "      <td>Millennium Gloucester Hotel London</td>\n",
       "      <td>7.3</td>\n",
       "      <td>7882</td>\n",
       "      <td>149</td>\n",
       "    </tr>\n",
       "    <tr>\n",
       "      <th>12</th>\n",
       "      <td>The Mandeville Hotel</td>\n",
       "      <td>8.2</td>\n",
       "      <td>2262</td>\n",
       "      <td>269</td>\n",
       "    </tr>\n",
       "    <tr>\n",
       "      <th>13</th>\n",
       "      <td>Inhabit, Southwick Street</td>\n",
       "      <td>8.0</td>\n",
       "      <td>3435</td>\n",
       "      <td>207</td>\n",
       "    </tr>\n",
       "    <tr>\n",
       "      <th>14</th>\n",
       "      <td>64-66 Avonmore Road Kensington Olympia</td>\n",
       "      <td>9.5</td>\n",
       "      <td>13</td>\n",
       "      <td>181</td>\n",
       "    </tr>\n",
       "    <tr>\n",
       "      <th>15</th>\n",
       "      <td>The Tower Hotel</td>\n",
       "      <td>7.9</td>\n",
       "      <td>13364</td>\n",
       "      <td>155</td>\n",
       "    </tr>\n",
       "    <tr>\n",
       "      <th>16</th>\n",
       "      <td>Millennium Hotel London Knightsbridge</td>\n",
       "      <td>6.7</td>\n",
       "      <td>2538</td>\n",
       "      <td>176</td>\n",
       "    </tr>\n",
       "    <tr>\n",
       "      <th>17</th>\n",
       "      <td>Pestana Chelsea Bridge Hotel</td>\n",
       "      <td>8.2</td>\n",
       "      <td>2546</td>\n",
       "      <td>186</td>\n",
       "    </tr>\n",
       "    <tr>\n",
       "      <th>18</th>\n",
       "      <td>Hilton London Kensington Hotel</td>\n",
       "      <td>7.0</td>\n",
       "      <td>2654</td>\n",
       "      <td>132</td>\n",
       "    </tr>\n",
       "    <tr>\n",
       "      <th>19</th>\n",
       "      <td>Radisson Blu Edwardian Grafton Hotel, London</td>\n",
       "      <td>8.0</td>\n",
       "      <td>2866</td>\n",
       "      <td>219</td>\n",
       "    </tr>\n",
       "    <tr>\n",
       "      <th>20</th>\n",
       "      <td>Radisson Blu Edwardian New Providence Wharf Ho...</td>\n",
       "      <td>8.8</td>\n",
       "      <td>2885</td>\n",
       "      <td>311</td>\n",
       "    </tr>\n",
       "    <tr>\n",
       "      <th>21</th>\n",
       "      <td>Club Quarters Hotel St Paul's, London</td>\n",
       "      <td>7.7</td>\n",
       "      <td>3653</td>\n",
       "      <td>199</td>\n",
       "    </tr>\n",
       "    <tr>\n",
       "      <th>22</th>\n",
       "      <td>The Z Hotel Victoria</td>\n",
       "      <td>7.9</td>\n",
       "      <td>5934</td>\n",
       "      <td>103</td>\n",
       "    </tr>\n",
       "    <tr>\n",
       "      <th>23</th>\n",
       "      <td>Merit Kensington Hotel</td>\n",
       "      <td>8.4</td>\n",
       "      <td>3440</td>\n",
       "      <td>181</td>\n",
       "    </tr>\n",
       "    <tr>\n",
       "      <th>24</th>\n",
       "      <td>Studios2Let - North Gower</td>\n",
       "      <td>7.5</td>\n",
       "      <td>1323</td>\n",
       "      <td>118</td>\n",
       "    </tr>\n",
       "  </tbody>\n",
       "</table>\n",
       "</div>"
      ],
      "text/plain": [
       "                                                Hotel Ratings No_of_Reviews  \\\n",
       "0                                 Langham Court Hotel     7.1          2282   \n",
       "1                     Leonardo Royal London St Paul’s     8.2          2209   \n",
       "2     Radisson Blu Edwardian Kenilworth Hotel, London     8.0          2251   \n",
       "3                                           The Dilly     7.4          2163   \n",
       "4   The Westminster London, Curio Collection by Hi...     8.2          3001   \n",
       "5                        Park Grand London Kensington     8.0          6024   \n",
       "6                           Zedwell Piccadilly Circus     7.6         15024   \n",
       "7                                     Alexandra Hotel     7.0          3055   \n",
       "8        Holiday Inn London Camden Lock, an IHG Hotel     8.2          3447   \n",
       "9                                         Studios2Let     7.7          5478   \n",
       "10                           The Chesterfield Mayfair     8.9          2182   \n",
       "11                 Millennium Gloucester Hotel London     7.3          7882   \n",
       "12                               The Mandeville Hotel     8.2          2262   \n",
       "13                          Inhabit, Southwick Street     8.0          3435   \n",
       "14             64-66 Avonmore Road Kensington Olympia     9.5            13   \n",
       "15                                    The Tower Hotel     7.9         13364   \n",
       "16              Millennium Hotel London Knightsbridge     6.7          2538   \n",
       "17                       Pestana Chelsea Bridge Hotel     8.2          2546   \n",
       "18                     Hilton London Kensington Hotel     7.0          2654   \n",
       "19       Radisson Blu Edwardian Grafton Hotel, London     8.0          2866   \n",
       "20  Radisson Blu Edwardian New Providence Wharf Ho...     8.8          2885   \n",
       "21              Club Quarters Hotel St Paul's, London     7.7          3653   \n",
       "22                               The Z Hotel Victoria     7.9          5934   \n",
       "23                             Merit Kensington Hotel     8.4          3440   \n",
       "24                          Studios2Let - North Gower     7.5          1323   \n",
       "\n",
       "   Price, €  \n",
       "0       180  \n",
       "1       288  \n",
       "2       268  \n",
       "3       257  \n",
       "4       168  \n",
       "5       259  \n",
       "6       119  \n",
       "7        80  \n",
       "8       197  \n",
       "9       126  \n",
       "10      279  \n",
       "11      149  \n",
       "12      269  \n",
       "13      207  \n",
       "14      181  \n",
       "15      155  \n",
       "16      176  \n",
       "17      186  \n",
       "18      132  \n",
       "19      219  \n",
       "20      311  \n",
       "21      199  \n",
       "22      103  \n",
       "23      181  \n",
       "24      118  "
      ]
     },
     "execution_count": 154,
     "metadata": {},
     "output_type": "execute_result"
    }
   ],
   "source": [
    "df"
   ]
  }
 ],
 "metadata": {
  "kernelspec": {
   "display_name": "Python 3.10.7 ('venv': venv)",
   "language": "python",
   "name": "python3"
  },
  "language_info": {
   "codemirror_mode": {
    "name": "ipython",
    "version": 3
   },
   "file_extension": ".py",
   "mimetype": "text/x-python",
   "name": "python",
   "nbconvert_exporter": "python",
   "pygments_lexer": "ipython3",
   "version": "3.10.7"
  },
  "orig_nbformat": 4,
  "vscode": {
   "interpreter": {
    "hash": "091e761e24fe66127ae47ddf3a06416362435e5d36a38a0dbf072a96138123f1"
   }
  }
 },
 "nbformat": 4,
 "nbformat_minor": 2
}
